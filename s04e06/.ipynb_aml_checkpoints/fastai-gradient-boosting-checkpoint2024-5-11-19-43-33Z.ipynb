{
  "cells": [
    {
      "cell_type": "markdown",
      "source": [
        "# Classification model to predict students' dropout and academic sucess.\n",
        "\n",
        "The dataset contains information collected from a higher education institution related to students undertaking different degree programs.\n",
        "The original dataset contains information known at the time of student enrollment and the student's academic perfromance at the end of the 1st and 2nd semester.\n",
        "\n",
        "The target is split into three distinct categories namely Dropout, Enrolled and Graduate.\n",
        "\n",
        "In this spirit, I shall build classification models using various architectures to predict the student's dropout and academic success.This can then be used to predict which students are most likely to drop out at an early stage so that strategies can be put in place to counter this.\n",
        "\n",
        "That would help reduce the rate of academic dropout and failure."
      ],
      "metadata": {
        "id": "PnoQ0_VdLaOc"
      }
    },
    {
      "cell_type": "markdown",
      "source": [
        "## Import Libraries and Datasets"
      ],
      "metadata": {
        "id": "9OxKc8QxLWir"
      }
    },
    {
      "cell_type": "markdown",
      "source": [
        "### Libraries"
      ],
      "metadata": {
        "id": "fYKulgvoLlxF"
      }
    },
    {
      "cell_type": "markdown",
      "source": [
        "## Imports\n",
        "\n",
        "Below, i import all the libraries and datasets needed for this competition."
      ],
      "metadata": {
        "id": "YRiKSLsk_8Ia"
      }
    },
    {
      "cell_type": "code",
      "source": [
        "%pip install -Uqq fastbook\n"
      ],
      "outputs": [
        {
          "output_type": "stream",
          "name": "stdout",
          "text": "Note: you may need to restart the kernel to use updated packages.\n"
        }
      ],
      "execution_count": 1,
      "metadata": {
        "jupyter": {
          "source_hidden": false,
          "outputs_hidden": false
        },
        "nteract": {
          "transient": {
            "deleting": false
          }
        }
      }
    },
    {
      "cell_type": "code",
      "source": [
        "%pip install catboost\n",
        "%pip install optuna\n",
        "%pip install optuna_distributed\n",
        "%pip install openfe\n",
        "%pip install xgboost\n"
      ],
      "outputs": [
        {
          "output_type": "stream",
          "name": "stdout",
          "text": "Requirement already satisfied: catboost in /anaconda/envs/azureml_py38_PT_TF/lib/python3.8/site-packages (1.2.5)\nRequirement already satisfied: graphviz in /anaconda/envs/azureml_py38_PT_TF/lib/python3.8/site-packages (from catboost) (0.20.3)\nRequirement already satisfied: matplotlib in /anaconda/envs/azureml_py38_PT_TF/lib/python3.8/site-packages (from catboost) (3.7.1)\nRequirement already satisfied: numpy>=1.16.0 in /anaconda/envs/azureml_py38_PT_TF/lib/python3.8/site-packages (from catboost) (1.23.5)\nRequirement already satisfied: pandas>=0.24 in /anaconda/envs/azureml_py38_PT_TF/lib/python3.8/site-packages (from catboost) (2.0.2)\nRequirement already satisfied: scipy in /anaconda/envs/azureml_py38_PT_TF/lib/python3.8/site-packages (from catboost) (1.9.1)\nRequirement already satisfied: plotly in /anaconda/envs/azureml_py38_PT_TF/lib/python3.8/site-packages (from catboost) (5.15.0)\nRequirement already satisfied: six in /anaconda/envs/azureml_py38_PT_TF/lib/python3.8/site-packages (from catboost) (1.16.0)\nRequirement already satisfied: python-dateutil>=2.8.2 in /anaconda/envs/azureml_py38_PT_TF/lib/python3.8/site-packages (from pandas>=0.24->catboost) (2.8.2)\nRequirement already satisfied: pytz>=2020.1 in /anaconda/envs/azureml_py38_PT_TF/lib/python3.8/site-packages (from pandas>=0.24->catboost) (2023.3)\nRequirement already satisfied: tzdata>=2022.1 in /anaconda/envs/azureml_py38_PT_TF/lib/python3.8/site-packages (from pandas>=0.24->catboost) (2023.3)\nRequirement already satisfied: contourpy>=1.0.1 in /anaconda/envs/azureml_py38_PT_TF/lib/python3.8/site-packages (from matplotlib->catboost) (1.1.0)\nRequirement already satisfied: cycler>=0.10 in /anaconda/envs/azureml_py38_PT_TF/lib/python3.8/site-packages (from matplotlib->catboost) (0.11.0)\nRequirement already satisfied: fonttools>=4.22.0 in /anaconda/envs/azureml_py38_PT_TF/lib/python3.8/site-packages (from matplotlib->catboost) (4.40.0)\nRequirement already satisfied: kiwisolver>=1.0.1 in /anaconda/envs/azureml_py38_PT_TF/lib/python3.8/site-packages (from matplotlib->catboost) (1.4.4)\nRequirement already satisfied: packaging>=20.0 in /anaconda/envs/azureml_py38_PT_TF/lib/python3.8/site-packages (from matplotlib->catboost) (23.0)\nRequirement already satisfied: pillow>=6.2.0 in /anaconda/envs/azureml_py38_PT_TF/lib/python3.8/site-packages (from matplotlib->catboost) (9.5.0)\nRequirement already satisfied: pyparsing>=2.3.1 in /anaconda/envs/azureml_py38_PT_TF/lib/python3.8/site-packages (from matplotlib->catboost) (3.1.0)\nRequirement already satisfied: importlib-resources>=3.2.0 in /anaconda/envs/azureml_py38_PT_TF/lib/python3.8/site-packages (from matplotlib->catboost) (5.12.0)\nRequirement already satisfied: tenacity>=6.2.0 in /anaconda/envs/azureml_py38_PT_TF/lib/python3.8/site-packages (from plotly->catboost) (8.2.2)\nRequirement already satisfied: zipp>=3.1.0 in /anaconda/envs/azureml_py38_PT_TF/lib/python3.8/site-packages (from importlib-resources>=3.2.0->matplotlib->catboost) (3.15.0)\nNote: you may need to restart the kernel to use updated packages.\nRequirement already satisfied: optuna in /anaconda/envs/azureml_py38_PT_TF/lib/python3.8/site-packages (3.6.1)\nRequirement already satisfied: alembic>=1.5.0 in /anaconda/envs/azureml_py38_PT_TF/lib/python3.8/site-packages (from optuna) (1.13.1)\nRequirement already satisfied: colorlog in /anaconda/envs/azureml_py38_PT_TF/lib/python3.8/site-packages (from optuna) (6.8.2)\nRequirement already satisfied: numpy in /anaconda/envs/azureml_py38_PT_TF/lib/python3.8/site-packages (from optuna) (1.23.5)\nRequirement already satisfied: packaging>=20.0 in /anaconda/envs/azureml_py38_PT_TF/lib/python3.8/site-packages (from optuna) (23.0)\nRequirement already satisfied: sqlalchemy>=1.3.0 in /anaconda/envs/azureml_py38_PT_TF/lib/python3.8/site-packages (from optuna) (2.0.30)\nRequirement already satisfied: tqdm in /anaconda/envs/azureml_py38_PT_TF/lib/python3.8/site-packages (from optuna) (4.65.0)\nRequirement already satisfied: PyYAML in /anaconda/envs/azureml_py38_PT_TF/lib/python3.8/site-packages (from optuna) (6.0)\nRequirement already satisfied: Mako in /anaconda/envs/azureml_py38_PT_TF/lib/python3.8/site-packages (from alembic>=1.5.0->optuna) (1.3.5)\nRequirement already satisfied: typing-extensions>=4 in /anaconda/envs/azureml_py38_PT_TF/lib/python3.8/site-packages (from alembic>=1.5.0->optuna) (4.6.3)\nRequirement already satisfied: importlib-metadata in /anaconda/envs/azureml_py38_PT_TF/lib/python3.8/site-packages (from alembic>=1.5.0->optuna) (6.7.0)\nRequirement already satisfied: importlib-resources in /anaconda/envs/azureml_py38_PT_TF/lib/python3.8/site-packages (from alembic>=1.5.0->optuna) (5.12.0)\nRequirement already satisfied: greenlet!=0.4.17 in /anaconda/envs/azureml_py38_PT_TF/lib/python3.8/site-packages (from sqlalchemy>=1.3.0->optuna) (3.0.3)\nRequirement already satisfied: zipp>=0.5 in /anaconda/envs/azureml_py38_PT_TF/lib/python3.8/site-packages (from importlib-metadata->alembic>=1.5.0->optuna) (3.15.0)\nRequirement already satisfied: MarkupSafe>=0.9.2 in /anaconda/envs/azureml_py38_PT_TF/lib/python3.8/site-packages (from Mako->alembic>=1.5.0->optuna) (2.1.3)\nNote: you may need to restart the kernel to use updated packages.\nRequirement already satisfied: optuna_distributed in /anaconda/envs/azureml_py38_PT_TF/lib/python3.8/site-packages (0.6.2)\nRequirement already satisfied: optuna>=3.1.0 in /anaconda/envs/azureml_py38_PT_TF/lib/python3.8/site-packages (from optuna_distributed) (3.6.1)\nRequirement already satisfied: dask[distributed] in /anaconda/envs/azureml_py38_PT_TF/lib/python3.8/site-packages (from optuna_distributed) (2023.5.0)\nRequirement already satisfied: rich in /anaconda/envs/azureml_py38_PT_TF/lib/python3.8/site-packages (from optuna_distributed) (13.7.1)\nRequirement already satisfied: alembic>=1.5.0 in /anaconda/envs/azureml_py38_PT_TF/lib/python3.8/site-packages (from optuna>=3.1.0->optuna_distributed) (1.13.1)\nRequirement already satisfied: colorlog in /anaconda/envs/azureml_py38_PT_TF/lib/python3.8/site-packages (from optuna>=3.1.0->optuna_distributed) (6.8.2)\nRequirement already satisfied: numpy in /anaconda/envs/azureml_py38_PT_TF/lib/python3.8/site-packages (from optuna>=3.1.0->optuna_distributed) (1.23.5)\nRequirement already satisfied: packaging>=20.0 in /anaconda/envs/azureml_py38_PT_TF/lib/python3.8/site-packages (from optuna>=3.1.0->optuna_distributed) (23.0)\nRequirement already satisfied: sqlalchemy>=1.3.0 in /anaconda/envs/azureml_py38_PT_TF/lib/python3.8/site-packages (from optuna>=3.1.0->optuna_distributed) (2.0.30)\nRequirement already satisfied: tqdm in /anaconda/envs/azureml_py38_PT_TF/lib/python3.8/site-packages (from optuna>=3.1.0->optuna_distributed) (4.65.0)\nRequirement already satisfied: PyYAML in /anaconda/envs/azureml_py38_PT_TF/lib/python3.8/site-packages (from optuna>=3.1.0->optuna_distributed) (6.0)\nRequirement already satisfied: click>=8.0 in /anaconda/envs/azureml_py38_PT_TF/lib/python3.8/site-packages (from dask[distributed]->optuna_distributed) (8.1.3)\nRequirement already satisfied: cloudpickle>=1.5.0 in /anaconda/envs/azureml_py38_PT_TF/lib/python3.8/site-packages (from dask[distributed]->optuna_distributed) (2.2.1)\nRequirement already satisfied: fsspec>=2021.09.0 in /anaconda/envs/azureml_py38_PT_TF/lib/python3.8/site-packages (from dask[distributed]->optuna_distributed) (2024.3.1)\nRequirement already satisfied: partd>=1.2.0 in /anaconda/envs/azureml_py38_PT_TF/lib/python3.8/site-packages (from dask[distributed]->optuna_distributed) (1.4.1)\nRequirement already satisfied: toolz>=0.10.0 in /anaconda/envs/azureml_py38_PT_TF/lib/python3.8/site-packages (from dask[distributed]->optuna_distributed) (0.12.1)\nRequirement already satisfied: importlib-metadata>=4.13.0 in /anaconda/envs/azureml_py38_PT_TF/lib/python3.8/site-packages (from dask[distributed]->optuna_distributed) (6.7.0)\nRequirement already satisfied: distributed==2023.5.0 in /anaconda/envs/azureml_py38_PT_TF/lib/python3.8/site-packages (from dask[distributed]->optuna_distributed) (2023.5.0)\nRequirement already satisfied: jinja2>=2.10.3 in /anaconda/envs/azureml_py38_PT_TF/lib/python3.8/site-packages (from distributed==2023.5.0->dask[distributed]->optuna_distributed) (3.1.2)\nRequirement already satisfied: locket>=1.0.0 in /anaconda/envs/azureml_py38_PT_TF/lib/python3.8/site-packages (from distributed==2023.5.0->dask[distributed]->optuna_distributed) (1.0.0)\nRequirement already satisfied: msgpack>=1.0.0 in /anaconda/envs/azureml_py38_PT_TF/lib/python3.8/site-packages (from distributed==2023.5.0->dask[distributed]->optuna_distributed) (1.0.8)\nRequirement already satisfied: psutil>=5.7.0 in /anaconda/envs/azureml_py38_PT_TF/lib/python3.8/site-packages (from distributed==2023.5.0->dask[distributed]->optuna_distributed) (5.9.0)\nRequirement already satisfied: sortedcontainers>=2.0.5 in /anaconda/envs/azureml_py38_PT_TF/lib/python3.8/site-packages (from distributed==2023.5.0->dask[distributed]->optuna_distributed) (2.4.0)\nRequirement already satisfied: tblib>=1.6.0 in /anaconda/envs/azureml_py38_PT_TF/lib/python3.8/site-packages (from distributed==2023.5.0->dask[distributed]->optuna_distributed) (3.0.0)\nRequirement already satisfied: tornado>=6.0.3 in /anaconda/envs/azureml_py38_PT_TF/lib/python3.8/site-packages (from distributed==2023.5.0->dask[distributed]->optuna_distributed) (6.3.2)\nRequirement already satisfied: urllib3>=1.24.3 in /anaconda/envs/azureml_py38_PT_TF/lib/python3.8/site-packages (from distributed==2023.5.0->dask[distributed]->optuna_distributed) (1.26.16)\nRequirement already satisfied: zict>=2.2.0 in /anaconda/envs/azureml_py38_PT_TF/lib/python3.8/site-packages (from distributed==2023.5.0->dask[distributed]->optuna_distributed) (3.0.0)\nRequirement already satisfied: markdown-it-py>=2.2.0 in /anaconda/envs/azureml_py38_PT_TF/lib/python3.8/site-packages (from rich->optuna_distributed) (3.0.0)\nRequirement already satisfied: pygments<3.0.0,>=2.13.0 in /anaconda/envs/azureml_py38_PT_TF/lib/python3.8/site-packages (from rich->optuna_distributed) (2.15.1)\nRequirement already satisfied: typing-extensions<5.0,>=4.0.0 in /anaconda/envs/azureml_py38_PT_TF/lib/python3.8/site-packages (from rich->optuna_distributed) (4.6.3)\nRequirement already satisfied: Mako in /anaconda/envs/azureml_py38_PT_TF/lib/python3.8/site-packages (from alembic>=1.5.0->optuna>=3.1.0->optuna_distributed) (1.3.5)\nRequirement already satisfied: importlib-resources in /anaconda/envs/azureml_py38_PT_TF/lib/python3.8/site-packages (from alembic>=1.5.0->optuna>=3.1.0->optuna_distributed) (5.12.0)\nRequirement already satisfied: zipp>=0.5 in /anaconda/envs/azureml_py38_PT_TF/lib/python3.8/site-packages (from importlib-metadata>=4.13.0->dask[distributed]->optuna_distributed) (3.15.0)\nRequirement already satisfied: mdurl~=0.1 in /anaconda/envs/azureml_py38_PT_TF/lib/python3.8/site-packages (from markdown-it-py>=2.2.0->rich->optuna_distributed) (0.1.2)\nRequirement already satisfied: greenlet!=0.4.17 in /anaconda/envs/azureml_py38_PT_TF/lib/python3.8/site-packages (from sqlalchemy>=1.3.0->optuna>=3.1.0->optuna_distributed) (3.0.3)\nRequirement already satisfied: MarkupSafe>=2.0 in /anaconda/envs/azureml_py38_PT_TF/lib/python3.8/site-packages (from jinja2>=2.10.3->distributed==2023.5.0->dask[distributed]->optuna_distributed) (2.1.3)\nNote: you may need to restart the kernel to use updated packages.\nRequirement already satisfied: openfe in /anaconda/envs/azureml_py38_PT_TF/lib/python3.8/site-packages (0.0.12)\nRequirement already satisfied: numpy>=1.19.3 in /anaconda/envs/azureml_py38_PT_TF/lib/python3.8/site-packages (from openfe) (1.23.5)\nRequirement already satisfied: pandas>=1.1.5 in /anaconda/envs/azureml_py38_PT_TF/lib/python3.8/site-packages (from openfe) (2.0.2)\nRequirement already satisfied: scikit-learn>=0.24.2 in /anaconda/envs/azureml_py38_PT_TF/lib/python3.8/site-packages (from openfe) (1.3.2)\nRequirement already satisfied: lightgbm>=3.3.2 in /anaconda/envs/azureml_py38_PT_TF/lib/python3.8/site-packages (from openfe) (3.3.5)\nRequirement already satisfied: scipy>=1.5.4 in /anaconda/envs/azureml_py38_PT_TF/lib/python3.8/site-packages (from openfe) (1.9.1)\nRequirement already satisfied: tqdm in /anaconda/envs/azureml_py38_PT_TF/lib/python3.8/site-packages (from openfe) (4.65.0)\nRequirement already satisfied: pyarrow in /anaconda/envs/azureml_py38_PT_TF/lib/python3.8/site-packages (from openfe) (16.1.0)\nRequirement already satisfied: wheel in /anaconda/envs/azureml_py38_PT_TF/lib/python3.8/site-packages (from lightgbm>=3.3.2->openfe) (0.43.0)\nRequirement already satisfied: python-dateutil>=2.8.2 in /anaconda/envs/azureml_py38_PT_TF/lib/python3.8/site-packages (from pandas>=1.1.5->openfe) (2.8.2)\nRequirement already satisfied: pytz>=2020.1 in /anaconda/envs/azureml_py38_PT_TF/lib/python3.8/site-packages (from pandas>=1.1.5->openfe) (2023.3)\nRequirement already satisfied: tzdata>=2022.1 in /anaconda/envs/azureml_py38_PT_TF/lib/python3.8/site-packages (from pandas>=1.1.5->openfe) (2023.3)\nRequirement already satisfied: joblib>=1.1.1 in /anaconda/envs/azureml_py38_PT_TF/lib/python3.8/site-packages (from scikit-learn>=0.24.2->openfe) (1.2.0)\nRequirement already satisfied: threadpoolctl>=2.0.0 in /anaconda/envs/azureml_py38_PT_TF/lib/python3.8/site-packages (from scikit-learn>=0.24.2->openfe) (3.1.0)\nRequirement already satisfied: six>=1.5 in /anaconda/envs/azureml_py38_PT_TF/lib/python3.8/site-packages (from python-dateutil>=2.8.2->pandas>=1.1.5->openfe) (1.16.0)\nNote: you may need to restart the kernel to use updated packages.\nRequirement already satisfied: xgboost in /anaconda/envs/azureml_py38_PT_TF/lib/python3.8/site-packages (2.0.3)\nRequirement already satisfied: numpy in /anaconda/envs/azureml_py38_PT_TF/lib/python3.8/site-packages (from xgboost) (1.23.5)\nRequirement already satisfied: scipy in /anaconda/envs/azureml_py38_PT_TF/lib/python3.8/site-packages (from xgboost) (1.9.1)\nNote: you may need to restart the kernel to use updated packages.\n"
        }
      ],
      "execution_count": 2,
      "metadata": {
        "id": "MVFLmLWg_8Ih",
        "outputId": "0f41f00f-df50-4173-a4f0-b30c536499ed",
        "scrolled": true,
        "_kg_hide-output": true,
        "execution": {
          "iopub.status.busy": "2024-06-11T09:46:30.553975Z",
          "iopub.execute_input": "2024-06-11T09:46:30.555022Z",
          "iopub.status.idle": "2024-06-11T09:47:27.064390Z",
          "shell.execute_reply.started": "2024-06-11T09:46:30.554969Z",
          "shell.execute_reply": "2024-06-11T09:47:27.063138Z"
        },
        "trusted": true
      }
    },
    {
      "cell_type": "code",
      "source": [
        "import fastbook\n",
        "fastbook.setup_book()"
      ],
      "outputs": [
        {
          "output_type": "stream",
          "name": "stderr",
          "text": "UsageError: Line magic function `%fastbook.setup_book()` not found.\n"
        }
      ],
      "execution_count": 3,
      "metadata": {
        "jupyter": {
          "source_hidden": false,
          "outputs_hidden": false
        },
        "nteract": {
          "transient": {
            "deleting": false
          }
        },
        "gather": {
          "logged": 1718108768958
        }
      }
    },
    {
      "cell_type": "code",
      "source": [
        "#hide\n",
        "#! [ -e /content ]\n",
        "\n",
        "#hide\n",
        "#This imports and sets up everything you will need for this notebook\n",
        "#\n",
        "#!pip install -Uqq fastbook\n",
        "#import fastbook\n",
        "#fastbook.setup_book()\n",
        "\n",
        "#from fastbook import *\n",
        "#!pip install ucimlrepo\n",
        "#from ucimlrepo import fetch_ucirepo\n",
        "\n",
        "from fastai.tabular.all import *\n",
        "import pandas as pd\n",
        "import matplotlib.pyplot as plt\n",
        "#import seaborn as sns\n",
        "import numpy as np\n",
        "from numpy import random\n",
        "\n",
        "from fastai.imports import *\n",
        "np.set_printoptions(linewidth=130)\n",
        "\n",
        "\n",
        "from pathlib import Path\n",
        "import os\n",
        "\n",
        "\n",
        "from sklearn.ensemble import RandomForestRegressor,RandomForestClassifier\n",
        "from sklearn.metrics import roc_auc_score,accuracy_score,mean_squared_error\n",
        "from sklearn.model_selection import train_test_split\n",
        "from sklearn.metrics import mean_absolute_error,r2_score\n",
        "#from sklearn.metrics import root_mean_squared_error\n",
        "\n",
        "import xgboost as xgb\n",
        "from xgboost import plot_importance\n",
        "\n",
        "import lightgbm as lgb\n",
        "\n",
        "from catboost import CatBoostClassifier,CatBoostRegressor,Pool, metrics, cv\n",
        "\n",
        "from ipywidgets import interact\n",
        "\n",
        "\n",
        "matplotlib.rc('image', cmap='Greys')\n",
        "\n",
        "#from fastkaggle import setup_comp\n",
        "\n",
        "import optuna\n",
        "from openfe import OpenFE, transform\n",
        "\n",
        "from IPython.display import FileLink\n",
        "\n",
        "#from lightgbm import LGBMClassifier\n",
        "\n"
      ],
      "outputs": [],
      "execution_count": 6,
      "metadata": {
        "id": "iKvCdJ05_8Im",
        "execution": {
          "iopub.status.busy": "2024-06-11T09:47:27.067400Z",
          "iopub.execute_input": "2024-06-11T09:47:27.067932Z",
          "iopub.status.idle": "2024-06-11T09:47:29.832239Z",
          "shell.execute_reply.started": "2024-06-11T09:47:27.067884Z",
          "shell.execute_reply": "2024-06-11T09:47:29.830988Z"
        },
        "trusted": true,
        "gather": {
          "logged": 1718108829801
        }
      }
    },
    {
      "cell_type": "code",
      "source": [
        "try: import fastkaggle\n",
        "except ModuleNotFoundError:\n",
        "    !pip install -Uq fastkaggle\n",
        "\n",
        "from fastkaggle import *"
      ],
      "outputs": [],
      "execution_count": 7,
      "metadata": {
        "id": "h4tHhDlX_8Iv",
        "outputId": "9ddbe59f-a542-4564-836c-d02d7a757dd5",
        "execution": {
          "iopub.status.busy": "2024-06-11T09:47:29.833548Z",
          "iopub.execute_input": "2024-06-11T09:47:29.833908Z",
          "iopub.status.idle": "2024-06-11T09:47:29.847251Z",
          "shell.execute_reply.started": "2024-06-11T09:47:29.833875Z",
          "shell.execute_reply": "2024-06-11T09:47:29.845891Z"
        },
        "trusted": true,
        "gather": {
          "logged": 1718108955638
        }
      }
    },
    {
      "cell_type": "code",
      "source": [
        "%pip freeze > requirements.txt"
      ],
      "outputs": [
        {
          "output_type": "stream",
          "name": "stdout",
          "text": "Note: you may need to restart the kernel to use updated packages.\n"
        }
      ],
      "execution_count": 10,
      "metadata": {
        "jupyter": {
          "source_hidden": false,
          "outputs_hidden": false
        },
        "nteract": {
          "transient": {
            "deleting": false
          }
        }
      }
    },
    {
      "cell_type": "code",
      "source": [
        "!ls"
      ],
      "outputs": [
        {
          "output_type": "stream",
          "name": "stdout",
          "text": "fastai-gbms-decisionTrees.ipynb  fastai-gradient-boosting.ipynb.amltmp\r\nfastai-gradient-boosting.ipynb\t kaggle.json\r\n"
        }
      ],
      "execution_count": 8,
      "metadata": {
        "jupyter": {
          "source_hidden": false,
          "outputs_hidden": false
        },
        "nteract": {
          "transient": {
            "deleting": false
          }
        }
      }
    },
    {
      "cell_type": "code",
      "source": [
        "! mkdir ~/.kaggle\n",
        "\n",
        "! cp kaggle.json ~/.kaggle/\n",
        "\n",
        "#!chmod 600 /root/.kaggle/kaggle.json"
      ],
      "outputs": [
        {
          "output_type": "stream",
          "name": "stdout",
          "text": "mkdir: cannot create directory ‘/home/azureuser/.kaggle’: File exists\r\n"
        }
      ],
      "execution_count": 9,
      "metadata": {
        "jupyter": {
          "source_hidden": false,
          "outputs_hidden": false
        },
        "nteract": {
          "transient": {
            "deleting": false
          }
        },
        "gather": {
          "logged": 1718109003677
        }
      }
    },
    {
      "cell_type": "code",
      "source": [
        "comp = 'playground-series-s4e6'\n",
        "\n",
        "path = setup_comp(comp, install='fastai \"timm>=0.6.2.dev0\"')"
      ],
      "outputs": [
        {
          "output_type": "stream",
          "name": "stdout",
          "text": "Warning: Your Kaggle API key is readable by other users on this system! To fix this, you can run 'chmod 600 /home/azureuser/.kaggle/kaggle.json'\nDownloading playground-series-s4e6.zip to /mnt/batch/tasks/shared/LS_root/mounts/clusters/kenpachislime1/code/Users/kenpachislime/s04e06\n\n"
        },
        {
          "output_type": "stream",
          "name": "stderr",
          "text": "\r  0%|          | 0.00/3.07M [00:00<?, ?B/s]\r 33%|███▎      | 1.00M/3.07M [00:00<00:00, 9.07MB/s]\r 98%|█████████▊| 3.00M/3.07M [00:00<00:00, 13.2MB/s]\r100%|██████████| 3.07M/3.07M [00:00<00:00, 8.91MB/s]\n"
        }
      ],
      "execution_count": 11,
      "metadata": {
        "execution": {
          "iopub.status.busy": "2024-06-11T09:47:29.849967Z",
          "iopub.execute_input": "2024-06-11T09:47:29.850643Z",
          "iopub.status.idle": "2024-06-11T09:47:29.866244Z",
          "shell.execute_reply.started": "2024-06-11T09:47:29.850601Z",
          "shell.execute_reply": "2024-06-11T09:47:29.864991Z"
        },
        "trusted": true,
        "gather": {
          "logged": 1718109054405
        }
      }
    },
    {
      "cell_type": "code",
      "source": [
        "!ls academic_dataset/"
      ],
      "outputs": [
        {
          "output_type": "stream",
          "name": "stdout",
          "text": "data.csv  sample_submission.csv  test.csv  train.csv\r\n"
        }
      ],
      "execution_count": 18,
      "metadata": {
        "jupyter": {
          "source_hidden": false,
          "outputs_hidden": false
        },
        "nteract": {
          "transient": {
            "deleting": false
          }
        }
      }
    },
    {
      "cell_type": "code",
      "source": [
        "#!mkdir academic_dataset"
      ],
      "outputs": [],
      "execution_count": 14,
      "metadata": {
        "jupyter": {
          "source_hidden": false,
          "outputs_hidden": false
        },
        "nteract": {
          "transient": {
            "deleting": false
          }
        }
      }
    },
    {
      "cell_type": "code",
      "source": [
        "! kaggle datasets download -d rubanzasilva/academic-success-dataset\n",
        "!unzip academic-success-dataset.zip -d academic_dataset/\n",
        "!unzip playground-series-s4e6.zip -d academic_dataset/"
      ],
      "outputs": [
        {
          "output_type": "stream",
          "name": "stdout",
          "text": "Warning: Your Kaggle API key is readable by other users on this system! To fix this, you can run 'chmod 600 /home/azureuser/.kaggle/kaggle.json'\nDataset URL: https://www.kaggle.com/datasets/rubanzasilva/academic-success-dataset\nLicense(s): Apache 2.0\nDownloading academic-success-dataset.zip to /mnt/batch/tasks/shared/LS_root/mounts/clusters/kenpachislime1/code/Users/kenpachislime/s04e06\n  0%|                                                | 0.00/105k [00:00<?, ?B/s]\n100%|████████████████████████████████████████| 105k/105k [00:00<00:00, 1.43MB/s]\nArchive:  academic-success-dataset.zip\n  inflating: academic_dataset/data.csv  \nArchive:  playground-series-s4e6.zip\n  inflating: academic_dataset/sample_submission.csv  \n  inflating: academic_dataset/test.csv  \n  inflating: academic_dataset/train.csv  \n"
        }
      ],
      "execution_count": 16,
      "metadata": {
        "jupyter": {
          "source_hidden": false,
          "outputs_hidden": false
        },
        "nteract": {
          "transient": {
            "deleting": false
          }
        }
      }
    },
    {
      "cell_type": "code",
      "source": [
        "path = Path('academic_dataset/')\n",
        "path"
      ],
      "outputs": [
        {
          "output_type": "execute_result",
          "execution_count": 19,
          "data": {
            "text/plain": "Path('academic_dataset')"
          },
          "metadata": {}
        }
      ],
      "execution_count": 19,
      "metadata": {
        "jupyter": {
          "source_hidden": false,
          "outputs_hidden": false
        },
        "nteract": {
          "transient": {
            "deleting": false
          }
        },
        "gather": {
          "logged": 1718109580907
        }
      }
    },
    {
      "cell_type": "markdown",
      "source": [
        "## Import Datasets"
      ],
      "metadata": {}
    },
    {
      "cell_type": "code",
      "source": [
        "train_df = pd.read_csv(path/'train.csv')\n",
        "test_df = pd.read_csv(path/'test.csv')\n",
        "sub_df = pd.read_csv(path/'sample_submission.csv')\n",
        "original_df = pd.read_csv(path/'data.csv')"
      ],
      "outputs": [],
      "execution_count": 21,
      "metadata": {
        "execution": {
          "iopub.status.busy": "2024-06-11T09:47:29.867768Z",
          "iopub.execute_input": "2024-06-11T09:47:29.868160Z",
          "iopub.status.idle": "2024-06-11T09:47:30.494227Z",
          "shell.execute_reply.started": "2024-06-11T09:47:29.868124Z",
          "shell.execute_reply": "2024-06-11T09:47:30.492987Z"
        },
        "trusted": true,
        "gather": {
          "logged": 1718109615351
        }
      }
    },
    {
      "cell_type": "code",
      "source": [
        "#X = train_df.drop(columns=[\"Target\"], axis=1)\n",
        "#y = train_df[\"Target\"]\n",
        "\n",
        "#y.shape, X.shape"
      ],
      "outputs": [],
      "execution_count": null,
      "metadata": {
        "execution": {
          "iopub.status.busy": "2024-06-11T09:47:30.495952Z",
          "iopub.execute_input": "2024-06-11T09:47:30.496477Z",
          "iopub.status.idle": "2024-06-11T09:47:30.502525Z",
          "shell.execute_reply.started": "2024-06-11T09:47:30.496432Z",
          "shell.execute_reply": "2024-06-11T09:47:30.501217Z"
        },
        "trusted": true
      }
    },
    {
      "cell_type": "markdown",
      "source": [
        "# Baseline\n",
        "\n",
        "Previously, i had built a baseline model using AutoML solution AutoGluon without presets, this gave me an initial submission score of 0.83434.Find the notebook [here](https://www.kaggle.com/code/rubanzasilva/autogluon-starter).\n",
        "\n",
        "In this notebook, i test out different model architectures and data transformation to try to improve on the baseline score."
      ],
      "metadata": {}
    },
    {
      "cell_type": "markdown",
      "source": [
        "# Without original dataset\n",
        "\n",
        "First i shall try out the models using only the data initially provided to us, without the original dataset.\n",
        "\n",
        "Below i use the fastai tabular methods to preprocess and prepare my data for machine learning, creating training and a validation set.\n",
        "\n",
        "Use the fastai cont_cat_split to separate my dataset variables into categorical and continous variables.\n",
        "\n",
        "I then use randomsplitter to do a random split and create a validation set of about 20% of the initial dataset.\n",
        "\n"
      ],
      "metadata": {}
    },
    {
      "cell_type": "code",
      "source": [
        "cont_names,cat_names = cont_cat_split(train_df, dep_var='Target')\n",
        "splits = RandomSplitter(valid_pct=0.2)(range_of(train_df))\n",
        "to = TabularPandas(train_df, procs=[Categorify, FillMissing,Normalize],\n",
        "                   cat_names = cat_names,\n",
        "                   cont_names = cont_names,\n",
        "                   y_names='Target',\n",
        "                   y_block=CategoryBlock(),\n",
        "                   splits=splits)\n",
        "\n",
        "X_train, y_train = to.train.xs, to.train.ys.values.ravel()\n",
        "X_test, y_test = to.valid.xs, to.valid.ys.values.ravel()\n",
        "\n",
        "dls = to.dataloaders(bs=64)\n",
        "test_dl = dls.test_dl(test_df)"
      ],
      "outputs": [],
      "execution_count": 22,
      "metadata": {
        "execution": {
          "iopub.status.busy": "2024-06-11T09:47:30.504255Z",
          "iopub.execute_input": "2024-06-11T09:47:30.504666Z",
          "iopub.status.idle": "2024-06-11T09:47:30.934283Z",
          "shell.execute_reply.started": "2024-06-11T09:47:30.504634Z",
          "shell.execute_reply": "2024-06-11T09:47:30.932815Z"
        },
        "trusted": true,
        "gather": {
          "logged": 1718109650003
        }
      }
    },
    {
      "cell_type": "markdown",
      "source": [
        "# Trying out different model architectures.\n",
        "\n",
        "Here i start with decision trees specifically random forests, then i try out gradient boosting models catboost, xgboost and light GBMs.\n",
        "\n",
        "Later on i try out neural networks and an ensemble of various neural networks using the fastai library."
      ],
      "metadata": {}
    },
    {
      "cell_type": "markdown",
      "source": [
        "## Random Forests"
      ],
      "metadata": {}
    },
    {
      "cell_type": "code",
      "source": [
        "%%time\n",
        "rf = RandomForestClassifier(100, min_samples_leaf=3)\n",
        "rf_model_a = rf.fit(X_train, y_train);\n",
        "\n",
        "rf_preds = tensor(rf_model_a.predict(test_dl.xs))\n",
        "\n",
        "rf_preds_x = tensor(rf_model_a.predict(X_test))\n",
        "\n",
        "#mse = mean_absolute_error(y_test, rf_preds_x)\n",
        "#rmse = np.sqrt(mse)\n",
        "\n",
        "accuracy_score(y_test,rf_preds_x)"
      ],
      "outputs": [
        {
          "output_type": "stream",
          "name": "stdout",
          "text": "CPU times: user 13.5 s, sys: 22.3 ms, total: 13.6 s\nWall time: 13.6 s\n"
        },
        {
          "output_type": "execute_result",
          "execution_count": 23,
          "data": {
            "text/plain": "0.8295759001502974"
          },
          "metadata": {}
        }
      ],
      "execution_count": 23,
      "metadata": {
        "execution": {
          "iopub.status.busy": "2024-06-11T09:47:30.935804Z",
          "iopub.execute_input": "2024-06-11T09:47:30.936176Z",
          "iopub.status.idle": "2024-06-11T09:47:49.386628Z",
          "shell.execute_reply.started": "2024-06-11T09:47:30.936142Z",
          "shell.execute_reply": "2024-06-11T09:47:49.385332Z"
        },
        "trusted": true
      }
    },
    {
      "cell_type": "markdown",
      "source": [
        "## Cat Preds"
      ],
      "metadata": {}
    },
    {
      "cell_type": "code",
      "source": [
        "%%time\n",
        "cat_model = CatBoostClassifier(iterations=2000, depth=8, learning_rate=  0.08, random_strength=10)\n",
        "cat_model = cat_model.fit(X_train, y_train, eval_set=(X_test, y_test), verbose=False)\n",
        "\n",
        "#test set preds\n",
        "cat_preds = tensor(cat_model.predict(test_dl.xs))\n",
        "\n",
        "\n",
        "cat_preds_final = cat_preds.squeeze(1)\n",
        "\n",
        "#validation set preds\n",
        "cat_preds_x = tensor(cat_model.predict(X_test))\n",
        "\n",
        "cat_preds_x_final = cat_preds_x.squeeze(1)\n",
        "\n",
        "accuracy_score(y_test,cat_preds_x)"
      ],
      "outputs": [
        {
          "output_type": "stream",
          "name": "stdout",
          "text": "CPU times: user 5min 54s, sys: 7.83 s, total: 6min 2s\nWall time: 1min 45s\n"
        },
        {
          "output_type": "execute_result",
          "execution_count": 24,
          "data": {
            "text/plain": "0.8331046200091485"
          },
          "metadata": {}
        }
      ],
      "execution_count": 24,
      "metadata": {
        "execution": {
          "iopub.status.busy": "2024-06-11T09:47:49.388415Z",
          "iopub.execute_input": "2024-06-11T09:47:49.388911Z",
          "iopub.status.idle": "2024-06-11T09:50:49.973581Z",
          "shell.execute_reply.started": "2024-06-11T09:47:49.388867Z",
          "shell.execute_reply": "2024-06-11T09:50:49.972278Z"
        },
        "trusted": true
      }
    },
    {
      "cell_type": "markdown",
      "source": [
        "## XGBoost"
      ],
      "metadata": {}
    },
    {
      "cell_type": "code",
      "source": [
        "xgb_model = xgb.XGBClassifier(n_estimators = 197, max_depth=4, learning_rate=0.1818695751227044, subsample= 0.39774994666482544)\n",
        "xgb_model = xgb_model.fit(X_train, y_train)\n",
        "\n",
        "xgb_preds = tensor(xgb_model.predict(test_dl.xs))\n",
        "\n",
        "xgb_preds_x = tensor(xgb_model.predict(X_test))\n",
        "\n",
        "accuracy_score(y_test,xgb_preds_x)"
      ],
      "outputs": [
        {
          "output_type": "execute_result",
          "execution_count": 25,
          "data": {
            "text/plain": "0.8325818466967261"
          },
          "metadata": {}
        }
      ],
      "execution_count": 25,
      "metadata": {
        "execution": {
          "iopub.status.busy": "2024-06-11T09:50:49.976734Z",
          "iopub.execute_input": "2024-06-11T09:50:49.977151Z",
          "iopub.status.idle": "2024-06-11T09:50:57.209612Z",
          "shell.execute_reply.started": "2024-06-11T09:50:49.977115Z",
          "shell.execute_reply": "2024-06-11T09:50:57.208471Z"
        },
        "trusted": true,
        "gather": {
          "logged": 1718109782851
        }
      }
    },
    {
      "cell_type": "markdown",
      "source": [
        "## LGBM"
      ],
      "metadata": {}
    },
    {
      "cell_type": "code",
      "source": [
        "lgb_model = lgb.LGBMClassifier(num_leaves=251, learning_rate=0.02956613668999794, n_estimators=483, max_depth=82, boosting_type='gbdt',min_child_samples=90, random_state=27)\n",
        "lgb_model = lgb_model.fit(X_train, y_train)\n",
        "\n",
        "#test set preds\n",
        "lgb_preds = tensor(lgb_model.predict(test_dl.xs))\n",
        "\n",
        "#validation set preds\n",
        "lgb_preds_x = tensor(lgb_model.predict(X_test))\n",
        "\n",
        "lgb_score = accuracy_score(y_test,lgb_preds_x)\n",
        "lgb_score"
      ],
      "outputs": [
        {
          "output_type": "execute_result",
          "execution_count": 26,
          "data": {
            "text/plain": "0.8306867934391949"
          },
          "metadata": {}
        }
      ],
      "execution_count": 26,
      "metadata": {
        "execution": {
          "iopub.status.busy": "2024-06-11T09:50:57.210969Z",
          "iopub.execute_input": "2024-06-11T09:50:57.211348Z",
          "iopub.status.idle": "2024-06-11T09:51:48.514931Z",
          "shell.execute_reply.started": "2024-06-11T09:50:57.211292Z",
          "shell.execute_reply": "2024-06-11T09:51:48.513634Z"
        },
        "trusted": true,
        "gather": {
          "logged": 1718109815909
        }
      }
    },
    {
      "cell_type": "code",
      "source": [
        "model_preds = {\n",
        "    \"random forests\":accuracy_score(y_test,rf_preds_x),\n",
        "    \"cat boost\":accuracy_score(y_test,cat_preds_x),\n",
        "    \"lgbm\":lgb_score,\n",
        "    \"xgboost\":accuracy_score(y_test,xgb_preds_x),   \n",
        "}\n",
        "\n",
        "#model_preds_a = model_preds.sort()\n",
        "print(model_preds)"
      ],
      "outputs": [
        {
          "output_type": "stream",
          "name": "stdout",
          "text": "{'random forests': 0.8295759001502974, 'cat boost': 0.8331046200091485, 'lgbm': 0.8306867934391949, 'xgboost': 0.8325818466967261}\n"
        }
      ],
      "execution_count": 27,
      "metadata": {
        "execution": {
          "iopub.status.busy": "2024-06-11T09:51:48.516456Z",
          "iopub.execute_input": "2024-06-11T09:51:48.516812Z",
          "iopub.status.idle": "2024-06-11T09:51:48.528503Z",
          "shell.execute_reply.started": "2024-06-11T09:51:48.516781Z",
          "shell.execute_reply": "2024-06-11T09:51:48.527447Z"
        },
        "trusted": true,
        "gather": {
          "logged": 1718109816821
        }
      }
    },
    {
      "cell_type": "markdown",
      "source": [
        "{'random forests': 0.826439260275763, 'cat boost': 0.8316016467359342, 'lgbm': 0.8306214467751422, 'xgboost': 0.8299679801346141}"
      ],
      "metadata": {}
    },
    {
      "cell_type": "code",
      "source": [
        "mapping = dict(enumerate(dls.vocab))\n",
        "mapping"
      ],
      "outputs": [],
      "execution_count": null,
      "metadata": {
        "execution": {
          "iopub.status.busy": "2024-06-10T08:18:37.930959Z",
          "iopub.execute_input": "2024-06-10T08:18:37.931539Z",
          "iopub.status.idle": "2024-06-10T08:18:37.940312Z",
          "shell.execute_reply.started": "2024-06-10T08:18:37.931496Z",
          "shell.execute_reply": "2024-06-10T08:18:37.938849Z"
        },
        "trusted": true
      }
    },
    {
      "cell_type": "markdown",
      "source": [
        "## Submission"
      ],
      "metadata": {}
    },
    {
      "cell_type": "code",
      "source": [
        "lgb_preds.shape,cat_preds.shape,cat_preds_final.shape"
      ],
      "outputs": [],
      "execution_count": null,
      "metadata": {
        "execution": {
          "iopub.status.busy": "2024-06-10T15:56:55.807458Z",
          "iopub.execute_input": "2024-06-10T15:56:55.807894Z",
          "iopub.status.idle": "2024-06-10T15:56:55.815942Z",
          "shell.execute_reply.started": "2024-06-10T15:56:55.807863Z",
          "shell.execute_reply": "2024-06-10T15:56:55.814653Z"
        },
        "trusted": true
      }
    },
    {
      "cell_type": "code",
      "source": [
        "mapping = dict(enumerate(dls.vocab))\n",
        "predicted_labels = [mapping[value.item()] for value in xgb_preds]\n",
        "submit = pd.read_csv(path/'sample_submission.csv')\n",
        "submit.Target = predicted_labels\n",
        "submit.to_csv('submission.csv',index=False)\n",
        "submit"
      ],
      "outputs": [
        {
          "output_type": "execute_result",
          "execution_count": 37,
          "data": {
            "text/plain": "           id    Target\n0       76518   Dropout\n1       76519  Graduate\n2       76520  Graduate\n3       76521  Enrolled\n4       76522  Enrolled\n...       ...       ...\n51007  127525   Dropout\n51008  127526   Dropout\n51009  127527   Dropout\n51010  127528   Dropout\n51011  127529   Dropout\n\n[51012 rows x 2 columns]",
            "text/html": "<div>\n<style scoped>\n    .dataframe tbody tr th:only-of-type {\n        vertical-align: middle;\n    }\n\n    .dataframe tbody tr th {\n        vertical-align: top;\n    }\n\n    .dataframe thead th {\n        text-align: right;\n    }\n</style>\n<table border=\"1\" class=\"dataframe\">\n  <thead>\n    <tr style=\"text-align: right;\">\n      <th></th>\n      <th>id</th>\n      <th>Target</th>\n    </tr>\n  </thead>\n  <tbody>\n    <tr>\n      <th>0</th>\n      <td>76518</td>\n      <td>Dropout</td>\n    </tr>\n    <tr>\n      <th>1</th>\n      <td>76519</td>\n      <td>Graduate</td>\n    </tr>\n    <tr>\n      <th>2</th>\n      <td>76520</td>\n      <td>Graduate</td>\n    </tr>\n    <tr>\n      <th>3</th>\n      <td>76521</td>\n      <td>Enrolled</td>\n    </tr>\n    <tr>\n      <th>4</th>\n      <td>76522</td>\n      <td>Enrolled</td>\n    </tr>\n    <tr>\n      <th>...</th>\n      <td>...</td>\n      <td>...</td>\n    </tr>\n    <tr>\n      <th>51007</th>\n      <td>127525</td>\n      <td>Dropout</td>\n    </tr>\n    <tr>\n      <th>51008</th>\n      <td>127526</td>\n      <td>Dropout</td>\n    </tr>\n    <tr>\n      <th>51009</th>\n      <td>127527</td>\n      <td>Dropout</td>\n    </tr>\n    <tr>\n      <th>51010</th>\n      <td>127528</td>\n      <td>Dropout</td>\n    </tr>\n    <tr>\n      <th>51011</th>\n      <td>127529</td>\n      <td>Dropout</td>\n    </tr>\n  </tbody>\n</table>\n<p>51012 rows × 2 columns</p>\n</div>"
          },
          "metadata": {}
        }
      ],
      "execution_count": 37,
      "metadata": {
        "execution": {
          "iopub.status.busy": "2024-06-11T10:00:19.313699Z",
          "iopub.execute_input": "2024-06-11T10:00:19.314342Z",
          "iopub.status.idle": "2024-06-11T10:00:19.780420Z",
          "shell.execute_reply.started": "2024-06-11T10:00:19.314270Z",
          "shell.execute_reply": "2024-06-11T10:00:19.779130Z"
        },
        "trusted": true,
        "gather": {
          "logged": 1718112141371
        }
      }
    },
    {
      "cell_type": "code",
      "source": [
        "!ls"
      ],
      "outputs": [
        {
          "output_type": "stream",
          "name": "stdout",
          "text": "academic-success-dataset.zip\t fastai-gradient-boosting.ipynb.amltmp\r\nacademic_dataset\t\t kaggle.json\r\ncatboost_info\t\t\t models\r\ndataset\t\t\t\t playground-series-s4e6\r\nfastai-gbms-decisionTrees.ipynb  playground-series-s4e6.zip\r\nfastai-gradient-boosting.ipynb\t requirements.txt\r\n"
        }
      ],
      "execution_count": 40,
      "metadata": {
        "execution": {
          "iopub.status.busy": "2024-06-11T07:02:53.387697Z",
          "iopub.execute_input": "2024-06-11T07:02:53.388135Z",
          "iopub.status.idle": "2024-06-11T07:02:54.522413Z",
          "shell.execute_reply.started": "2024-06-11T07:02:53.388101Z",
          "shell.execute_reply": "2024-06-11T07:02:54.520801Z"
        },
        "trusted": true
      }
    },
    {
      "cell_type": "code",
      "source": [
        "!kaggle competitions submit -c playground-series-s4e6 -f submission.csv -m \"xgb preds without original dataset\""
      ],
      "outputs": [
        {
          "output_type": "stream",
          "name": "stdout",
          "text": "Warning: Your Kaggle API key is readable by other users on this system! To fix this, you can run 'chmod 600 /home/azureuser/.kaggle/kaggle.json'\r\n\r  0%|                                                | 0.00/759k [00:00<?, ?B/s]\r100%|████████████████████████████████████████| 759k/759k [00:00<00:00, 2.64MB/s]\r\nSuccessfully submitted to Classification with an Academic Success Dataset"
        }
      ],
      "execution_count": 38,
      "metadata": {}
    },
    {
      "cell_type": "code",
      "source": [
        "!rm submission.csv"
      ],
      "outputs": [],
      "execution_count": 39,
      "metadata": {
        "execution": {
          "iopub.status.busy": "2024-06-10T16:12:42.824761Z",
          "iopub.execute_input": "2024-06-10T16:12:42.826047Z",
          "iopub.status.idle": "2024-06-10T16:12:43.958707Z",
          "shell.execute_reply.started": "2024-06-10T16:12:42.825980Z",
          "shell.execute_reply": "2024-06-10T16:12:43.956833Z"
        },
        "trusted": true
      }
    },
    {
      "cell_type": "markdown",
      "source": [
        "### Neural Network"
      ],
      "metadata": {
        "id": "dYNkzV6z_8JO"
      }
    },
    {
      "cell_type": "code",
      "source": [
        "learn = tabular_learner(dls, metrics=accuracy)\n",
        "learn.lr_find(suggest_funcs=(slide,valley))"
      ],
      "outputs": [
        {
          "output_type": "display_data",
          "data": {
            "text/plain": "<IPython.core.display.HTML object>",
            "text/html": "\n<style>\n    /* Turns off some styling */\n    progress {\n        /* gets rid of default border in Firefox and Opera. */\n        border: none;\n        /* Needs to be in here for Safari polyfill so background images work as expected. */\n        background-size: auto;\n    }\n    progress:not([value]), progress:not([value])::-webkit-progress-bar {\n        background: repeating-linear-gradient(45deg, #7e7e7e, #7e7e7e 10px, #5c5c5c 10px, #5c5c5c 20px);\n    }\n    .progress-bar-interrupted, .progress-bar-interrupted::-webkit-progress-bar {\n        background: #F44336;\n    }\n</style>\n"
          },
          "metadata": {}
        },
        {
          "output_type": "display_data",
          "data": {
            "text/plain": "<IPython.core.display.HTML object>",
            "text/html": ""
          },
          "metadata": {}
        },
        {
          "output_type": "execute_result",
          "execution_count": 28,
          "data": {
            "text/plain": "SuggestedLRs(slide=0.03981071710586548, valley=0.0020892962347716093)"
          },
          "metadata": {}
        },
        {
          "output_type": "display_data",
          "data": {
            "text/plain": "<Figure size 640x480 with 1 Axes>",
            "image/png": "[encoded data removed]"
          },
          "metadata": {}
        }
      ],
      "execution_count": 28,
      "metadata": {
        "id": "X0LRKpxq_8JO",
        "execution": {
          "iopub.status.busy": "2024-06-10T16:31:41.166644Z",
          "iopub.execute_input": "2024-06-10T16:31:41.167152Z",
          "iopub.status.idle": "2024-06-10T16:31:43.768408Z",
          "shell.execute_reply.started": "2024-06-10T16:31:41.167108Z",
          "shell.execute_reply": "2024-06-10T16:31:43.766548Z"
        },
        "trusted": true,
        "gather": {
          "logged": 1718109819926
        }
      }
    },
    {
      "cell_type": "code",
      "source": [
        "%%time\n",
        "learn.fit_one_cycle(20,0.02)"
      ],
      "outputs": [
        {
          "output_type": "display_data",
          "data": {
            "text/plain": "<IPython.core.display.HTML object>",
            "text/html": "\n<style>\n    /* Turns off some styling */\n    progress {\n        /* gets rid of default border in Firefox and Opera. */\n        border: none;\n        /* Needs to be in here for Safari polyfill so background images work as expected. */\n        background-size: auto;\n    }\n    progress:not([value]), progress:not([value])::-webkit-progress-bar {\n        background: repeating-linear-gradient(45deg, #7e7e7e, #7e7e7e 10px, #5c5c5c 10px, #5c5c5c 20px);\n    }\n    .progress-bar-interrupted, .progress-bar-interrupted::-webkit-progress-bar {\n        background: #F44336;\n    }\n</style>\n"
          },
          "metadata": {}
        },
        {
          "output_type": "display_data",
          "data": {
            "text/plain": "<IPython.core.display.HTML object>",
            "text/html": "<table border=\"1\" class=\"dataframe\">\n  <thead>\n    <tr style=\"text-align: left;\">\n      <th>epoch</th>\n      <th>train_loss</th>\n      <th>valid_loss</th>\n      <th>accuracy</th>\n      <th>time</th>\n    </tr>\n  </thead>\n  <tbody>\n    <tr>\n      <td>0</td>\n      <td>0.481215</td>\n      <td>0.460185</td>\n      <td>0.824021</td>\n      <td>00:11</td>\n    </tr>\n    <tr>\n      <td>1</td>\n      <td>0.479360</td>\n      <td>0.475557</td>\n      <td>0.822061</td>\n      <td>00:11</td>\n    </tr>\n    <tr>\n      <td>2</td>\n      <td>0.460041</td>\n      <td>0.458738</td>\n      <td>0.827289</td>\n      <td>00:11</td>\n    </tr>\n    <tr>\n      <td>3</td>\n      <td>0.482193</td>\n      <td>0.468049</td>\n      <td>0.826570</td>\n      <td>00:11</td>\n    </tr>\n    <tr>\n      <td>4</td>\n      <td>0.482978</td>\n      <td>0.478511</td>\n      <td>0.816964</td>\n      <td>00:11</td>\n    </tr>\n    <tr>\n      <td>5</td>\n      <td>0.469000</td>\n      <td>0.454083</td>\n      <td>0.823760</td>\n      <td>00:11</td>\n    </tr>\n    <tr>\n      <td>6</td>\n      <td>0.460918</td>\n      <td>0.472945</td>\n      <td>0.816833</td>\n      <td>00:11</td>\n    </tr>\n    <tr>\n      <td>7</td>\n      <td>0.458530</td>\n      <td>0.632306</td>\n      <td>0.817617</td>\n      <td>00:11</td>\n    </tr>\n    <tr>\n      <td>8</td>\n      <td>0.461662</td>\n      <td>0.502945</td>\n      <td>0.828922</td>\n      <td>00:11</td>\n    </tr>\n    <tr>\n      <td>9</td>\n      <td>0.455659</td>\n      <td>0.536449</td>\n      <td>0.825851</td>\n      <td>00:11</td>\n    </tr>\n    <tr>\n      <td>10</td>\n      <td>0.476822</td>\n      <td>0.447166</td>\n      <td>0.828269</td>\n      <td>00:12</td>\n    </tr>\n    <tr>\n      <td>11</td>\n      <td>0.447033</td>\n      <td>0.927996</td>\n      <td>0.828922</td>\n      <td>00:11</td>\n    </tr>\n    <tr>\n      <td>12</td>\n      <td>0.457716</td>\n      <td>0.730793</td>\n      <td>0.828204</td>\n      <td>00:11</td>\n    </tr>\n    <tr>\n      <td>13</td>\n      <td>0.441474</td>\n      <td>0.655653</td>\n      <td>0.827485</td>\n      <td>00:11</td>\n    </tr>\n    <tr>\n      <td>14</td>\n      <td>0.466454</td>\n      <td>0.487804</td>\n      <td>0.828073</td>\n      <td>00:11</td>\n    </tr>\n    <tr>\n      <td>15</td>\n      <td>0.454006</td>\n      <td>0.440951</td>\n      <td>0.829184</td>\n      <td>00:11</td>\n    </tr>\n    <tr>\n      <td>16</td>\n      <td>0.450545</td>\n      <td>0.442057</td>\n      <td>0.829118</td>\n      <td>00:11</td>\n    </tr>\n    <tr>\n      <td>17</td>\n      <td>0.433563</td>\n      <td>0.449594</td>\n      <td>0.829576</td>\n      <td>00:11</td>\n    </tr>\n    <tr>\n      <td>18</td>\n      <td>0.439647</td>\n      <td>0.449329</td>\n      <td>0.829903</td>\n      <td>00:11</td>\n    </tr>\n    <tr>\n      <td>19</td>\n      <td>0.439593</td>\n      <td>0.467191</td>\n      <td>0.829903</td>\n      <td>00:11</td>\n    </tr>\n  </tbody>\n</table>"
          },
          "metadata": {}
        },
        {
          "output_type": "stream",
          "name": "stdout",
          "text": "CPU times: user 5min 55s, sys: 2.29 s, total: 5min 58s\nWall time: 3min 53s\n"
        }
      ],
      "execution_count": 29,
      "metadata": {
        "id": "igxsaxjb_8JU",
        "execution": {
          "iopub.status.busy": "2024-06-10T16:31:43.771644Z",
          "iopub.execute_input": "2024-06-10T16:31:43.772160Z"
        },
        "trusted": true
      }
    },
    {
      "cell_type": "code",
      "source": [
        "dl = learn.dls.test_dl(test_df)"
      ],
      "outputs": [],
      "execution_count": 30,
      "metadata": {
        "id": "xpiUqiLF_8JV",
        "trusted": true,
        "gather": {
          "logged": 1718110322371
        }
      }
    },
    {
      "cell_type": "code",
      "source": [
        "%%time\n",
        "nn_preds = learn.get_preds(dl=dl)\n",
        "nn_preds_x = learn.get_preds()[0]\n",
        "a_preds, _ = learn.get_preds(dl=dl)\n",
        "nn_preds_y = a_preds.squeeze(1)"
      ],
      "outputs": [
        {
          "output_type": "display_data",
          "data": {
            "text/plain": "<IPython.core.display.HTML object>",
            "text/html": "\n<style>\n    /* Turns off some styling */\n    progress {\n        /* gets rid of default border in Firefox and Opera. */\n        border: none;\n        /* Needs to be in here for Safari polyfill so background images work as expected. */\n        background-size: auto;\n    }\n    progress:not([value]), progress:not([value])::-webkit-progress-bar {\n        background: repeating-linear-gradient(45deg, #7e7e7e, #7e7e7e 10px, #5c5c5c 10px, #5c5c5c 20px);\n    }\n    .progress-bar-interrupted, .progress-bar-interrupted::-webkit-progress-bar {\n        background: #F44336;\n    }\n</style>\n"
          },
          "metadata": {}
        },
        {
          "output_type": "display_data",
          "data": {
            "text/plain": "<IPython.core.display.HTML object>",
            "text/html": ""
          },
          "metadata": {}
        },
        {
          "output_type": "display_data",
          "data": {
            "text/plain": "<IPython.core.display.HTML object>",
            "text/html": "\n<style>\n    /* Turns off some styling */\n    progress {\n        /* gets rid of default border in Firefox and Opera. */\n        border: none;\n        /* Needs to be in here for Safari polyfill so background images work as expected. */\n        background-size: auto;\n    }\n    progress:not([value]), progress:not([value])::-webkit-progress-bar {\n        background: repeating-linear-gradient(45deg, #7e7e7e, #7e7e7e 10px, #5c5c5c 10px, #5c5c5c 20px);\n    }\n    .progress-bar-interrupted, .progress-bar-interrupted::-webkit-progress-bar {\n        background: #F44336;\n    }\n</style>\n"
          },
          "metadata": {}
        },
        {
          "output_type": "display_data",
          "data": {
            "text/plain": "<IPython.core.display.HTML object>",
            "text/html": ""
          },
          "metadata": {}
        },
        {
          "output_type": "display_data",
          "data": {
            "text/plain": "<IPython.core.display.HTML object>",
            "text/html": "\n<style>\n    /* Turns off some styling */\n    progress {\n        /* gets rid of default border in Firefox and Opera. */\n        border: none;\n        /* Needs to be in here for Safari polyfill so background images work as expected. */\n        background-size: auto;\n    }\n    progress:not([value]), progress:not([value])::-webkit-progress-bar {\n        background: repeating-linear-gradient(45deg, #7e7e7e, #7e7e7e 10px, #5c5c5c 10px, #5c5c5c 20px);\n    }\n    .progress-bar-interrupted, .progress-bar-interrupted::-webkit-progress-bar {\n        background: #F44336;\n    }\n</style>\n"
          },
          "metadata": {}
        },
        {
          "output_type": "display_data",
          "data": {
            "text/plain": "<IPython.core.display.HTML object>",
            "text/html": ""
          },
          "metadata": {}
        },
        {
          "output_type": "stream",
          "name": "stdout",
          "text": "CPU times: user 13.1 s, sys: 73.1 ms, total: 13.1 s\nWall time: 9.73 s\n"
        }
      ],
      "execution_count": 31,
      "metadata": {
        "id": "ASXsRveD_8JW",
        "trusted": true
      }
    },
    {
      "cell_type": "code",
      "source": [
        "cat_preds_final = cat_preds.squeeze(1)"
      ],
      "outputs": [],
      "execution_count": null,
      "metadata": {
        "execution": {
          "iopub.status.busy": "2024-06-10T09:36:44.355090Z",
          "iopub.execute_input": "2024-06-10T09:36:44.355624Z",
          "iopub.status.idle": "2024-06-10T09:36:44.362535Z",
          "shell.execute_reply.started": "2024-06-10T09:36:44.355582Z",
          "shell.execute_reply": "2024-06-10T09:36:44.360721Z"
        },
        "trusted": true
      }
    },
    {
      "cell_type": "code",
      "source": [
        "nn_preds_x.shape,nn_preds.shape,nn_preds_y.shape"
      ],
      "outputs": [],
      "execution_count": null,
      "metadata": {
        "trusted": true
      }
    },
    {
      "cell_type": "code",
      "source": [
        "!ls"
      ],
      "outputs": [],
      "execution_count": null,
      "metadata": {
        "execution": {
          "iopub.status.busy": "2024-06-10T16:17:03.466047Z",
          "iopub.execute_input": "2024-06-10T16:17:03.467314Z",
          "iopub.status.idle": "2024-06-10T16:17:04.594003Z",
          "shell.execute_reply.started": "2024-06-10T16:17:03.467255Z",
          "shell.execute_reply": "2024-06-10T16:17:04.592423Z"
        },
        "trusted": true
      }
    },
    {
      "cell_type": "code",
      "source": [
        "!rm submission.csv"
      ],
      "outputs": [],
      "execution_count": null,
      "metadata": {
        "execution": {
          "iopub.status.busy": "2024-06-10T09:41:09.743546Z",
          "iopub.execute_input": "2024-06-10T09:41:09.745021Z",
          "iopub.status.idle": "2024-06-10T09:41:10.803569Z",
          "shell.execute_reply.started": "2024-06-10T09:41:09.744960Z",
          "shell.execute_reply": "2024-06-10T09:41:10.801056Z"
        },
        "trusted": true
      }
    },
    {
      "cell_type": "code",
      "source": [
        "mapping = dict(enumerate(dls.vocab))\n",
        "predicted_labels = [mapping[value.item()] for value in cat_preds_final]\n",
        "submit = pd.read_csv(path/'sample_submission.csv')\n",
        "submit.Target = predicted_labels\n",
        "submit.to_csv('submission.csv',index=False)\n",
        "submit"
      ],
      "outputs": [],
      "execution_count": null,
      "metadata": {
        "id": "KB9WcsyA_8Jk",
        "execution": {
          "iopub.status.busy": "2024-06-10T09:46:44.413471Z",
          "iopub.execute_input": "2024-06-10T09:46:44.414025Z",
          "iopub.status.idle": "2024-06-10T09:46:44.641955Z",
          "shell.execute_reply.started": "2024-06-10T09:46:44.413980Z",
          "shell.execute_reply": "2024-06-10T09:46:44.640504Z"
        },
        "trusted": true
      }
    },
    {
      "cell_type": "markdown",
      "source": [
        "### Ensemble\n",
        "\n",
        "For testing with our accuracy_score metric, we use the x preds as in lgb_preds_x, xgboost_preds_x,rf_preds_x, and cat_preds_x_final.\n",
        "\n",
        "For submission, we use the lgb_preds, xgboost_preds,rf_preds, and cat_preds_final as this is the result of running the model on the initial test set and gives us the same shape as our expected submission."
      ],
      "metadata": {}
    },
    {
      "cell_type": "markdown",
      "source": [
        "#### For testing"
      ],
      "metadata": {}
    },
    {
      "cell_type": "code",
      "source": [
        "cat_preds_x_final = cat_preds_x.squeeze(1)"
      ],
      "outputs": [],
      "execution_count": null,
      "metadata": {
        "execution": {
          "iopub.status.busy": "2024-06-10T16:15:19.950821Z",
          "iopub.execute_input": "2024-06-10T16:15:19.951403Z",
          "iopub.status.idle": "2024-06-10T16:15:19.960013Z",
          "shell.execute_reply.started": "2024-06-10T16:15:19.951357Z",
          "shell.execute_reply": "2024-06-10T16:15:19.957736Z"
        },
        "trusted": true
      }
    },
    {
      "cell_type": "code",
      "source": [
        "rf_preds_x.shape,cat_preds_x_final.shape,lgb_preds_x.shape,xgb_preds_x.shape"
      ],
      "outputs": [],
      "execution_count": null,
      "metadata": {
        "execution": {
          "iopub.status.busy": "2024-06-10T16:15:26.089087Z",
          "iopub.execute_input": "2024-06-10T16:15:26.089732Z",
          "iopub.status.idle": "2024-06-10T16:15:26.100640Z",
          "shell.execute_reply.started": "2024-06-10T16:15:26.089683Z",
          "shell.execute_reply": "2024-06-10T16:15:26.098748Z"
        },
        "trusted": true
      }
    },
    {
      "cell_type": "code",
      "source": [
        "general_preds = (rf_preds_x + cat_preds_x_final + lgb_preds_x + xgb_preds_x)/4\n",
        "general_preds"
      ],
      "outputs": [],
      "execution_count": null,
      "metadata": {
        "execution": {
          "iopub.status.busy": "2024-06-10T16:25:42.124608Z",
          "iopub.execute_input": "2024-06-10T16:25:42.125171Z",
          "iopub.status.idle": "2024-06-10T16:25:42.178091Z",
          "shell.execute_reply.started": "2024-06-10T16:25:42.125115Z",
          "shell.execute_reply": "2024-06-10T16:25:42.176645Z"
        },
        "trusted": true
      }
    },
    {
      "cell_type": "code",
      "source": [
        "rf_preds_x.shape,cat_preds_x_final.shape,lgb_preds_x.shape,xgb_preds_x.shape,general_preds.shape"
      ],
      "outputs": [],
      "execution_count": null,
      "metadata": {
        "execution": {
          "iopub.status.busy": "2024-06-10T16:16:57.604151Z",
          "iopub.execute_input": "2024-06-10T16:16:57.605367Z",
          "iopub.status.idle": "2024-06-10T16:16:57.614658Z",
          "shell.execute_reply.started": "2024-06-10T16:16:57.605315Z",
          "shell.execute_reply": "2024-06-10T16:16:57.613223Z"
        },
        "trusted": true
      }
    },
    {
      "cell_type": "code",
      "source": [
        "accuracy_score(y_test,general_preds)"
      ],
      "outputs": [],
      "execution_count": null,
      "metadata": {
        "trusted": true
      }
    },
    {
      "cell_type": "markdown",
      "source": [
        "#### For Submission"
      ],
      "metadata": {}
    },
    {
      "cell_type": "code",
      "source": [
        "rf_preds.shape,cat_preds_final.shape,lgb_preds.shape,xgb_preds.shape"
      ],
      "outputs": [],
      "execution_count": null,
      "metadata": {
        "execution": {
          "iopub.status.busy": "2024-06-10T16:25:07.551957Z",
          "iopub.execute_input": "2024-06-10T16:25:07.552656Z",
          "iopub.status.idle": "2024-06-10T16:25:07.563321Z",
          "shell.execute_reply.started": "2024-06-10T16:25:07.552612Z",
          "shell.execute_reply": "2024-06-10T16:25:07.561836Z"
        },
        "trusted": true
      }
    },
    {
      "cell_type": "code",
      "source": [
        "general_preds_sub = (rf_preds + cat_preds_final + lgb_preds + xgb_preds)/4\n",
        "general_preds_sub"
      ],
      "outputs": [],
      "execution_count": null,
      "metadata": {
        "execution": {
          "iopub.status.busy": "2024-06-10T16:28:20.943155Z",
          "iopub.execute_input": "2024-06-10T16:28:20.945143Z",
          "iopub.status.idle": "2024-06-10T16:28:20.958561Z",
          "shell.execute_reply.started": "2024-06-10T16:28:20.945075Z",
          "shell.execute_reply": "2024-06-10T16:28:20.956686Z"
        },
        "trusted": true
      }
    },
    {
      "cell_type": "code",
      "source": [
        "rf_preds.shape,cat_preds_final.shape,lgb_preds.shape,xgb_preds.shape,general_preds_sub.shape"
      ],
      "outputs": [],
      "execution_count": null,
      "metadata": {
        "execution": {
          "iopub.status.busy": "2024-06-10T16:28:38.683042Z",
          "iopub.execute_input": "2024-06-10T16:28:38.684688Z",
          "iopub.status.idle": "2024-06-10T16:28:38.694103Z",
          "shell.execute_reply.started": "2024-06-10T16:28:38.684613Z",
          "shell.execute_reply": "2024-06-10T16:28:38.692647Z"
        },
        "trusted": true
      }
    },
    {
      "cell_type": "code",
      "source": [
        "mapping = dict(enumerate(dls.vocab))\n",
        "predicted_labels = [mapping[value.item()] for value in general_preds_sub]"
      ],
      "outputs": [],
      "execution_count": null,
      "metadata": {
        "execution": {
          "iopub.status.busy": "2024-06-10T16:30:51.649383Z",
          "iopub.execute_input": "2024-06-10T16:30:51.649972Z",
          "iopub.status.idle": "2024-06-10T16:30:51.790223Z",
          "shell.execute_reply.started": "2024-06-10T16:30:51.649932Z",
          "shell.execute_reply": "2024-06-10T16:30:51.788648Z"
        },
        "trusted": true
      }
    },
    {
      "cell_type": "code",
      "source": [
        "mapping = dict(enumerate(dls.vocab))\n",
        "predicted_labels = [mapping[value.item()] for value in general_preds_sub]\n",
        "submit = pd.read_csv(path/'sample_submission.csv')\n",
        "submit.Target = predicted_labels\n",
        "submit.to_csv('submission.csv',index=False)\n",
        "submit"
      ],
      "outputs": [],
      "execution_count": null,
      "metadata": {}
    },
    {
      "cell_type": "markdown",
      "source": [
        "# Adding original dataset"
      ],
      "metadata": {}
    },
    {
      "cell_type": "code",
      "source": [
        "#original_df = pd.read_csv('/kaggle/input/academic-success-dataset/data.csv', delimiter=';')"
      ],
      "outputs": [],
      "execution_count": null,
      "metadata": {
        "execution": {
          "iopub.status.busy": "2024-06-11T10:07:03.081469Z",
          "iopub.execute_input": "2024-06-11T10:07:03.081854Z",
          "iopub.status.idle": "2024-06-11T10:07:03.107928Z",
          "shell.execute_reply.started": "2024-06-11T10:07:03.081820Z",
          "shell.execute_reply": "2024-06-11T10:07:03.106503Z"
        },
        "trusted": true
      }
    },
    {
      "cell_type": "code",
      "source": [
        "original_df.rename(columns={'Daytime/evening attendance\\t':'Daytime/evening attendance'}, inplace=True)"
      ],
      "outputs": [],
      "execution_count": 41,
      "metadata": {
        "execution": {
          "iopub.status.busy": "2024-06-11T10:07:03.948777Z",
          "iopub.execute_input": "2024-06-11T10:07:03.949216Z",
          "iopub.status.idle": "2024-06-11T10:07:03.955727Z",
          "shell.execute_reply.started": "2024-06-11T10:07:03.949179Z",
          "shell.execute_reply": "2024-06-11T10:07:03.954382Z"
        },
        "trusted": true,
        "gather": {
          "logged": 1718112314263
        }
      }
    },
    {
      "cell_type": "code",
      "source": [
        "train_final = pd.concat([train_df,original_df], axis=0)\n",
        "test_final = pd.concat([test_df,original_df], axis=0)"
      ],
      "outputs": [],
      "execution_count": 42,
      "metadata": {
        "execution": {
          "iopub.status.busy": "2024-06-11T10:08:36.944802Z",
          "iopub.execute_input": "2024-06-11T10:08:36.945481Z",
          "iopub.status.idle": "2024-06-11T10:08:36.967207Z",
          "shell.execute_reply.started": "2024-06-11T10:08:36.945432Z",
          "shell.execute_reply": "2024-06-11T10:08:36.966023Z"
        },
        "trusted": true,
        "gather": {
          "logged": 1718112319292
        }
      }
    },
    {
      "cell_type": "code",
      "source": [
        "test_final = pd.concat([test_df,original_df], axis=0)"
      ],
      "outputs": [],
      "execution_count": 48,
      "metadata": {
        "jupyter": {
          "source_hidden": false,
          "outputs_hidden": false
        },
        "nteract": {
          "transient": {
            "deleting": false
          }
        },
        "gather": {
          "logged": 1718112521862
        }
      }
    },
    {
      "cell_type": "code",
      "source": [
        "cont_names,cat_names = cont_cat_split(train_final, dep_var='Target')\n",
        "splits = RandomSplitter(valid_pct=0.2)(range_of(train_final))\n",
        "to = TabularPandas(train_final, procs=[Categorify, FillMissing,Normalize],\n",
        "                   cat_names = cat_names,\n",
        "                   cont_names = cont_names,\n",
        "                   y_names='Target',\n",
        "                   y_block=CategoryBlock(),\n",
        "                   splits=splits)\n",
        "\n",
        "X_train, y_train = to.train.xs, to.train.ys.values.ravel()\n",
        "X_test, y_test = to.valid.xs, to.valid.ys.values.ravel()\n",
        "\n",
        "dls = to.dataloaders(bs=64)\n",
        "#test_dl = dls.test_dl(test_df)"
      ],
      "outputs": [],
      "execution_count": 43,
      "metadata": {
        "execution": {
          "iopub.status.busy": "2024-06-11T10:08:37.293120Z",
          "iopub.execute_input": "2024-06-11T10:08:37.293538Z",
          "iopub.status.idle": "2024-06-11T10:08:37.651777Z",
          "shell.execute_reply.started": "2024-06-11T10:08:37.293503Z",
          "shell.execute_reply": "2024-06-11T10:08:37.650156Z"
        },
        "trusted": true,
        "gather": {
          "logged": 1718112324498
        }
      }
    },
    {
      "cell_type": "code",
      "source": [
        "test_dl = dls.test_dl(test_final)"
      ],
      "outputs": [],
      "execution_count": 49,
      "metadata": {
        "execution": {
          "iopub.status.busy": "2024-06-11T10:08:37.653845Z",
          "iopub.execute_input": "2024-06-11T10:08:37.654232Z",
          "iopub.status.idle": "2024-06-11T10:08:37.721786Z",
          "shell.execute_reply.started": "2024-06-11T10:08:37.654199Z",
          "shell.execute_reply": "2024-06-11T10:08:37.720574Z"
        },
        "trusted": true,
        "gather": {
          "logged": 1718112522701
        }
      }
    },
    {
      "cell_type": "code",
      "source": [
        "%%time\n",
        "rf = RandomForestClassifier(100, min_samples_leaf=3)\n",
        "rf_model = rf.fit(X_train, y_train);\n",
        "\n",
        "rf_preds = tensor(rf_model.predict(test_dl.xs))\n",
        "\n",
        "rf_preds_x = tensor(rf_model.predict(X_test))\n",
        "\n",
        "mse = mean_absolute_error(y_test, rf_preds_x)\n",
        "rmse = np.sqrt(mse)\n",
        "\n",
        "accuracy_score(y_test,rf_preds_x)"
      ],
      "outputs": [
        {
          "output_type": "stream",
          "name": "stdout",
          "text": "CPU times: user 12.2 s, sys: 71.1 ms, total: 12.2 s\nWall time: 12.2 s\n"
        },
        {
          "output_type": "execute_result",
          "execution_count": 50,
          "data": {
            "text/plain": "0.8319743019520632"
          },
          "metadata": {}
        }
      ],
      "execution_count": 50,
      "metadata": {
        "execution": {
          "iopub.status.busy": "2024-06-11T10:08:51.760974Z",
          "iopub.execute_input": "2024-06-11T10:08:51.761442Z",
          "iopub.status.idle": "2024-06-11T10:09:11.432661Z",
          "shell.execute_reply.started": "2024-06-11T10:08:51.761406Z",
          "shell.execute_reply": "2024-06-11T10:09:11.431259Z"
        },
        "trusted": true
      }
    },
    {
      "cell_type": "markdown",
      "source": [
        "{'random forests': 0.8236293537214925, 'cat boost': 0.8265699536038685, 'lgbm': 0.8253283669868653, 'xgboost': 0.8268313402600798}"
      ],
      "metadata": {}
    },
    {
      "cell_type": "code",
      "source": [
        "%%time\n",
        "cat_model = CatBoostClassifier(iterations=2000, depth=8, learning_rate=  0.08, random_strength=10)\n",
        "cat_model = cat_model.fit(X_train, y_train, eval_set=(X_test, y_test), verbose=False)\n",
        "\n",
        "#test set preds\n",
        "cat_preds = tensor(cat_model.predict(test_dl.xs))\n",
        "\n",
        "\n",
        "cat_preds_final = cat_preds.squeeze(1)\n",
        "\n",
        "#validation set preds\n",
        "cat_preds_x = tensor(cat_model.predict(X_test))\n",
        "\n",
        "cat_preds_x_final = cat_preds_x.squeeze(1)\n",
        "\n",
        "accuracy_score(y_test,cat_preds_x)"
      ],
      "outputs": [
        {
          "output_type": "stream",
          "name": "stdout",
          "text": "CPU times: user 10min 23s, sys: 9.57 s, total: 10min 32s\nWall time: 3min\n"
        },
        {
          "output_type": "execute_result",
          "execution_count": 51,
          "data": {
            "text/plain": "0.8377192982456141"
          },
          "metadata": {}
        }
      ],
      "execution_count": 51,
      "metadata": {
        "execution": {
          "iopub.status.busy": "2024-06-11T10:09:11.434521Z",
          "iopub.execute_input": "2024-06-11T10:09:11.434885Z",
          "iopub.status.idle": "2024-06-11T10:12:21.601471Z",
          "shell.execute_reply.started": "2024-06-11T10:09:11.434852Z",
          "shell.execute_reply": "2024-06-11T10:12:21.600095Z"
        },
        "trusted": true
      }
    },
    {
      "cell_type": "code",
      "source": [
        "%%time\n",
        "xgb_model = xgb.XGBClassifier(n_estimators = 197, max_depth=4, learning_rate=0.1818695751227044, subsample= 0.39774994666482544)\n",
        "xgb_model = xgb_model.fit(X_train, y_train)\n",
        "xgb_preds = tensor(xgb_model.predict(test_dl.xs))\n",
        "\n",
        "xgb_preds_x = tensor(xgb_model.predict(X_test))\n",
        "\n",
        "accuracy_score(y_test,xgb_preds_x)"
      ],
      "outputs": [
        {
          "output_type": "error",
          "ename": "ValueError",
          "evalue": "Invalid classes inferred from unique values of `y`.  Expected: [0 1 2 3], got [-1  0  1  2]",
          "traceback": [
            "\u001b[0;31m---------------------------------------------------------------------------\u001b[0m",
            "\u001b[0;31mValueError\u001b[0m                                Traceback (most recent call last)",
            "File \u001b[0;32m<timed exec>:2\u001b[0m\n",
            "File \u001b[0;32m/anaconda/envs/azureml_py38_PT_TF/lib/python3.8/site-packages/xgboost/core.py:730\u001b[0m, in \u001b[0;36mrequire_keyword_args.<locals>.throw_if.<locals>.inner_f\u001b[0;34m(*args, **kwargs)\u001b[0m\n\u001b[1;32m    728\u001b[0m \u001b[38;5;28;01mfor\u001b[39;00m k, arg \u001b[38;5;129;01min\u001b[39;00m \u001b[38;5;28mzip\u001b[39m(sig\u001b[38;5;241m.\u001b[39mparameters, args):\n\u001b[1;32m    729\u001b[0m     kwargs[k] \u001b[38;5;241m=\u001b[39m arg\n\u001b[0;32m--> 730\u001b[0m \u001b[38;5;28;01mreturn\u001b[39;00m \u001b[43mfunc\u001b[49m\u001b[43m(\u001b[49m\u001b[38;5;241;43m*\u001b[39;49m\u001b[38;5;241;43m*\u001b[39;49m\u001b[43mkwargs\u001b[49m\u001b[43m)\u001b[49m\n",
            "File \u001b[0;32m/anaconda/envs/azureml_py38_PT_TF/lib/python3.8/site-packages/xgboost/sklearn.py:1471\u001b[0m, in \u001b[0;36mXGBClassifier.fit\u001b[0;34m(self, X, y, sample_weight, base_margin, eval_set, eval_metric, early_stopping_rounds, verbose, xgb_model, sample_weight_eval_set, base_margin_eval_set, feature_weights, callbacks)\u001b[0m\n\u001b[1;32m   1466\u001b[0m     expected_classes \u001b[38;5;241m=\u001b[39m \u001b[38;5;28mself\u001b[39m\u001b[38;5;241m.\u001b[39mclasses_\n\u001b[1;32m   1467\u001b[0m \u001b[38;5;28;01mif\u001b[39;00m (\n\u001b[1;32m   1468\u001b[0m     classes\u001b[38;5;241m.\u001b[39mshape \u001b[38;5;241m!=\u001b[39m expected_classes\u001b[38;5;241m.\u001b[39mshape\n\u001b[1;32m   1469\u001b[0m     \u001b[38;5;129;01mor\u001b[39;00m \u001b[38;5;129;01mnot\u001b[39;00m (classes \u001b[38;5;241m==\u001b[39m expected_classes)\u001b[38;5;241m.\u001b[39mall()\n\u001b[1;32m   1470\u001b[0m ):\n\u001b[0;32m-> 1471\u001b[0m     \u001b[38;5;28;01mraise\u001b[39;00m \u001b[38;5;167;01mValueError\u001b[39;00m(\n\u001b[1;32m   1472\u001b[0m         \u001b[38;5;124mf\u001b[39m\u001b[38;5;124m\"\u001b[39m\u001b[38;5;124mInvalid classes inferred from unique values of `y`.  \u001b[39m\u001b[38;5;124m\"\u001b[39m\n\u001b[1;32m   1473\u001b[0m         \u001b[38;5;124mf\u001b[39m\u001b[38;5;124m\"\u001b[39m\u001b[38;5;124mExpected: \u001b[39m\u001b[38;5;132;01m{\u001b[39;00mexpected_classes\u001b[38;5;132;01m}\u001b[39;00m\u001b[38;5;124m, got \u001b[39m\u001b[38;5;132;01m{\u001b[39;00mclasses\u001b[38;5;132;01m}\u001b[39;00m\u001b[38;5;124m\"\u001b[39m\n\u001b[1;32m   1474\u001b[0m     )\n\u001b[1;32m   1476\u001b[0m params \u001b[38;5;241m=\u001b[39m \u001b[38;5;28mself\u001b[39m\u001b[38;5;241m.\u001b[39mget_xgb_params()\n\u001b[1;32m   1478\u001b[0m \u001b[38;5;28;01mif\u001b[39;00m \u001b[38;5;28mcallable\u001b[39m(\u001b[38;5;28mself\u001b[39m\u001b[38;5;241m.\u001b[39mobjective):\n",
            "\u001b[0;31mValueError\u001b[0m: Invalid classes inferred from unique values of `y`.  Expected: [0 1 2 3], got [-1  0  1  2]"
          ]
        }
      ],
      "execution_count": 55,
      "metadata": {
        "execution": {
          "iopub.status.busy": "2024-06-11T10:13:02.665580Z",
          "iopub.execute_input": "2024-06-11T10:13:02.666971Z",
          "iopub.status.idle": "2024-06-11T10:13:10.180281Z",
          "shell.execute_reply.started": "2024-06-11T10:13:02.666926Z",
          "shell.execute_reply": "2024-06-11T10:13:10.179054Z"
        },
        "trusted": true
      }
    },
    {
      "cell_type": "code",
      "source": [
        "lgb_model = lgb.LGBMClassifier(num_leaves=251, learning_rate=0.02956613668999794, n_estimators=483, max_depth=82, boosting_type='gbdt',min_child_samples=90, random_state=27)\n",
        "lgb_model = lgb_model.fit(X_train, y_train)\n",
        "\n",
        "#test set preds\n",
        "lgb_preds = tensor(lgb_model.predict(test_dl.xs))\n",
        "\n",
        "#validation set preds\n",
        "lgb_preds_x = tensor(lgb_model.predict(X_test))\n",
        "\n",
        "lgb_score = accuracy_score(y_test,lgb_preds_x)\n",
        "lgb_score"
      ],
      "outputs": [
        {
          "output_type": "stream",
          "name": "stderr",
          "text": "[LightGBM] [Fatal] Do not support special JSON characters in feature name.\n"
        },
        {
          "output_type": "error",
          "ename": "LightGBMError",
          "evalue": "Do not support special JSON characters in feature name.",
          "traceback": [
            "\u001b[0;31m---------------------------------------------------------------------------\u001b[0m",
            "\u001b[0;31mLightGBMError\u001b[0m                             Traceback (most recent call last)",
            "Cell \u001b[0;32mIn[54], line 2\u001b[0m\n\u001b[1;32m      1\u001b[0m lgb_model \u001b[38;5;241m=\u001b[39m lgb\u001b[38;5;241m.\u001b[39mLGBMClassifier(num_leaves\u001b[38;5;241m=\u001b[39m\u001b[38;5;241m251\u001b[39m, learning_rate\u001b[38;5;241m=\u001b[39m\u001b[38;5;241m0.02956613668999794\u001b[39m, n_estimators\u001b[38;5;241m=\u001b[39m\u001b[38;5;241m483\u001b[39m, max_depth\u001b[38;5;241m=\u001b[39m\u001b[38;5;241m82\u001b[39m, boosting_type\u001b[38;5;241m=\u001b[39m\u001b[38;5;124m'\u001b[39m\u001b[38;5;124mgbdt\u001b[39m\u001b[38;5;124m'\u001b[39m,min_child_samples\u001b[38;5;241m=\u001b[39m\u001b[38;5;241m90\u001b[39m, random_state\u001b[38;5;241m=\u001b[39m\u001b[38;5;241m27\u001b[39m)\n\u001b[0;32m----> 2\u001b[0m lgb_model \u001b[38;5;241m=\u001b[39m \u001b[43mlgb_model\u001b[49m\u001b[38;5;241;43m.\u001b[39;49m\u001b[43mfit\u001b[49m\u001b[43m(\u001b[49m\u001b[43mX_train\u001b[49m\u001b[43m,\u001b[49m\u001b[43m \u001b[49m\u001b[43my_train\u001b[49m\u001b[43m)\u001b[49m\n\u001b[1;32m      4\u001b[0m \u001b[38;5;66;03m#test set preds\u001b[39;00m\n\u001b[1;32m      5\u001b[0m lgb_preds \u001b[38;5;241m=\u001b[39m tensor(lgb_model\u001b[38;5;241m.\u001b[39mpredict(test_dl\u001b[38;5;241m.\u001b[39mxs))\n",
            "File \u001b[0;32m/anaconda/envs/azureml_py38_PT_TF/lib/python3.8/site-packages/lightgbm/sklearn.py:967\u001b[0m, in \u001b[0;36mLGBMClassifier.fit\u001b[0;34m(self, X, y, sample_weight, init_score, eval_set, eval_names, eval_sample_weight, eval_class_weight, eval_init_score, eval_metric, early_stopping_rounds, verbose, feature_name, categorical_feature, callbacks, init_model)\u001b[0m\n\u001b[1;32m    964\u001b[0m         \u001b[38;5;28;01melse\u001b[39;00m:\n\u001b[1;32m    965\u001b[0m             valid_sets[i] \u001b[38;5;241m=\u001b[39m (valid_x, \u001b[38;5;28mself\u001b[39m\u001b[38;5;241m.\u001b[39m_le\u001b[38;5;241m.\u001b[39mtransform(valid_y))\n\u001b[0;32m--> 967\u001b[0m \u001b[38;5;28;43msuper\u001b[39;49m\u001b[43m(\u001b[49m\u001b[43m)\u001b[49m\u001b[38;5;241;43m.\u001b[39;49m\u001b[43mfit\u001b[49m\u001b[43m(\u001b[49m\u001b[43mX\u001b[49m\u001b[43m,\u001b[49m\u001b[43m \u001b[49m\u001b[43m_y\u001b[49m\u001b[43m,\u001b[49m\u001b[43m \u001b[49m\u001b[43msample_weight\u001b[49m\u001b[38;5;241;43m=\u001b[39;49m\u001b[43msample_weight\u001b[49m\u001b[43m,\u001b[49m\u001b[43m \u001b[49m\u001b[43minit_score\u001b[49m\u001b[38;5;241;43m=\u001b[39;49m\u001b[43minit_score\u001b[49m\u001b[43m,\u001b[49m\u001b[43m \u001b[49m\u001b[43meval_set\u001b[49m\u001b[38;5;241;43m=\u001b[39;49m\u001b[43mvalid_sets\u001b[49m\u001b[43m,\u001b[49m\n\u001b[1;32m    968\u001b[0m \u001b[43m            \u001b[49m\u001b[43meval_names\u001b[49m\u001b[38;5;241;43m=\u001b[39;49m\u001b[43meval_names\u001b[49m\u001b[43m,\u001b[49m\u001b[43m \u001b[49m\u001b[43meval_sample_weight\u001b[49m\u001b[38;5;241;43m=\u001b[39;49m\u001b[43meval_sample_weight\u001b[49m\u001b[43m,\u001b[49m\n\u001b[1;32m    969\u001b[0m \u001b[43m            \u001b[49m\u001b[43meval_class_weight\u001b[49m\u001b[38;5;241;43m=\u001b[39;49m\u001b[43meval_class_weight\u001b[49m\u001b[43m,\u001b[49m\u001b[43m \u001b[49m\u001b[43meval_init_score\u001b[49m\u001b[38;5;241;43m=\u001b[39;49m\u001b[43meval_init_score\u001b[49m\u001b[43m,\u001b[49m\n\u001b[1;32m    970\u001b[0m \u001b[43m            \u001b[49m\u001b[43meval_metric\u001b[49m\u001b[38;5;241;43m=\u001b[39;49m\u001b[43meval_metric\u001b[49m\u001b[43m,\u001b[49m\u001b[43m \u001b[49m\u001b[43mearly_stopping_rounds\u001b[49m\u001b[38;5;241;43m=\u001b[39;49m\u001b[43mearly_stopping_rounds\u001b[49m\u001b[43m,\u001b[49m\n\u001b[1;32m    971\u001b[0m \u001b[43m            \u001b[49m\u001b[43mverbose\u001b[49m\u001b[38;5;241;43m=\u001b[39;49m\u001b[43mverbose\u001b[49m\u001b[43m,\u001b[49m\u001b[43m \u001b[49m\u001b[43mfeature_name\u001b[49m\u001b[38;5;241;43m=\u001b[39;49m\u001b[43mfeature_name\u001b[49m\u001b[43m,\u001b[49m\u001b[43m \u001b[49m\u001b[43mcategorical_feature\u001b[49m\u001b[38;5;241;43m=\u001b[39;49m\u001b[43mcategorical_feature\u001b[49m\u001b[43m,\u001b[49m\n\u001b[1;32m    972\u001b[0m \u001b[43m            \u001b[49m\u001b[43mcallbacks\u001b[49m\u001b[38;5;241;43m=\u001b[39;49m\u001b[43mcallbacks\u001b[49m\u001b[43m,\u001b[49m\u001b[43m \u001b[49m\u001b[43minit_model\u001b[49m\u001b[38;5;241;43m=\u001b[39;49m\u001b[43minit_model\u001b[49m\u001b[43m)\u001b[49m\n\u001b[1;32m    973\u001b[0m \u001b[38;5;28;01mreturn\u001b[39;00m \u001b[38;5;28mself\u001b[39m\n",
            "File \u001b[0;32m/anaconda/envs/azureml_py38_PT_TF/lib/python3.8/site-packages/lightgbm/sklearn.py:748\u001b[0m, in \u001b[0;36mLGBMModel.fit\u001b[0;34m(self, X, y, sample_weight, init_score, group, eval_set, eval_names, eval_sample_weight, eval_class_weight, eval_init_score, eval_group, eval_metric, early_stopping_rounds, verbose, feature_name, categorical_feature, callbacks, init_model)\u001b[0m\n\u001b[1;32m    745\u001b[0m evals_result \u001b[38;5;241m=\u001b[39m {}\n\u001b[1;32m    746\u001b[0m callbacks\u001b[38;5;241m.\u001b[39mappend(record_evaluation(evals_result))\n\u001b[0;32m--> 748\u001b[0m \u001b[38;5;28mself\u001b[39m\u001b[38;5;241m.\u001b[39m_Booster \u001b[38;5;241m=\u001b[39m \u001b[43mtrain\u001b[49m\u001b[43m(\u001b[49m\n\u001b[1;32m    749\u001b[0m \u001b[43m    \u001b[49m\u001b[43mparams\u001b[49m\u001b[38;5;241;43m=\u001b[39;49m\u001b[43mparams\u001b[49m\u001b[43m,\u001b[49m\n\u001b[1;32m    750\u001b[0m \u001b[43m    \u001b[49m\u001b[43mtrain_set\u001b[49m\u001b[38;5;241;43m=\u001b[39;49m\u001b[43mtrain_set\u001b[49m\u001b[43m,\u001b[49m\n\u001b[1;32m    751\u001b[0m \u001b[43m    \u001b[49m\u001b[43mnum_boost_round\u001b[49m\u001b[38;5;241;43m=\u001b[39;49m\u001b[38;5;28;43mself\u001b[39;49m\u001b[38;5;241;43m.\u001b[39;49m\u001b[43mn_estimators\u001b[49m\u001b[43m,\u001b[49m\n\u001b[1;32m    752\u001b[0m \u001b[43m    \u001b[49m\u001b[43mvalid_sets\u001b[49m\u001b[38;5;241;43m=\u001b[39;49m\u001b[43mvalid_sets\u001b[49m\u001b[43m,\u001b[49m\n\u001b[1;32m    753\u001b[0m \u001b[43m    \u001b[49m\u001b[43mvalid_names\u001b[49m\u001b[38;5;241;43m=\u001b[39;49m\u001b[43meval_names\u001b[49m\u001b[43m,\u001b[49m\n\u001b[1;32m    754\u001b[0m \u001b[43m    \u001b[49m\u001b[43mfobj\u001b[49m\u001b[38;5;241;43m=\u001b[39;49m\u001b[38;5;28;43mself\u001b[39;49m\u001b[38;5;241;43m.\u001b[39;49m\u001b[43m_fobj\u001b[49m\u001b[43m,\u001b[49m\n\u001b[1;32m    755\u001b[0m \u001b[43m    \u001b[49m\u001b[43mfeval\u001b[49m\u001b[38;5;241;43m=\u001b[39;49m\u001b[43meval_metrics_callable\u001b[49m\u001b[43m,\u001b[49m\n\u001b[1;32m    756\u001b[0m \u001b[43m    \u001b[49m\u001b[43minit_model\u001b[49m\u001b[38;5;241;43m=\u001b[39;49m\u001b[43minit_model\u001b[49m\u001b[43m,\u001b[49m\n\u001b[1;32m    757\u001b[0m \u001b[43m    \u001b[49m\u001b[43mfeature_name\u001b[49m\u001b[38;5;241;43m=\u001b[39;49m\u001b[43mfeature_name\u001b[49m\u001b[43m,\u001b[49m\n\u001b[1;32m    758\u001b[0m \u001b[43m    \u001b[49m\u001b[43mcallbacks\u001b[49m\u001b[38;5;241;43m=\u001b[39;49m\u001b[43mcallbacks\u001b[49m\n\u001b[1;32m    759\u001b[0m \u001b[43m\u001b[49m\u001b[43m)\u001b[49m\n\u001b[1;32m    761\u001b[0m \u001b[38;5;28;01mif\u001b[39;00m evals_result:\n\u001b[1;32m    762\u001b[0m     \u001b[38;5;28mself\u001b[39m\u001b[38;5;241m.\u001b[39m_evals_result \u001b[38;5;241m=\u001b[39m evals_result\n",
            "File \u001b[0;32m/anaconda/envs/azureml_py38_PT_TF/lib/python3.8/site-packages/lightgbm/engine.py:271\u001b[0m, in \u001b[0;36mtrain\u001b[0;34m(params, train_set, num_boost_round, valid_sets, valid_names, fobj, feval, init_model, feature_name, categorical_feature, early_stopping_rounds, evals_result, verbose_eval, learning_rates, keep_training_booster, callbacks)\u001b[0m\n\u001b[1;32m    269\u001b[0m \u001b[38;5;66;03m# construct booster\u001b[39;00m\n\u001b[1;32m    270\u001b[0m \u001b[38;5;28;01mtry\u001b[39;00m:\n\u001b[0;32m--> 271\u001b[0m     booster \u001b[38;5;241m=\u001b[39m \u001b[43mBooster\u001b[49m\u001b[43m(\u001b[49m\u001b[43mparams\u001b[49m\u001b[38;5;241;43m=\u001b[39;49m\u001b[43mparams\u001b[49m\u001b[43m,\u001b[49m\u001b[43m \u001b[49m\u001b[43mtrain_set\u001b[49m\u001b[38;5;241;43m=\u001b[39;49m\u001b[43mtrain_set\u001b[49m\u001b[43m)\u001b[49m\n\u001b[1;32m    272\u001b[0m     \u001b[38;5;28;01mif\u001b[39;00m is_valid_contain_train:\n\u001b[1;32m    273\u001b[0m         booster\u001b[38;5;241m.\u001b[39mset_train_data_name(train_data_name)\n",
            "File \u001b[0;32m/anaconda/envs/azureml_py38_PT_TF/lib/python3.8/site-packages/lightgbm/basic.py:2605\u001b[0m, in \u001b[0;36mBooster.__init__\u001b[0;34m(self, params, train_set, model_file, model_str, silent)\u001b[0m\n\u001b[1;32m   2598\u001b[0m     \u001b[38;5;28mself\u001b[39m\u001b[38;5;241m.\u001b[39mset_network(\n\u001b[1;32m   2599\u001b[0m         machines\u001b[38;5;241m=\u001b[39mmachines,\n\u001b[1;32m   2600\u001b[0m         local_listen_port\u001b[38;5;241m=\u001b[39mparams[\u001b[38;5;124m\"\u001b[39m\u001b[38;5;124mlocal_listen_port\u001b[39m\u001b[38;5;124m\"\u001b[39m],\n\u001b[1;32m   2601\u001b[0m         listen_time_out\u001b[38;5;241m=\u001b[39mparams\u001b[38;5;241m.\u001b[39mget(\u001b[38;5;124m\"\u001b[39m\u001b[38;5;124mtime_out\u001b[39m\u001b[38;5;124m\"\u001b[39m, \u001b[38;5;241m120\u001b[39m),\n\u001b[1;32m   2602\u001b[0m         num_machines\u001b[38;5;241m=\u001b[39mparams[\u001b[38;5;124m\"\u001b[39m\u001b[38;5;124mnum_machines\u001b[39m\u001b[38;5;124m\"\u001b[39m]\n\u001b[1;32m   2603\u001b[0m     )\n\u001b[1;32m   2604\u001b[0m \u001b[38;5;66;03m# construct booster object\u001b[39;00m\n\u001b[0;32m-> 2605\u001b[0m \u001b[43mtrain_set\u001b[49m\u001b[38;5;241;43m.\u001b[39;49m\u001b[43mconstruct\u001b[49m\u001b[43m(\u001b[49m\u001b[43m)\u001b[49m\n\u001b[1;32m   2606\u001b[0m \u001b[38;5;66;03m# copy the parameters from train_set\u001b[39;00m\n\u001b[1;32m   2607\u001b[0m params\u001b[38;5;241m.\u001b[39mupdate(train_set\u001b[38;5;241m.\u001b[39mget_params())\n",
            "File \u001b[0;32m/anaconda/envs/azureml_py38_PT_TF/lib/python3.8/site-packages/lightgbm/basic.py:1815\u001b[0m, in \u001b[0;36mDataset.construct\u001b[0;34m(self)\u001b[0m\n\u001b[1;32m   1812\u001b[0m             \u001b[38;5;28mself\u001b[39m\u001b[38;5;241m.\u001b[39m_set_init_score_by_predictor(\u001b[38;5;28mself\u001b[39m\u001b[38;5;241m.\u001b[39m_predictor, \u001b[38;5;28mself\u001b[39m\u001b[38;5;241m.\u001b[39mdata, used_indices)\n\u001b[1;32m   1813\u001b[0m \u001b[38;5;28;01melse\u001b[39;00m:\n\u001b[1;32m   1814\u001b[0m     \u001b[38;5;66;03m# create train\u001b[39;00m\n\u001b[0;32m-> 1815\u001b[0m     \u001b[38;5;28;43mself\u001b[39;49m\u001b[38;5;241;43m.\u001b[39;49m\u001b[43m_lazy_init\u001b[49m\u001b[43m(\u001b[49m\u001b[38;5;28;43mself\u001b[39;49m\u001b[38;5;241;43m.\u001b[39;49m\u001b[43mdata\u001b[49m\u001b[43m,\u001b[49m\u001b[43m \u001b[49m\u001b[43mlabel\u001b[49m\u001b[38;5;241;43m=\u001b[39;49m\u001b[38;5;28;43mself\u001b[39;49m\u001b[38;5;241;43m.\u001b[39;49m\u001b[43mlabel\u001b[49m\u001b[43m,\u001b[49m\n\u001b[1;32m   1816\u001b[0m \u001b[43m                    \u001b[49m\u001b[43mweight\u001b[49m\u001b[38;5;241;43m=\u001b[39;49m\u001b[38;5;28;43mself\u001b[39;49m\u001b[38;5;241;43m.\u001b[39;49m\u001b[43mweight\u001b[49m\u001b[43m,\u001b[49m\u001b[43m \u001b[49m\u001b[43mgroup\u001b[49m\u001b[38;5;241;43m=\u001b[39;49m\u001b[38;5;28;43mself\u001b[39;49m\u001b[38;5;241;43m.\u001b[39;49m\u001b[43mgroup\u001b[49m\u001b[43m,\u001b[49m\n\u001b[1;32m   1817\u001b[0m \u001b[43m                    \u001b[49m\u001b[43minit_score\u001b[49m\u001b[38;5;241;43m=\u001b[39;49m\u001b[38;5;28;43mself\u001b[39;49m\u001b[38;5;241;43m.\u001b[39;49m\u001b[43minit_score\u001b[49m\u001b[43m,\u001b[49m\u001b[43m \u001b[49m\u001b[43mpredictor\u001b[49m\u001b[38;5;241;43m=\u001b[39;49m\u001b[38;5;28;43mself\u001b[39;49m\u001b[38;5;241;43m.\u001b[39;49m\u001b[43m_predictor\u001b[49m\u001b[43m,\u001b[49m\n\u001b[1;32m   1818\u001b[0m \u001b[43m                    \u001b[49m\u001b[43msilent\u001b[49m\u001b[38;5;241;43m=\u001b[39;49m\u001b[38;5;28;43mself\u001b[39;49m\u001b[38;5;241;43m.\u001b[39;49m\u001b[43msilent\u001b[49m\u001b[43m,\u001b[49m\u001b[43m \u001b[49m\u001b[43mfeature_name\u001b[49m\u001b[38;5;241;43m=\u001b[39;49m\u001b[38;5;28;43mself\u001b[39;49m\u001b[38;5;241;43m.\u001b[39;49m\u001b[43mfeature_name\u001b[49m\u001b[43m,\u001b[49m\n\u001b[1;32m   1819\u001b[0m \u001b[43m                    \u001b[49m\u001b[43mcategorical_feature\u001b[49m\u001b[38;5;241;43m=\u001b[39;49m\u001b[38;5;28;43mself\u001b[39;49m\u001b[38;5;241;43m.\u001b[39;49m\u001b[43mcategorical_feature\u001b[49m\u001b[43m,\u001b[49m\u001b[43m \u001b[49m\u001b[43mparams\u001b[49m\u001b[38;5;241;43m=\u001b[39;49m\u001b[38;5;28;43mself\u001b[39;49m\u001b[38;5;241;43m.\u001b[39;49m\u001b[43mparams\u001b[49m\u001b[43m)\u001b[49m\n\u001b[1;32m   1820\u001b[0m \u001b[38;5;28;01mif\u001b[39;00m \u001b[38;5;28mself\u001b[39m\u001b[38;5;241m.\u001b[39mfree_raw_data:\n\u001b[1;32m   1821\u001b[0m     \u001b[38;5;28mself\u001b[39m\u001b[38;5;241m.\u001b[39mdata \u001b[38;5;241m=\u001b[39m \u001b[38;5;28;01mNone\u001b[39;00m\n",
            "File \u001b[0;32m/anaconda/envs/azureml_py38_PT_TF/lib/python3.8/site-packages/lightgbm/basic.py:1573\u001b[0m, in \u001b[0;36mDataset._lazy_init\u001b[0;34m(self, data, label, reference, weight, group, init_score, predictor, silent, feature_name, categorical_feature, params)\u001b[0m\n\u001b[1;32m   1571\u001b[0m     \u001b[38;5;28;01mraise\u001b[39;00m \u001b[38;5;167;01mTypeError\u001b[39;00m(\u001b[38;5;124mf\u001b[39m\u001b[38;5;124m'\u001b[39m\u001b[38;5;124mWrong predictor type \u001b[39m\u001b[38;5;132;01m{\u001b[39;00m\u001b[38;5;28mtype\u001b[39m(predictor)\u001b[38;5;241m.\u001b[39m\u001b[38;5;18m__name__\u001b[39m\u001b[38;5;132;01m}\u001b[39;00m\u001b[38;5;124m'\u001b[39m)\n\u001b[1;32m   1572\u001b[0m \u001b[38;5;66;03m# set feature names\u001b[39;00m\n\u001b[0;32m-> 1573\u001b[0m \u001b[38;5;28;01mreturn\u001b[39;00m \u001b[38;5;28;43mself\u001b[39;49m\u001b[38;5;241;43m.\u001b[39;49m\u001b[43mset_feature_name\u001b[49m\u001b[43m(\u001b[49m\u001b[43mfeature_name\u001b[49m\u001b[43m)\u001b[49m\n",
            "File \u001b[0;32m/anaconda/envs/azureml_py38_PT_TF/lib/python3.8/site-packages/lightgbm/basic.py:2142\u001b[0m, in \u001b[0;36mDataset.set_feature_name\u001b[0;34m(self, feature_name)\u001b[0m\n\u001b[1;32m   2140\u001b[0m         \u001b[38;5;28;01mraise\u001b[39;00m \u001b[38;5;167;01mValueError\u001b[39;00m(\u001b[38;5;124mf\u001b[39m\u001b[38;5;124m\"\u001b[39m\u001b[38;5;124mLength of feature_name(\u001b[39m\u001b[38;5;132;01m{\u001b[39;00m\u001b[38;5;28mlen\u001b[39m(feature_name)\u001b[38;5;132;01m}\u001b[39;00m\u001b[38;5;124m) and num_feature(\u001b[39m\u001b[38;5;132;01m{\u001b[39;00m\u001b[38;5;28mself\u001b[39m\u001b[38;5;241m.\u001b[39mnum_feature()\u001b[38;5;132;01m}\u001b[39;00m\u001b[38;5;124m) don\u001b[39m\u001b[38;5;124m'\u001b[39m\u001b[38;5;124mt match\u001b[39m\u001b[38;5;124m\"\u001b[39m)\n\u001b[1;32m   2141\u001b[0m     c_feature_name \u001b[38;5;241m=\u001b[39m [c_str(name) \u001b[38;5;28;01mfor\u001b[39;00m name \u001b[38;5;129;01min\u001b[39;00m feature_name]\n\u001b[0;32m-> 2142\u001b[0m     \u001b[43m_safe_call\u001b[49m\u001b[43m(\u001b[49m\u001b[43m_LIB\u001b[49m\u001b[38;5;241;43m.\u001b[39;49m\u001b[43mLGBM_DatasetSetFeatureNames\u001b[49m\u001b[43m(\u001b[49m\n\u001b[1;32m   2143\u001b[0m \u001b[43m        \u001b[49m\u001b[38;5;28;43mself\u001b[39;49m\u001b[38;5;241;43m.\u001b[39;49m\u001b[43mhandle\u001b[49m\u001b[43m,\u001b[49m\n\u001b[1;32m   2144\u001b[0m \u001b[43m        \u001b[49m\u001b[43mc_array\u001b[49m\u001b[43m(\u001b[49m\u001b[43mctypes\u001b[49m\u001b[38;5;241;43m.\u001b[39;49m\u001b[43mc_char_p\u001b[49m\u001b[43m,\u001b[49m\u001b[43m \u001b[49m\u001b[43mc_feature_name\u001b[49m\u001b[43m)\u001b[49m\u001b[43m,\u001b[49m\n\u001b[1;32m   2145\u001b[0m \u001b[43m        \u001b[49m\u001b[43mctypes\u001b[49m\u001b[38;5;241;43m.\u001b[39;49m\u001b[43mc_int\u001b[49m\u001b[43m(\u001b[49m\u001b[38;5;28;43mlen\u001b[39;49m\u001b[43m(\u001b[49m\u001b[43mfeature_name\u001b[49m\u001b[43m)\u001b[49m\u001b[43m)\u001b[49m\u001b[43m)\u001b[49m\u001b[43m)\u001b[49m\n\u001b[1;32m   2146\u001b[0m \u001b[38;5;28;01mreturn\u001b[39;00m \u001b[38;5;28mself\u001b[39m\n",
            "File \u001b[0;32m/anaconda/envs/azureml_py38_PT_TF/lib/python3.8/site-packages/lightgbm/basic.py:125\u001b[0m, in \u001b[0;36m_safe_call\u001b[0;34m(ret)\u001b[0m\n\u001b[1;32m    117\u001b[0m \u001b[38;5;250m\u001b[39m\u001b[38;5;124;03m\"\"\"Check the return value from C API call.\u001b[39;00m\n\u001b[1;32m    118\u001b[0m \n\u001b[1;32m    119\u001b[0m \u001b[38;5;124;03mParameters\u001b[39;00m\n\u001b[0;32m   (...)\u001b[0m\n\u001b[1;32m    122\u001b[0m \u001b[38;5;124;03m    The return value from C API calls.\u001b[39;00m\n\u001b[1;32m    123\u001b[0m \u001b[38;5;124;03m\"\"\"\u001b[39;00m\n\u001b[1;32m    124\u001b[0m \u001b[38;5;28;01mif\u001b[39;00m ret \u001b[38;5;241m!=\u001b[39m \u001b[38;5;241m0\u001b[39m:\n\u001b[0;32m--> 125\u001b[0m     \u001b[38;5;28;01mraise\u001b[39;00m LightGBMError(_LIB\u001b[38;5;241m.\u001b[39mLGBM_GetLastError()\u001b[38;5;241m.\u001b[39mdecode(\u001b[38;5;124m'\u001b[39m\u001b[38;5;124mutf-8\u001b[39m\u001b[38;5;124m'\u001b[39m))\n",
            "\u001b[0;31mLightGBMError\u001b[0m: Do not support special JSON characters in feature name."
          ]
        }
      ],
      "execution_count": 54,
      "metadata": {
        "execution": {
          "iopub.status.busy": "2024-06-11T10:13:10.182004Z",
          "iopub.execute_input": "2024-06-11T10:13:10.182347Z",
          "iopub.status.idle": "2024-06-11T10:14:01.532117Z",
          "shell.execute_reply.started": "2024-06-11T10:13:10.182318Z",
          "shell.execute_reply": "2024-06-11T10:14:01.530865Z"
        },
        "trusted": true,
        "gather": {
          "logged": 1718112749109
        }
      }
    },
    {
      "cell_type": "code",
      "source": [
        "!rm submission.csv"
      ],
      "outputs": [],
      "execution_count": null,
      "metadata": {
        "execution": {
          "iopub.status.busy": "2024-06-11T10:14:33.073981Z",
          "iopub.execute_input": "2024-06-11T10:14:33.074447Z",
          "iopub.status.idle": "2024-06-11T10:14:34.160635Z",
          "shell.execute_reply.started": "2024-06-11T10:14:33.074405Z",
          "shell.execute_reply": "2024-06-11T10:14:34.159067Z"
        },
        "trusted": true
      }
    },
    {
      "cell_type": "code",
      "source": [
        "mapping = dict(enumerate(dls.vocab))\n",
        "predicted_labels = [mapping[value.item()] for value in cat_preds_final]\n",
        "submit = pd.read_csv(path/'sample_submission.csv')\n",
        "submit.Target = predicted_labels\n",
        "submit.to_csv('submission.csv',index=False)\n",
        "submit"
      ],
      "outputs": [
        {
          "output_type": "error",
          "ename": "KeyError",
          "evalue": "-1",
          "traceback": [
            "\u001b[0;31m---------------------------------------------------------------------------\u001b[0m",
            "\u001b[0;31mKeyError\u001b[0m                                  Traceback (most recent call last)",
            "Cell \u001b[0;32mIn[56], line 2\u001b[0m\n\u001b[1;32m      1\u001b[0m mapping \u001b[38;5;241m=\u001b[39m \u001b[38;5;28mdict\u001b[39m(\u001b[38;5;28menumerate\u001b[39m(dls\u001b[38;5;241m.\u001b[39mvocab))\n\u001b[0;32m----> 2\u001b[0m predicted_labels \u001b[38;5;241m=\u001b[39m [mapping[value\u001b[38;5;241m.\u001b[39mitem()] \u001b[38;5;28;01mfor\u001b[39;00m value \u001b[38;5;129;01min\u001b[39;00m cat_preds_final]\n\u001b[1;32m      3\u001b[0m submit \u001b[38;5;241m=\u001b[39m pd\u001b[38;5;241m.\u001b[39mread_csv(path\u001b[38;5;241m/\u001b[39m\u001b[38;5;124m'\u001b[39m\u001b[38;5;124msample_submission.csv\u001b[39m\u001b[38;5;124m'\u001b[39m)\n\u001b[1;32m      4\u001b[0m submit\u001b[38;5;241m.\u001b[39mTarget \u001b[38;5;241m=\u001b[39m predicted_labels\n",
            "Cell \u001b[0;32mIn[56], line 2\u001b[0m, in \u001b[0;36m<listcomp>\u001b[0;34m(.0)\u001b[0m\n\u001b[1;32m      1\u001b[0m mapping \u001b[38;5;241m=\u001b[39m \u001b[38;5;28mdict\u001b[39m(\u001b[38;5;28menumerate\u001b[39m(dls\u001b[38;5;241m.\u001b[39mvocab))\n\u001b[0;32m----> 2\u001b[0m predicted_labels \u001b[38;5;241m=\u001b[39m [\u001b[43mmapping\u001b[49m\u001b[43m[\u001b[49m\u001b[43mvalue\u001b[49m\u001b[38;5;241;43m.\u001b[39;49m\u001b[43mitem\u001b[49m\u001b[43m(\u001b[49m\u001b[43m)\u001b[49m\u001b[43m]\u001b[49m \u001b[38;5;28;01mfor\u001b[39;00m value \u001b[38;5;129;01min\u001b[39;00m cat_preds_final]\n\u001b[1;32m      3\u001b[0m submit \u001b[38;5;241m=\u001b[39m pd\u001b[38;5;241m.\u001b[39mread_csv(path\u001b[38;5;241m/\u001b[39m\u001b[38;5;124m'\u001b[39m\u001b[38;5;124msample_submission.csv\u001b[39m\u001b[38;5;124m'\u001b[39m)\n\u001b[1;32m      4\u001b[0m submit\u001b[38;5;241m.\u001b[39mTarget \u001b[38;5;241m=\u001b[39m predicted_labels\n",
            "\u001b[0;31mKeyError\u001b[0m: -1"
          ]
        }
      ],
      "execution_count": 56,
      "metadata": {
        "execution": {
          "iopub.status.busy": "2024-06-11T10:15:10.237822Z",
          "iopub.execute_input": "2024-06-11T10:15:10.238322Z",
          "iopub.status.idle": "2024-06-11T10:15:10.739706Z",
          "shell.execute_reply.started": "2024-06-11T10:15:10.238268Z",
          "shell.execute_reply": "2024-06-11T10:15:10.738328Z"
        },
        "trusted": true,
        "gather": {
          "logged": 1718113092256
        }
      }
    },
    {
      "cell_type": "markdown",
      "source": [
        "# Adding Base Features\n",
        "\n",
        "from https://www.kaggle.com/code/trupologhelper/ps4e5-openfe-blending-explain#Creating-New-Features-%F0%9F%93%8A"
      ],
      "metadata": {
        "id": "3HW24rFQ_8KK"
      }
    },
    {
      "cell_type": "code",
      "source": [
        "BASE_FEATURES = test_final.columns\n",
        "initial_features = BASE_FEATURES\n",
        "initial_features"
      ],
      "outputs": [],
      "execution_count": null,
      "metadata": {
        "id": "v10RL0wc_8KN",
        "outputId": "8ec3c1d9-0810-446c-f0e5-67458a52da1f",
        "execution": {
          "iopub.status.busy": "2024-06-10T10:07:55.376915Z",
          "iopub.execute_input": "2024-06-10T10:07:55.377520Z",
          "iopub.status.idle": "2024-06-10T10:07:55.432836Z",
          "shell.execute_reply.started": "2024-06-10T10:07:55.377482Z",
          "shell.execute_reply": "2024-06-10T10:07:55.431034Z"
        },
        "trusted": true
      }
    },
    {
      "cell_type": "code",
      "source": [
        "%%time\n",
        "for df in [train_final, test_final]:\n",
        "    print('comnputing f_sum')\n",
        "    df['fsum'] = df[initial_features].sum(axis=1) # for tree models\n",
        "    print('comnputing f_std')\n",
        "    df['f_std']  = df[initial_features].std(axis=1)\n",
        "    print('comnputing f_mean')\n",
        "    df['f_mean'] = df[initial_features].mean(axis=1)\n",
        "    print('comnputing f_max')\n",
        "    df['f_max']  = df[initial_features].max(axis=1)\n",
        "    print('comnputing f_min')\n",
        "    df['f_min']  = df[initial_features].min(axis=1)\n",
        "    print('comnputing f_mode')\n",
        "    df['f_mode'] = df[initial_features].mode(axis=1)[0]\n",
        "    print('comnputing f_median')\n",
        "    df['f_median'] = df[initial_features].median(axis=1)\n",
        "    print('comnputing f_25th')\n",
        "    df['f_25th'] = df[initial_features].quantile(0.25, axis=1)\n",
        "    print('comnputing f_75th')\n",
        "    df['f_75th'] = df[initial_features].quantile(0.75, axis=1)\n",
        "    print('comnputing f_skew')\n",
        "    df['f_skew'] = df[initial_features].skew(axis=1)\n",
        "    print('comnputing f_kurt')\n",
        "    df['f_kurt'] = df[initial_features].kurt(axis=1)\n",
        "    df['special1'] = df['fsum'].isin(np.arange(72, 76)) # for linear models\n",
        "    for i in range(10,100,10):\n",
        "        print(f'comnputing f_{i}th')\n",
        "        df[f'f_{i}th'] = df[initial_features].quantile(i/100, axis=1)\n",
        "    print('comnputing f_harmonic')\n",
        "    df['f_harmonic'] = len(initial_features) / df[initial_features].apply(lambda x: (1/x).mean(), axis=1)\n",
        "    print('comnputing f_geometric')\n",
        "    df['f_geometric'] = df[initial_features].apply(lambda x: x.prod()**(1/len(x)), axis=1)\n",
        "    print('comnputing f_zscore')\n",
        "    df['f_zscore'] = df[initial_features].apply(lambda x: (x - x.mean()) / x.std(), axis=1).mean(axis=1)\n",
        "    print('computing Coefficient of Variation ')\n",
        "    df['f_cv'] = df[initial_features].std(axis=1) / df[initial_features].mean(axis=1)\n",
        "    print('computing f_Quantile Coefficients of Skewness_75')\n",
        "    df['f_Quantile Coefficients of Skewness_75'] = (df[initial_features].quantile(0.75, axis=1) - df[initial_features].mean(axis=1)) / df[initial_features].std(axis=1)\n",
        "    print('computing f_Quantile Coefficients of Skewness_25')\n",
        "    df['f_Quantile Coefficients of Skewness_25'] = (df[initial_features].quantile(0.25, axis=1) - df[initial_features].mean(axis=1)) / df[initial_features].std(axis=1)\n",
        "    print('computing f_2ndMoment')\n",
        "    df['f_2ndMoment'] = df[initial_features].apply(lambda x: (x**2).mean(), axis=1)\n",
        "    print('computing f_3rdMoment')\n",
        "    df['f_3rdMoment'] = df[initial_features].apply(lambda x: (x**3).mean(), axis=1)\n",
        "    print('computing f_entropy')\n",
        "    df['f_entropy'] = df[initial_features].apply(lambda x: -1*(x*np.log(x)).sum(), axis=1)\n",
        "    #print('computing f_mad') probably has negative impact\n",
        "    #df['f_mad'] = df[initial_features].apply(lambda x: (x - x.median()).abs().median(), axis=1)\n",
        "    #print('computing f_iqr') probably has negative impact\n",
        "    #df['f_iqr'] = df[initial_features].quantile(0.75, axis=1) - df[initial_features].quantile(0.25, axis=1)"
      ],
      "outputs": [],
      "execution_count": null,
      "metadata": {
        "id": "VjTG3tHd_8KO",
        "outputId": "5470631f-b68e-4740-9c3d-fae9a7ee3113",
        "scrolled": true,
        "execution": {
          "iopub.status.busy": "2024-06-10T10:08:04.809801Z",
          "iopub.execute_input": "2024-06-10T10:08:04.810255Z",
          "iopub.status.idle": "2024-06-10T10:08:04.926197Z",
          "shell.execute_reply.started": "2024-06-10T10:08:04.810222Z",
          "shell.execute_reply": "2024-06-10T10:08:04.924897Z"
        },
        "trusted": true
      }
    },
    {
      "cell_type": "code",
      "source": [
        "train_final.head()"
      ],
      "outputs": [],
      "execution_count": null,
      "metadata": {
        "id": "pOHguGRO_8KR",
        "outputId": "c721b318-d445-46c1-c36a-bac6827081cd"
      }
    },
    {
      "cell_type": "markdown",
      "source": [
        "## Neural Network Ensemble"
      ],
      "metadata": {
        "id": "75E_pjgO_8LW"
      }
    },
    {
      "cell_type": "code",
      "source": [
        "def ensemble():\n",
        "    learn = tabular_learner(dls, metrics=accuracy)\n",
        "    with learn.no_bar(),learn.no_logging(): learn.fit(6, 0.02)\n",
        "    return learn.get_preds(dl=dl)[0]"
      ],
      "outputs": [],
      "execution_count": null,
      "metadata": {
        "id": "Gsi88cA5_8LX",
        "execution": {
          "iopub.status.busy": "2024-06-10T10:27:37.349831Z",
          "iopub.execute_input": "2024-06-10T10:27:37.350397Z",
          "iopub.status.idle": "2024-06-10T10:27:37.357499Z",
          "shell.execute_reply.started": "2024-06-10T10:27:37.350357Z",
          "shell.execute_reply": "2024-06-10T10:27:37.356107Z"
        },
        "trusted": true
      }
    },
    {
      "cell_type": "code",
      "source": [
        "learns = [ensemble() for _ in range(5)]"
      ],
      "outputs": [],
      "execution_count": null,
      "metadata": {
        "id": "wK8O6o3L_8LX",
        "execution": {
          "iopub.status.busy": "2024-06-10T10:27:37.519049Z",
          "iopub.execute_input": "2024-06-10T10:27:37.519559Z",
          "iopub.status.idle": "2024-06-10T10:34:07.203058Z",
          "shell.execute_reply.started": "2024-06-10T10:27:37.519518Z",
          "shell.execute_reply": "2024-06-10T10:34:07.201710Z"
        },
        "trusted": true
      }
    },
    {
      "cell_type": "code",
      "source": [
        "ens_preds = torch.stack(learns).mean(0)"
      ],
      "outputs": [],
      "execution_count": null,
      "metadata": {
        "id": "xUlI9CSG_8LY",
        "execution": {
          "iopub.status.busy": "2024-06-10T10:34:07.205893Z",
          "iopub.execute_input": "2024-06-10T10:34:07.206424Z",
          "iopub.status.idle": "2024-06-10T10:34:07.218108Z",
          "shell.execute_reply.started": "2024-06-10T10:34:07.206380Z",
          "shell.execute_reply": "2024-06-10T10:34:07.216762Z"
        },
        "trusted": true
      }
    },
    {
      "cell_type": "code",
      "source": [
        "nn_preds_x.shape,ens_preds.shape"
      ],
      "outputs": [],
      "execution_count": null,
      "metadata": {
        "id": "bbGl6BUp_8LZ",
        "execution": {
          "iopub.status.busy": "2024-06-10T10:38:47.213699Z",
          "iopub.execute_input": "2024-06-10T10:38:47.214931Z",
          "iopub.status.idle": "2024-06-10T10:38:47.222872Z",
          "shell.execute_reply.started": "2024-06-10T10:38:47.214883Z",
          "shell.execute_reply": "2024-06-10T10:38:47.221549Z"
        },
        "trusted": true
      }
    },
    {
      "cell_type": "code",
      "source": [
        "# Assuming ens_preds is a PyTorch tensor with shape [51012, 3]\n",
        "# Select predictions for the first class (index 0)\n",
        "selected_class_preds = ens_preds[:, 0]\n",
        "\n",
        "# Now selected_class_preds has a shape of torch.Size([51012])\n",
        "print(selected_class_preds.shape)\n"
      ],
      "outputs": [],
      "execution_count": null,
      "metadata": {
        "execution": {
          "iopub.status.busy": "2024-06-10T10:44:58.684787Z",
          "iopub.execute_input": "2024-06-10T10:44:58.685309Z",
          "iopub.status.idle": "2024-06-10T10:44:58.692391Z",
          "shell.execute_reply.started": "2024-06-10T10:44:58.685279Z",
          "shell.execute_reply": "2024-06-10T10:44:58.691132Z"
        },
        "trusted": true
      }
    },
    {
      "cell_type": "code",
      "source": [
        "ens_preds_final = ens_preds.squeeze(1)\n",
        "ens_preds_final.shape"
      ],
      "outputs": [],
      "execution_count": null,
      "metadata": {
        "execution": {
          "iopub.status.busy": "2024-06-10T10:39:58.129053Z",
          "iopub.execute_input": "2024-06-10T10:39:58.129582Z",
          "iopub.status.idle": "2024-06-10T10:39:58.138111Z",
          "shell.execute_reply.started": "2024-06-10T10:39:58.129546Z",
          "shell.execute_reply": "2024-06-10T10:39:58.136725Z"
        },
        "trusted": true
      }
    },
    {
      "cell_type": "code",
      "source": [
        "r2_score(y_test,nn_preds_x)"
      ],
      "outputs": [],
      "execution_count": null,
      "metadata": {
        "id": "akcVt1Od_8LZ"
      }
    },
    {
      "cell_type": "code",
      "source": [
        "target_preds = nn_preds[0]"
      ],
      "outputs": [],
      "execution_count": null,
      "metadata": {
        "id": "U_6Z8qnF_8La"
      }
    },
    {
      "cell_type": "code",
      "source": [
        "test_df['FloodProbability'] = target_preds"
      ],
      "outputs": [],
      "execution_count": null,
      "metadata": {
        "id": "Y_hOZQRf_8La"
      }
    },
    {
      "cell_type": "code",
      "source": [
        "test_df.to_csv('submission.csv', columns=['FloodProbability'], index=True)"
      ],
      "outputs": [],
      "execution_count": null,
      "metadata": {
        "id": "zdr1ZYj3_8Lc"
      }
    },
    {
      "cell_type": "code",
      "source": [
        "submission = pd.read_csv('submission.csv')\n",
        "submission.head()"
      ],
      "outputs": [],
      "execution_count": null,
      "metadata": {
        "id": "5iqvRPLv_8Lc"
      }
    },
    {
      "cell_type": "code",
      "source": [
        "!rm submission.csv"
      ],
      "outputs": [],
      "execution_count": null,
      "metadata": {
        "id": "LxMooaAj_8Ld"
      }
    },
    {
      "cell_type": "code",
      "source": [
        "test_df['FloodProbability'] = target_preds\n",
        "test_df.to_csv('submission.csv', columns=['FloodProbability'], index=True)\n",
        "\n",
        "submission = pd.read_csv('submission.csv')\n",
        "submission.head()"
      ],
      "outputs": [],
      "execution_count": null,
      "metadata": {
        "id": "FwUDs3as_8Lf"
      }
    },
    {
      "cell_type": "markdown",
      "source": [
        "### Original Dataset\n",
        "\n",
        "@misc{misc_predict_students'_dropout_and_academic_success_697,\n",
        "  author       = {Realinho,Valentim, Vieira Martins,Mónica, Machado,Jorge, and Baptista,Luís},\n",
        "  title        = {{Predict Students' Dropout and Academic Success}},\n",
        "  year         = {2021},\n",
        "  howpublished = {UCI Machine Learning Repository},\n",
        "  note         = {{DOI}: https://doi.org/10.24432/C5MC89}\n",
        "}"
      ],
      "metadata": {
        "id": "CBvp4q-WRL1O"
      }
    }
  ],
  "metadata": {
    "colab": {
      "provenance": []
    },
    "kaggle": {
      "accelerator": "none",
      "dataSources": [
        {
          "sourceId": 73290,
          "databundleVersionId": 8710574,
          "sourceType": "competition"
        },
        {
          "sourceId": 8574851,
          "sourceType": "datasetVersion",
          "datasetId": 5127429
        }
      ],
      "dockerImageVersionId": 30715,
      "isInternetEnabled": true,
      "language": "python",
      "sourceType": "notebook",
      "isGpuEnabled": false
    },
    "kernelspec": {
      "name": "python38-azureml-pt-tf",
      "language": "python",
      "display_name": "Python 3.8 - Pytorch and Tensorflow"
    },
    "language_info": {
      "name": "python",
      "version": "3.8.5",
      "mimetype": "text/x-python",
      "codemirror_mode": {
        "name": "ipython",
        "version": 3
      },
      "pygments_lexer": "ipython3",
      "nbconvert_exporter": "python",
      "file_extension": ".py"
    },
    "kernel_info": {
      "name": "python38-azureml-pt-tf"
    },
    "microsoft": {
      "ms_spell_check": {
        "ms_spell_check_language": "en"
      }
    },
    "nteract": {
      "version": "nteract-front-end@1.0.0"
    }
  },
  "nbformat": 4,
  "nbformat_minor": 4
}