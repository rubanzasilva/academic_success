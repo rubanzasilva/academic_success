{
  "cells": [
    {
      "cell_type": "markdown",
      "source": [
        "# Classification model to predict students' dropout and academic sucess.\n",
        "\n",
        "The dataset contains information collected from a higher education institution related to students undertaking different degree programs.\n",
        "The original dataset contains information known at the time of student enrollment and the student's academic perfromance at the end of the 1st and 2nd semester.\n",
        "\n",
        "The target is split into three distinct categories namely Dropout, Enrolled and Graduate.\n",
        "\n",
        "In this spirit, I shall build classification models using various architectures to predict the student's dropout and academic success.This can then be used to predict which students are most likely to drop out at an early stage so that strategies can be put in place to counter this.\n",
        "\n",
        "That would help reduce the rate of academic dropout and failure."
      ],
      "metadata": {
        "id": "PnoQ0_VdLaOc"
      }
    },
    {
      "cell_type": "markdown",
      "source": [
        "## Import Libraries and Datasets"
      ],
      "metadata": {
        "id": "9OxKc8QxLWir"
      }
    },
    {
      "cell_type": "markdown",
      "source": [
        "### Libraries"
      ],
      "metadata": {
        "id": "fYKulgvoLlxF"
      }
    },
    {
      "cell_type": "markdown",
      "source": [
        "## Imports\n",
        "\n",
        "Below, i import all the libraries and datasets needed for this competition."
      ],
      "metadata": {
        "id": "YRiKSLsk_8Ia"
      }
    },
    {
      "cell_type": "code",
      "source": [
        "%pip install -Uqq fastbook\n"
      ],
      "outputs": [
        {
          "output_type": "stream",
          "name": "stdout",
          "text": "Note: you may need to restart the kernel to use updated packages.\n"
        }
      ],
      "execution_count": 1,
      "metadata": {
        "jupyter": {
          "source_hidden": false,
          "outputs_hidden": false
        },
        "nteract": {
          "transient": {
            "deleting": false
          }
        }
      }
    },
    {
      "cell_type": "code",
      "source": [
        "%pip install catboost\n",
        "%pip install optuna\n",
        "%pip install optuna_distributed\n",
        "%pip install openfe\n",
        "%pip install xgboost\n"
      ],
      "outputs": [
        {
          "output_type": "stream",
          "name": "stdout",
          "text": "Requirement already satisfied: catboost in /anaconda/envs/azureml_py38_PT_TF/lib/python3.8/site-packages (1.2.5)\nRequirement already satisfied: graphviz in /anaconda/envs/azureml_py38_PT_TF/lib/python3.8/site-packages (from catboost) (0.20.3)\nRequirement already satisfied: matplotlib in /anaconda/envs/azureml_py38_PT_TF/lib/python3.8/site-packages (from catboost) (3.7.1)\nRequirement already satisfied: numpy>=1.16.0 in /anaconda/envs/azureml_py38_PT_TF/lib/python3.8/site-packages (from catboost) (1.23.5)\nRequirement already satisfied: pandas>=0.24 in /anaconda/envs/azureml_py38_PT_TF/lib/python3.8/site-packages (from catboost) (2.0.2)\nRequirement already satisfied: scipy in /anaconda/envs/azureml_py38_PT_TF/lib/python3.8/site-packages (from catboost) (1.9.1)\nRequirement already satisfied: plotly in /anaconda/envs/azureml_py38_PT_TF/lib/python3.8/site-packages (from catboost) (5.15.0)\nRequirement already satisfied: six in /anaconda/envs/azureml_py38_PT_TF/lib/python3.8/site-packages (from catboost) (1.16.0)\nRequirement already satisfied: python-dateutil>=2.8.2 in /anaconda/envs/azureml_py38_PT_TF/lib/python3.8/site-packages (from pandas>=0.24->catboost) (2.8.2)\nRequirement already satisfied: pytz>=2020.1 in /anaconda/envs/azureml_py38_PT_TF/lib/python3.8/site-packages (from pandas>=0.24->catboost) (2023.3)\nRequirement already satisfied: tzdata>=2022.1 in /anaconda/envs/azureml_py38_PT_TF/lib/python3.8/site-packages (from pandas>=0.24->catboost) (2023.3)\nRequirement already satisfied: contourpy>=1.0.1 in /anaconda/envs/azureml_py38_PT_TF/lib/python3.8/site-packages (from matplotlib->catboost) (1.1.0)\nRequirement already satisfied: cycler>=0.10 in /anaconda/envs/azureml_py38_PT_TF/lib/python3.8/site-packages (from matplotlib->catboost) (0.11.0)\nRequirement already satisfied: fonttools>=4.22.0 in /anaconda/envs/azureml_py38_PT_TF/lib/python3.8/site-packages (from matplotlib->catboost) (4.40.0)\nRequirement already satisfied: kiwisolver>=1.0.1 in /anaconda/envs/azureml_py38_PT_TF/lib/python3.8/site-packages (from matplotlib->catboost) (1.4.4)\nRequirement already satisfied: packaging>=20.0 in /anaconda/envs/azureml_py38_PT_TF/lib/python3.8/site-packages (from matplotlib->catboost) (23.0)\nRequirement already satisfied: pillow>=6.2.0 in /anaconda/envs/azureml_py38_PT_TF/lib/python3.8/site-packages (from matplotlib->catboost) (9.5.0)\nRequirement already satisfied: pyparsing>=2.3.1 in /anaconda/envs/azureml_py38_PT_TF/lib/python3.8/site-packages (from matplotlib->catboost) (3.1.0)\nRequirement already satisfied: importlib-resources>=3.2.0 in /anaconda/envs/azureml_py38_PT_TF/lib/python3.8/site-packages (from matplotlib->catboost) (5.12.0)\nRequirement already satisfied: tenacity>=6.2.0 in /anaconda/envs/azureml_py38_PT_TF/lib/python3.8/site-packages (from plotly->catboost) (8.2.2)\nRequirement already satisfied: zipp>=3.1.0 in /anaconda/envs/azureml_py38_PT_TF/lib/python3.8/site-packages (from importlib-resources>=3.2.0->matplotlib->catboost) (3.15.0)\nNote: you may need to restart the kernel to use updated packages.\nRequirement already satisfied: optuna in /anaconda/envs/azureml_py38_PT_TF/lib/python3.8/site-packages (3.6.1)\nRequirement already satisfied: alembic>=1.5.0 in /anaconda/envs/azureml_py38_PT_TF/lib/python3.8/site-packages (from optuna) (1.13.1)\nRequirement already satisfied: colorlog in /anaconda/envs/azureml_py38_PT_TF/lib/python3.8/site-packages (from optuna) (6.8.2)\nRequirement already satisfied: numpy in /anaconda/envs/azureml_py38_PT_TF/lib/python3.8/site-packages (from optuna) (1.23.5)\nRequirement already satisfied: packaging>=20.0 in /anaconda/envs/azureml_py38_PT_TF/lib/python3.8/site-packages (from optuna) (23.0)\nRequirement already satisfied: sqlalchemy>=1.3.0 in /anaconda/envs/azureml_py38_PT_TF/lib/python3.8/site-packages (from optuna) (2.0.30)\nRequirement already satisfied: tqdm in /anaconda/envs/azureml_py38_PT_TF/lib/python3.8/site-packages (from optuna) (4.65.0)\nRequirement already satisfied: PyYAML in /anaconda/envs/azureml_py38_PT_TF/lib/python3.8/site-packages (from optuna) (6.0)\nRequirement already satisfied: Mako in /anaconda/envs/azureml_py38_PT_TF/lib/python3.8/site-packages (from alembic>=1.5.0->optuna) (1.3.5)\nRequirement already satisfied: typing-extensions>=4 in /anaconda/envs/azureml_py38_PT_TF/lib/python3.8/site-packages (from alembic>=1.5.0->optuna) (4.6.3)\nRequirement already satisfied: importlib-metadata in /anaconda/envs/azureml_py38_PT_TF/lib/python3.8/site-packages (from alembic>=1.5.0->optuna) (6.7.0)\nRequirement already satisfied: importlib-resources in /anaconda/envs/azureml_py38_PT_TF/lib/python3.8/site-packages (from alembic>=1.5.0->optuna) (5.12.0)\nRequirement already satisfied: greenlet!=0.4.17 in /anaconda/envs/azureml_py38_PT_TF/lib/python3.8/site-packages (from sqlalchemy>=1.3.0->optuna) (3.0.3)\nRequirement already satisfied: zipp>=0.5 in /anaconda/envs/azureml_py38_PT_TF/lib/python3.8/site-packages (from importlib-metadata->alembic>=1.5.0->optuna) (3.15.0)\nRequirement already satisfied: MarkupSafe>=0.9.2 in /anaconda/envs/azureml_py38_PT_TF/lib/python3.8/site-packages (from Mako->alembic>=1.5.0->optuna) (2.1.3)\nNote: you may need to restart the kernel to use updated packages.\nRequirement already satisfied: optuna_distributed in /anaconda/envs/azureml_py38_PT_TF/lib/python3.8/site-packages (0.6.2)\nRequirement already satisfied: optuna>=3.1.0 in /anaconda/envs/azureml_py38_PT_TF/lib/python3.8/site-packages (from optuna_distributed) (3.6.1)\nRequirement already satisfied: dask[distributed] in /anaconda/envs/azureml_py38_PT_TF/lib/python3.8/site-packages (from optuna_distributed) (2023.5.0)\nRequirement already satisfied: rich in /anaconda/envs/azureml_py38_PT_TF/lib/python3.8/site-packages (from optuna_distributed) (13.7.1)\nRequirement already satisfied: alembic>=1.5.0 in /anaconda/envs/azureml_py38_PT_TF/lib/python3.8/site-packages (from optuna>=3.1.0->optuna_distributed) (1.13.1)\nRequirement already satisfied: colorlog in /anaconda/envs/azureml_py38_PT_TF/lib/python3.8/site-packages (from optuna>=3.1.0->optuna_distributed) (6.8.2)\nRequirement already satisfied: numpy in /anaconda/envs/azureml_py38_PT_TF/lib/python3.8/site-packages (from optuna>=3.1.0->optuna_distributed) (1.23.5)\nRequirement already satisfied: packaging>=20.0 in /anaconda/envs/azureml_py38_PT_TF/lib/python3.8/site-packages (from optuna>=3.1.0->optuna_distributed) (23.0)\nRequirement already satisfied: sqlalchemy>=1.3.0 in /anaconda/envs/azureml_py38_PT_TF/lib/python3.8/site-packages (from optuna>=3.1.0->optuna_distributed) (2.0.30)\nRequirement already satisfied: tqdm in /anaconda/envs/azureml_py38_PT_TF/lib/python3.8/site-packages (from optuna>=3.1.0->optuna_distributed) (4.65.0)\nRequirement already satisfied: PyYAML in /anaconda/envs/azureml_py38_PT_TF/lib/python3.8/site-packages (from optuna>=3.1.0->optuna_distributed) (6.0)\nRequirement already satisfied: click>=8.0 in /anaconda/envs/azureml_py38_PT_TF/lib/python3.8/site-packages (from dask[distributed]->optuna_distributed) (8.1.3)\nRequirement already satisfied: cloudpickle>=1.5.0 in /anaconda/envs/azureml_py38_PT_TF/lib/python3.8/site-packages (from dask[distributed]->optuna_distributed) (2.2.1)\nRequirement already satisfied: fsspec>=2021.09.0 in /anaconda/envs/azureml_py38_PT_TF/lib/python3.8/site-packages (from dask[distributed]->optuna_distributed) (2024.3.1)\nRequirement already satisfied: partd>=1.2.0 in /anaconda/envs/azureml_py38_PT_TF/lib/python3.8/site-packages (from dask[distributed]->optuna_distributed) (1.4.1)\nRequirement already satisfied: toolz>=0.10.0 in /anaconda/envs/azureml_py38_PT_TF/lib/python3.8/site-packages (from dask[distributed]->optuna_distributed) (0.12.1)\nRequirement already satisfied: importlib-metadata>=4.13.0 in /anaconda/envs/azureml_py38_PT_TF/lib/python3.8/site-packages (from dask[distributed]->optuna_distributed) (6.7.0)\nRequirement already satisfied: distributed==2023.5.0 in /anaconda/envs/azureml_py38_PT_TF/lib/python3.8/site-packages (from dask[distributed]->optuna_distributed) (2023.5.0)\nRequirement already satisfied: jinja2>=2.10.3 in /anaconda/envs/azureml_py38_PT_TF/lib/python3.8/site-packages (from distributed==2023.5.0->dask[distributed]->optuna_distributed) (3.1.2)\nRequirement already satisfied: locket>=1.0.0 in /anaconda/envs/azureml_py38_PT_TF/lib/python3.8/site-packages (from distributed==2023.5.0->dask[distributed]->optuna_distributed) (1.0.0)\nRequirement already satisfied: msgpack>=1.0.0 in /anaconda/envs/azureml_py38_PT_TF/lib/python3.8/site-packages (from distributed==2023.5.0->dask[distributed]->optuna_distributed) (1.0.8)\nRequirement already satisfied: psutil>=5.7.0 in /anaconda/envs/azureml_py38_PT_TF/lib/python3.8/site-packages (from distributed==2023.5.0->dask[distributed]->optuna_distributed) (5.9.0)\nRequirement already satisfied: sortedcontainers>=2.0.5 in /anaconda/envs/azureml_py38_PT_TF/lib/python3.8/site-packages (from distributed==2023.5.0->dask[distributed]->optuna_distributed) (2.4.0)\nRequirement already satisfied: tblib>=1.6.0 in /anaconda/envs/azureml_py38_PT_TF/lib/python3.8/site-packages (from distributed==2023.5.0->dask[distributed]->optuna_distributed) (3.0.0)\nRequirement already satisfied: tornado>=6.0.3 in /anaconda/envs/azureml_py38_PT_TF/lib/python3.8/site-packages (from distributed==2023.5.0->dask[distributed]->optuna_distributed) (6.3.2)\nRequirement already satisfied: urllib3>=1.24.3 in /anaconda/envs/azureml_py38_PT_TF/lib/python3.8/site-packages (from distributed==2023.5.0->dask[distributed]->optuna_distributed) (1.26.16)\nRequirement already satisfied: zict>=2.2.0 in /anaconda/envs/azureml_py38_PT_TF/lib/python3.8/site-packages (from distributed==2023.5.0->dask[distributed]->optuna_distributed) (3.0.0)\nRequirement already satisfied: markdown-it-py>=2.2.0 in /anaconda/envs/azureml_py38_PT_TF/lib/python3.8/site-packages (from rich->optuna_distributed) (3.0.0)\nRequirement already satisfied: pygments<3.0.0,>=2.13.0 in /anaconda/envs/azureml_py38_PT_TF/lib/python3.8/site-packages (from rich->optuna_distributed) (2.15.1)\nRequirement already satisfied: typing-extensions<5.0,>=4.0.0 in /anaconda/envs/azureml_py38_PT_TF/lib/python3.8/site-packages (from rich->optuna_distributed) (4.6.3)\nRequirement already satisfied: Mako in /anaconda/envs/azureml_py38_PT_TF/lib/python3.8/site-packages (from alembic>=1.5.0->optuna>=3.1.0->optuna_distributed) (1.3.5)\nRequirement already satisfied: importlib-resources in /anaconda/envs/azureml_py38_PT_TF/lib/python3.8/site-packages (from alembic>=1.5.0->optuna>=3.1.0->optuna_distributed) (5.12.0)\nRequirement already satisfied: zipp>=0.5 in /anaconda/envs/azureml_py38_PT_TF/lib/python3.8/site-packages (from importlib-metadata>=4.13.0->dask[distributed]->optuna_distributed) (3.15.0)\nRequirement already satisfied: mdurl~=0.1 in /anaconda/envs/azureml_py38_PT_TF/lib/python3.8/site-packages (from markdown-it-py>=2.2.0->rich->optuna_distributed) (0.1.2)\nRequirement already satisfied: greenlet!=0.4.17 in /anaconda/envs/azureml_py38_PT_TF/lib/python3.8/site-packages (from sqlalchemy>=1.3.0->optuna>=3.1.0->optuna_distributed) (3.0.3)\nRequirement already satisfied: MarkupSafe>=2.0 in /anaconda/envs/azureml_py38_PT_TF/lib/python3.8/site-packages (from jinja2>=2.10.3->distributed==2023.5.0->dask[distributed]->optuna_distributed) (2.1.3)\nNote: you may need to restart the kernel to use updated packages.\nRequirement already satisfied: openfe in /anaconda/envs/azureml_py38_PT_TF/lib/python3.8/site-packages (0.0.12)\nRequirement already satisfied: numpy>=1.19.3 in /anaconda/envs/azureml_py38_PT_TF/lib/python3.8/site-packages (from openfe) (1.23.5)\nRequirement already satisfied: pandas>=1.1.5 in /anaconda/envs/azureml_py38_PT_TF/lib/python3.8/site-packages (from openfe) (2.0.2)\nRequirement already satisfied: scikit-learn>=0.24.2 in /anaconda/envs/azureml_py38_PT_TF/lib/python3.8/site-packages (from openfe) (1.3.2)\nRequirement already satisfied: lightgbm>=3.3.2 in /anaconda/envs/azureml_py38_PT_TF/lib/python3.8/site-packages (from openfe) (3.3.5)\nRequirement already satisfied: scipy>=1.5.4 in /anaconda/envs/azureml_py38_PT_TF/lib/python3.8/site-packages (from openfe) (1.9.1)\nRequirement already satisfied: tqdm in /anaconda/envs/azureml_py38_PT_TF/lib/python3.8/site-packages (from openfe) (4.65.0)\nRequirement already satisfied: pyarrow in /anaconda/envs/azureml_py38_PT_TF/lib/python3.8/site-packages (from openfe) (16.1.0)\nRequirement already satisfied: wheel in /anaconda/envs/azureml_py38_PT_TF/lib/python3.8/site-packages (from lightgbm>=3.3.2->openfe) (0.43.0)\nRequirement already satisfied: python-dateutil>=2.8.2 in /anaconda/envs/azureml_py38_PT_TF/lib/python3.8/site-packages (from pandas>=1.1.5->openfe) (2.8.2)\nRequirement already satisfied: pytz>=2020.1 in /anaconda/envs/azureml_py38_PT_TF/lib/python3.8/site-packages (from pandas>=1.1.5->openfe) (2023.3)\nRequirement already satisfied: tzdata>=2022.1 in /anaconda/envs/azureml_py38_PT_TF/lib/python3.8/site-packages (from pandas>=1.1.5->openfe) (2023.3)\nRequirement already satisfied: joblib>=1.1.1 in /anaconda/envs/azureml_py38_PT_TF/lib/python3.8/site-packages (from scikit-learn>=0.24.2->openfe) (1.2.0)\nRequirement already satisfied: threadpoolctl>=2.0.0 in /anaconda/envs/azureml_py38_PT_TF/lib/python3.8/site-packages (from scikit-learn>=0.24.2->openfe) (3.1.0)\nRequirement already satisfied: six>=1.5 in /anaconda/envs/azureml_py38_PT_TF/lib/python3.8/site-packages (from python-dateutil>=2.8.2->pandas>=1.1.5->openfe) (1.16.0)\nNote: you may need to restart the kernel to use updated packages.\nRequirement already satisfied: xgboost in /anaconda/envs/azureml_py38_PT_TF/lib/python3.8/site-packages (2.0.3)\nRequirement already satisfied: numpy in /anaconda/envs/azureml_py38_PT_TF/lib/python3.8/site-packages (from xgboost) (1.23.5)\nRequirement already satisfied: scipy in /anaconda/envs/azureml_py38_PT_TF/lib/python3.8/site-packages (from xgboost) (1.9.1)\nNote: you may need to restart the kernel to use updated packages.\n"
        }
      ],
      "execution_count": 2,
      "metadata": {
        "id": "MVFLmLWg_8Ih",
        "outputId": "0f41f00f-df50-4173-a4f0-b30c536499ed",
        "scrolled": true,
        "_kg_hide-output": true,
        "execution": {
          "iopub.status.busy": "2024-06-11T09:46:30.553975Z",
          "iopub.execute_input": "2024-06-11T09:46:30.555022Z",
          "iopub.status.idle": "2024-06-11T09:47:27.064390Z",
          "shell.execute_reply.started": "2024-06-11T09:46:30.554969Z",
          "shell.execute_reply": "2024-06-11T09:47:27.063138Z"
        },
        "trusted": true,
        "jupyter": {
          "outputs_hidden": true
        }
      }
    },
    {
      "cell_type": "code",
      "source": [
        "import fastbook\n",
        "fastbook.setup_book()"
      ],
      "outputs": [],
      "execution_count": 3,
      "metadata": {
        "jupyter": {
          "source_hidden": false,
          "outputs_hidden": false
        },
        "nteract": {
          "transient": {
            "deleting": false
          }
        },
        "gather": {
          "logged": 1718272406230
        }
      }
    },
    {
      "cell_type": "code",
      "source": [
        "#hide\n",
        "#! [ -e /content ]\n",
        "\n",
        "#hide\n",
        "#This imports and sets up everything you will need for this notebook\n",
        "#\n",
        "#!pip install -Uqq fastbook\n",
        "#import fastbook\n",
        "#fastbook.setup_book()\n",
        "\n",
        "#from fastbook import *\n",
        "#!pip install ucimlrepo\n",
        "#from ucimlrepo import fetch_ucirepo\n",
        "\n",
        "from fastai.tabular.all import *\n",
        "import pandas as pd\n",
        "import matplotlib.pyplot as plt\n",
        "#import seaborn as sns\n",
        "import numpy as np\n",
        "from numpy import random\n",
        "\n",
        "from fastai.imports import *\n",
        "np.set_printoptions(linewidth=130)\n",
        "\n",
        "\n",
        "from pathlib import Path\n",
        "import os\n",
        "\n",
        "\n",
        "from sklearn.ensemble import RandomForestRegressor,RandomForestClassifier\n",
        "from sklearn.metrics import roc_auc_score,accuracy_score,mean_squared_error\n",
        "from sklearn.model_selection import train_test_split\n",
        "from sklearn.metrics import mean_absolute_error,r2_score\n",
        "#from sklearn.metrics import root_mean_squared_error\n",
        "\n",
        "import xgboost as xgb\n",
        "from xgboost import plot_importance\n",
        "\n",
        "import lightgbm as lgb\n",
        "\n",
        "from catboost import CatBoostClassifier,CatBoostRegressor,Pool, metrics, cv\n",
        "\n",
        "from ipywidgets import interact\n",
        "\n",
        "\n",
        "matplotlib.rc('image', cmap='Greys')\n",
        "\n",
        "#from fastkaggle import setup_comp\n",
        "\n",
        "import optuna\n",
        "from openfe import OpenFE, transform\n",
        "\n",
        "from IPython.display import FileLink\n",
        "\n",
        "#from lightgbm import LGBMClassifier\n",
        "\n"
      ],
      "outputs": [],
      "execution_count": 6,
      "metadata": {
        "id": "iKvCdJ05_8Im",
        "execution": {
          "iopub.status.busy": "2024-06-11T09:47:27.067400Z",
          "iopub.execute_input": "2024-06-11T09:47:27.067932Z",
          "iopub.status.idle": "2024-06-11T09:47:29.832239Z",
          "shell.execute_reply.started": "2024-06-11T09:47:27.067884Z",
          "shell.execute_reply": "2024-06-11T09:47:29.830988Z"
        },
        "trusted": true,
        "gather": {
          "logged": 1718272441833
        }
      }
    },
    {
      "cell_type": "code",
      "source": [
        "try: import fastkaggle\n",
        "except ModuleNotFoundError:\n",
        "    !pip install -Uq fastkaggle\n",
        "\n",
        "from fastkaggle import *"
      ],
      "outputs": [],
      "execution_count": 5,
      "metadata": {
        "id": "h4tHhDlX_8Iv",
        "outputId": "9ddbe59f-a542-4564-836c-d02d7a757dd5",
        "execution": {
          "iopub.status.busy": "2024-06-11T09:47:29.833548Z",
          "iopub.execute_input": "2024-06-11T09:47:29.833908Z",
          "iopub.status.idle": "2024-06-11T09:47:29.847251Z",
          "shell.execute_reply.started": "2024-06-11T09:47:29.833875Z",
          "shell.execute_reply": "2024-06-11T09:47:29.845891Z"
        },
        "trusted": true,
        "gather": {
          "logged": 1718272411244
        }
      }
    },
    {
      "cell_type": "code",
      "source": [
        "%pip freeze > requirements.txt"
      ],
      "outputs": [
        {
          "output_type": "stream",
          "name": "stdout",
          "text": "Note: you may need to restart the kernel to use updated packages.\n"
        }
      ],
      "execution_count": 7,
      "metadata": {
        "jupyter": {
          "source_hidden": false,
          "outputs_hidden": false
        },
        "nteract": {
          "transient": {
            "deleting": false
          }
        }
      }
    },
    {
      "cell_type": "code",
      "source": [
        "!ls"
      ],
      "outputs": [
        {
          "output_type": "stream",
          "name": "stdout",
          "text": "fastai-gbms-decisionTrees.ipynb  fastai-gradient-boosting.ipynb.amltmp\r\nfastai-gradient-boosting.ipynb\t kaggle.json\r\n"
        }
      ],
      "execution_count": 8,
      "metadata": {
        "jupyter": {
          "source_hidden": false,
          "outputs_hidden": false
        },
        "nteract": {
          "transient": {
            "deleting": false
          }
        }
      }
    },
    {
      "cell_type": "code",
      "source": [
        "! mkdir ~/.kaggle\n",
        "\n",
        "! cp kaggle.json ~/.kaggle/\n",
        "\n",
        "#!chmod 600 /root/.kaggle/kaggle.json"
      ],
      "outputs": [
        {
          "output_type": "stream",
          "name": "stdout",
          "text": "mkdir: cannot create directory ‘/home/azureuser/.kaggle’: File exists\r\n"
        }
      ],
      "execution_count": 8,
      "metadata": {
        "jupyter": {
          "source_hidden": false,
          "outputs_hidden": false
        },
        "nteract": {
          "transient": {
            "deleting": false
          }
        },
        "gather": {
          "logged": 1718272524569
        }
      }
    },
    {
      "cell_type": "code",
      "source": [
        "comp = 'playground-series-s4e6'\n",
        "\n",
        "path = setup_comp(comp, install='fastai \"timm>=0.6.2.dev0\"')"
      ],
      "outputs": [
        {
          "output_type": "stream",
          "name": "stdout",
          "text": "Warning: Your Kaggle API key is readable by other users on this system! To fix this, you can run 'chmod 600 /home/azureuser/.kaggle/kaggle.json'\nDownloading playground-series-s4e6.zip to /mnt/batch/tasks/shared/LS_root/mounts/clusters/kenpachislime1/code/Users/kenpachislime/s04e06\n\n"
        },
        {
          "output_type": "stream",
          "name": "stderr",
          "text": "\r  0%|          | 0.00/3.07M [00:00<?, ?B/s]\r 33%|███▎      | 1.00M/3.07M [00:00<00:00, 9.07MB/s]\r 98%|█████████▊| 3.00M/3.07M [00:00<00:00, 13.2MB/s]\r100%|██████████| 3.07M/3.07M [00:00<00:00, 8.91MB/s]\n"
        }
      ],
      "execution_count": 11,
      "metadata": {
        "execution": {
          "iopub.status.busy": "2024-06-11T09:47:29.849967Z",
          "iopub.execute_input": "2024-06-11T09:47:29.850643Z",
          "iopub.status.idle": "2024-06-11T09:47:29.866244Z",
          "shell.execute_reply.started": "2024-06-11T09:47:29.850601Z",
          "shell.execute_reply": "2024-06-11T09:47:29.864991Z"
        },
        "trusted": true,
        "gather": {
          "logged": 1718109054405
        }
      }
    },
    {
      "cell_type": "code",
      "source": [
        "!ls academic_dataset/"
      ],
      "outputs": [
        {
          "output_type": "stream",
          "name": "stdout",
          "text": "data.csv  sample_submission.csv  test.csv  train.csv\r\n"
        }
      ],
      "execution_count": 18,
      "metadata": {
        "jupyter": {
          "source_hidden": false,
          "outputs_hidden": false
        },
        "nteract": {
          "transient": {
            "deleting": false
          }
        }
      }
    },
    {
      "cell_type": "code",
      "source": [
        "#!mkdir academic_dataset"
      ],
      "outputs": [],
      "execution_count": 14,
      "metadata": {
        "jupyter": {
          "source_hidden": false,
          "outputs_hidden": false
        },
        "nteract": {
          "transient": {
            "deleting": false
          }
        }
      }
    },
    {
      "cell_type": "code",
      "source": [
        "! kaggle datasets download -d rubanzasilva/academic-success-dataset\n",
        "!unzip academic-success-dataset.zip -d academic_dataset/\n",
        "!unzip playground-series-s4e6.zip -d academic_dataset/"
      ],
      "outputs": [
        {
          "output_type": "stream",
          "name": "stdout",
          "text": "Warning: Your Kaggle API key is readable by other users on this system! To fix this, you can run 'chmod 600 /home/azureuser/.kaggle/kaggle.json'\nDataset URL: https://www.kaggle.com/datasets/rubanzasilva/academic-success-dataset\nLicense(s): Apache 2.0\nDownloading academic-success-dataset.zip to /mnt/batch/tasks/shared/LS_root/mounts/clusters/kenpachislime1/code/Users/kenpachislime/s04e06\n  0%|                                                | 0.00/105k [00:00<?, ?B/s]\n100%|████████████████████████████████████████| 105k/105k [00:00<00:00, 1.43MB/s]\nArchive:  academic-success-dataset.zip\n  inflating: academic_dataset/data.csv  \nArchive:  playground-series-s4e6.zip\n  inflating: academic_dataset/sample_submission.csv  \n  inflating: academic_dataset/test.csv  \n  inflating: academic_dataset/train.csv  \n"
        }
      ],
      "execution_count": 16,
      "metadata": {
        "jupyter": {
          "source_hidden": false,
          "outputs_hidden": false
        },
        "nteract": {
          "transient": {
            "deleting": false
          }
        }
      }
    },
    {
      "cell_type": "markdown",
      "source": [
        "## Import Datasets"
      ],
      "metadata": {}
    },
    {
      "cell_type": "code",
      "source": [
        "path = Path('academic_dataset/')\n",
        "path"
      ],
      "outputs": [
        {
          "output_type": "execute_result",
          "execution_count": 9,
          "data": {
            "text/plain": "Path('academic_dataset')"
          },
          "metadata": {}
        }
      ],
      "execution_count": 9,
      "metadata": {
        "jupyter": {
          "source_hidden": false,
          "outputs_hidden": false
        },
        "nteract": {
          "transient": {
            "deleting": false
          }
        },
        "gather": {
          "logged": 1718272531003
        }
      }
    },
    {
      "cell_type": "code",
      "source": [
        "train_df = pd.read_csv(path/'train.csv')\n",
        "test_df = pd.read_csv(path/'test.csv')\n",
        "sub_df = pd.read_csv(path/'sample_submission.csv')\n",
        "#original_df = pd.read_csv(path/'data.csv')"
      ],
      "outputs": [],
      "execution_count": 10,
      "metadata": {
        "execution": {
          "iopub.status.busy": "2024-06-11T09:47:29.867768Z",
          "iopub.execute_input": "2024-06-11T09:47:29.868160Z",
          "iopub.status.idle": "2024-06-11T09:47:30.494227Z",
          "shell.execute_reply.started": "2024-06-11T09:47:29.868124Z",
          "shell.execute_reply": "2024-06-11T09:47:30.492987Z"
        },
        "trusted": true,
        "gather": {
          "logged": 1718272533838
        }
      }
    },
    {
      "cell_type": "code",
      "source": [
        "#X = train_df.drop(columns=[\"Target\"], axis=1)\n",
        "#y = train_df[\"Target\"]\n",
        "\n",
        "#y.shape, X.shape"
      ],
      "outputs": [],
      "execution_count": null,
      "metadata": {
        "execution": {
          "iopub.status.busy": "2024-06-11T09:47:30.495952Z",
          "iopub.execute_input": "2024-06-11T09:47:30.496477Z",
          "iopub.status.idle": "2024-06-11T09:47:30.502525Z",
          "shell.execute_reply.started": "2024-06-11T09:47:30.496432Z",
          "shell.execute_reply": "2024-06-11T09:47:30.501217Z"
        },
        "trusted": true
      }
    },
    {
      "cell_type": "markdown",
      "source": [
        "# Baseline\n",
        "\n",
        "Previously, i had built a baseline model using AutoML solution AutoGluon without presets, this gave me an initial submission score of 0.83434.Find the notebook [here](https://www.kaggle.com/code/rubanzasilva/autogluon-starter).\n",
        "\n",
        "In this notebook, i test out different model architectures and data transformation to try to improve on the baseline score."
      ],
      "metadata": {}
    },
    {
      "cell_type": "markdown",
      "source": [
        "# Without original dataset\n",
        "\n",
        "First i shall try out the models using only the data initially provided to us, without the original dataset.\n",
        "\n",
        "Below i use the fastai tabular methods to preprocess and prepare my data for machine learning, creating training and a validation set.\n",
        "\n",
        "Use the fastai cont_cat_split to separate my dataset variables into categorical and continous variables.\n",
        "\n",
        "I then use randomsplitter to do a random split and create a validation set of about 20% of the initial dataset.\n",
        "\n"
      ],
      "metadata": {}
    },
    {
      "cell_type": "code",
      "source": [
        "cont_names,cat_names = cont_cat_split(train_df, dep_var='Target')\n",
        "splits = RandomSplitter(valid_pct=0.2)(range_of(train_df))\n",
        "to = TabularPandas(train_df, procs=[Categorify, FillMissing,Normalize],\n",
        "                   cat_names = cat_names,\n",
        "                   cont_names = cont_names,\n",
        "                   y_names='Target',\n",
        "                   y_block=CategoryBlock(),\n",
        "                   splits=splits)\n",
        "\n",
        "X_train, y_train = to.train.xs, to.train.ys.values.ravel()\n",
        "X_test, y_test = to.valid.xs, to.valid.ys.values.ravel()\n",
        "\n",
        "dls = to.dataloaders(bs=64)\n",
        "test_dl = dls.test_dl(test_df)"
      ],
      "outputs": [],
      "execution_count": 11,
      "metadata": {
        "execution": {
          "iopub.status.busy": "2024-06-11T09:47:30.504255Z",
          "iopub.execute_input": "2024-06-11T09:47:30.504666Z",
          "iopub.status.idle": "2024-06-11T09:47:30.934283Z",
          "shell.execute_reply.started": "2024-06-11T09:47:30.504634Z",
          "shell.execute_reply": "2024-06-11T09:47:30.932815Z"
        },
        "trusted": true,
        "gather": {
          "logged": 1718272545174
        }
      }
    },
    {
      "cell_type": "markdown",
      "source": [
        "# Trying out different model architectures.\n",
        "\n",
        "Here i start with decision trees specifically random forests, then i try out gradient boosting models catboost, xgboost and light GBMs.\n",
        "\n",
        "Later on i try out neural networks and an ensemble of various neural networks using the fastai library."
      ],
      "metadata": {}
    },
    {
      "cell_type": "markdown",
      "source": [
        "## Random Forests"
      ],
      "metadata": {}
    },
    {
      "cell_type": "code",
      "source": [
        "%%time\n",
        "rf = RandomForestClassifier(100, min_samples_leaf=3)\n",
        "rf_model_a = rf.fit(X_train, y_train);\n",
        "\n",
        "rf_preds = tensor(rf_model_a.predict(test_dl.xs))\n",
        "\n",
        "rf_preds_x = tensor(rf_model_a.predict(X_test))\n",
        "\n",
        "#mse = mean_absolute_error(y_test, rf_preds_x)\n",
        "#rmse = np.sqrt(mse)\n",
        "\n",
        "accuracy_score(y_test,rf_preds_x)"
      ],
      "outputs": [
        {
          "output_type": "stream",
          "name": "stdout",
          "text": "CPU times: user 10.6 s, sys: 11.3 ms, total: 10.7 s\nWall time: 10.7 s\n"
        },
        {
          "output_type": "execute_result",
          "execution_count": 12,
          "data": {
            "text/plain": "0.8295759001502974"
          },
          "metadata": {}
        }
      ],
      "execution_count": 12,
      "metadata": {
        "execution": {
          "iopub.status.busy": "2024-06-11T09:47:30.935804Z",
          "iopub.execute_input": "2024-06-11T09:47:30.936176Z",
          "iopub.status.idle": "2024-06-11T09:47:49.386628Z",
          "shell.execute_reply.started": "2024-06-11T09:47:30.936142Z",
          "shell.execute_reply": "2024-06-11T09:47:49.385332Z"
        },
        "trusted": true
      }
    },
    {
      "cell_type": "markdown",
      "source": [
        "## Cat Preds"
      ],
      "metadata": {}
    },
    {
      "cell_type": "code",
      "source": [
        "%%time\n",
        "cat_model = CatBoostClassifier(iterations=2000, depth=8, learning_rate=  0.08, random_strength=10)\n",
        "cat_model = cat_model.fit(X_train, y_train, eval_set=(X_test, y_test), verbose=False)\n",
        "\n",
        "#test set preds\n",
        "cat_preds = tensor(cat_model.predict(test_dl.xs))\n",
        "\n",
        "\n",
        "cat_preds_final = cat_preds.squeeze(1)\n",
        "\n",
        "#validation set preds\n",
        "cat_preds_x = tensor(cat_model.predict(X_test))\n",
        "\n",
        "cat_preds_x_final = cat_preds_x.squeeze(1)\n",
        "\n",
        "accuracy_score(y_test,cat_preds_x)"
      ],
      "outputs": [
        {
          "output_type": "stream",
          "name": "stdout",
          "text": "CPU times: user 5min 34s, sys: 6.1 s, total: 5min 40s\nWall time: 1min 33s\n"
        },
        {
          "output_type": "execute_result",
          "execution_count": 13,
          "data": {
            "text/plain": "0.8331046200091485"
          },
          "metadata": {}
        }
      ],
      "execution_count": 13,
      "metadata": {
        "execution": {
          "iopub.status.busy": "2024-06-11T09:47:49.388415Z",
          "iopub.execute_input": "2024-06-11T09:47:49.388911Z",
          "iopub.status.idle": "2024-06-11T09:50:49.973581Z",
          "shell.execute_reply.started": "2024-06-11T09:47:49.388867Z",
          "shell.execute_reply": "2024-06-11T09:50:49.972278Z"
        },
        "trusted": true
      }
    },
    {
      "cell_type": "markdown",
      "source": [
        "## XGBoost"
      ],
      "metadata": {}
    },
    {
      "cell_type": "code",
      "source": [
        "xgb_model = xgb.XGBClassifier(n_estimators = 197, max_depth=4, learning_rate=0.1818695751227044, subsample= 0.39774994666482544)\n",
        "xgb_model = xgb_model.fit(X_train, y_train)\n",
        "\n",
        "xgb_preds = tensor(xgb_model.predict(test_dl.xs))\n",
        "\n",
        "xgb_preds_x = tensor(xgb_model.predict(X_test))\n",
        "\n",
        "accuracy_score(y_test,xgb_preds_x)"
      ],
      "outputs": [
        {
          "output_type": "execute_result",
          "execution_count": 14,
          "data": {
            "text/plain": "0.8325818466967261"
          },
          "metadata": {}
        }
      ],
      "execution_count": 14,
      "metadata": {
        "execution": {
          "iopub.status.busy": "2024-06-11T09:50:49.976734Z",
          "iopub.execute_input": "2024-06-11T09:50:49.977151Z",
          "iopub.status.idle": "2024-06-11T09:50:57.209612Z",
          "shell.execute_reply.started": "2024-06-11T09:50:49.977115Z",
          "shell.execute_reply": "2024-06-11T09:50:57.208471Z"
        },
        "trusted": true,
        "gather": {
          "logged": 1718272660304
        }
      }
    },
    {
      "cell_type": "markdown",
      "source": [
        "## LGBM"
      ],
      "metadata": {}
    },
    {
      "cell_type": "code",
      "source": [
        "lgb_model = lgb.LGBMClassifier(num_leaves=251, learning_rate=0.02956613668999794, n_estimators=483, max_depth=82, boosting_type='gbdt',min_child_samples=90, random_state=27)\n",
        "lgb_model = lgb_model.fit(X_train, y_train)\n",
        "\n",
        "#test set preds\n",
        "lgb_preds = tensor(lgb_model.predict(test_dl.xs))\n",
        "\n",
        "#validation set preds\n",
        "lgb_preds_x = tensor(lgb_model.predict(X_test))\n",
        "\n",
        "lgb_score = accuracy_score(y_test,lgb_preds_x)\n",
        "lgb_score"
      ],
      "outputs": [
        {
          "output_type": "execute_result",
          "execution_count": 15,
          "data": {
            "text/plain": "0.8306867934391949"
          },
          "metadata": {}
        }
      ],
      "execution_count": 15,
      "metadata": {
        "execution": {
          "iopub.status.busy": "2024-06-11T09:50:57.210969Z",
          "iopub.execute_input": "2024-06-11T09:50:57.211348Z",
          "iopub.status.idle": "2024-06-11T09:51:48.514931Z",
          "shell.execute_reply.started": "2024-06-11T09:50:57.211292Z",
          "shell.execute_reply": "2024-06-11T09:51:48.513634Z"
        },
        "trusted": true,
        "gather": {
          "logged": 1718272691797
        }
      }
    },
    {
      "cell_type": "code",
      "source": [
        "model_preds = {\n",
        "    \"random forests\":accuracy_score(y_test,rf_preds_x),\n",
        "    \"cat boost\":accuracy_score(y_test,cat_preds_x),\n",
        "    \"lgbm\":lgb_score,\n",
        "    \"xgboost\":accuracy_score(y_test,xgb_preds_x),   \n",
        "}\n",
        "\n",
        "#model_preds_a = model_preds.sort()\n",
        "print(model_preds)"
      ],
      "outputs": [
        {
          "output_type": "stream",
          "name": "stdout",
          "text": "{'random forests': 0.8295759001502974, 'cat boost': 0.8331046200091485, 'lgbm': 0.8306867934391949, 'xgboost': 0.8325818466967261}\n"
        }
      ],
      "execution_count": 16,
      "metadata": {
        "execution": {
          "iopub.status.busy": "2024-06-11T09:51:48.516456Z",
          "iopub.execute_input": "2024-06-11T09:51:48.516812Z",
          "iopub.status.idle": "2024-06-11T09:51:48.528503Z",
          "shell.execute_reply.started": "2024-06-11T09:51:48.516781Z",
          "shell.execute_reply": "2024-06-11T09:51:48.527447Z"
        },
        "trusted": true,
        "gather": {
          "logged": 1718272692378
        }
      }
    },
    {
      "cell_type": "markdown",
      "source": [
        "{'random forests': 0.826439260275763, 'cat boost': 0.8316016467359342, 'lgbm': 0.8306214467751422, 'xgboost': 0.8299679801346141}"
      ],
      "metadata": {}
    },
    {
      "cell_type": "code",
      "source": [
        "mapping = dict(enumerate(dls.vocab))\n",
        "mapping"
      ],
      "outputs": [],
      "execution_count": null,
      "metadata": {
        "execution": {
          "iopub.status.busy": "2024-06-10T08:18:37.930959Z",
          "iopub.execute_input": "2024-06-10T08:18:37.931539Z",
          "iopub.status.idle": "2024-06-10T08:18:37.940312Z",
          "shell.execute_reply.started": "2024-06-10T08:18:37.931496Z",
          "shell.execute_reply": "2024-06-10T08:18:37.938849Z"
        },
        "trusted": true
      }
    },
    {
      "cell_type": "markdown",
      "source": [
        "## Submission"
      ],
      "metadata": {}
    },
    {
      "cell_type": "code",
      "source": [
        "lgb_preds.shape,cat_preds.shape,cat_preds_final.shape"
      ],
      "outputs": [],
      "execution_count": null,
      "metadata": {
        "execution": {
          "iopub.status.busy": "2024-06-10T15:56:55.807458Z",
          "iopub.execute_input": "2024-06-10T15:56:55.807894Z",
          "iopub.status.idle": "2024-06-10T15:56:55.815942Z",
          "shell.execute_reply.started": "2024-06-10T15:56:55.807863Z",
          "shell.execute_reply": "2024-06-10T15:56:55.814653Z"
        },
        "trusted": true
      }
    },
    {
      "cell_type": "code",
      "source": [
        "mapping = dict(enumerate(dls.vocab))\n",
        "predicted_labels = [mapping[value.item()] for value in cat_preds_final]\n",
        "submit = pd.read_csv(path/'sample_submission.csv')\n",
        "submit.Target = predicted_labels\n",
        "submit.to_csv('submission.csv',index=False)\n",
        "submit"
      ],
      "outputs": [
        {
          "output_type": "execute_result",
          "execution_count": 17,
          "data": {
            "text/plain": "           id    Target\n0       76518   Dropout\n1       76519  Graduate\n2       76520  Graduate\n3       76521  Enrolled\n4       76522  Enrolled\n...       ...       ...\n51007  127525   Dropout\n51008  127526   Dropout\n51009  127527   Dropout\n51010  127528   Dropout\n51011  127529   Dropout\n\n[51012 rows x 2 columns]",
            "text/html": "<div>\n<style scoped>\n    .dataframe tbody tr th:only-of-type {\n        vertical-align: middle;\n    }\n\n    .dataframe tbody tr th {\n        vertical-align: top;\n    }\n\n    .dataframe thead th {\n        text-align: right;\n    }\n</style>\n<table border=\"1\" class=\"dataframe\">\n  <thead>\n    <tr style=\"text-align: right;\">\n      <th></th>\n      <th>id</th>\n      <th>Target</th>\n    </tr>\n  </thead>\n  <tbody>\n    <tr>\n      <th>0</th>\n      <td>76518</td>\n      <td>Dropout</td>\n    </tr>\n    <tr>\n      <th>1</th>\n      <td>76519</td>\n      <td>Graduate</td>\n    </tr>\n    <tr>\n      <th>2</th>\n      <td>76520</td>\n      <td>Graduate</td>\n    </tr>\n    <tr>\n      <th>3</th>\n      <td>76521</td>\n      <td>Enrolled</td>\n    </tr>\n    <tr>\n      <th>4</th>\n      <td>76522</td>\n      <td>Enrolled</td>\n    </tr>\n    <tr>\n      <th>...</th>\n      <td>...</td>\n      <td>...</td>\n    </tr>\n    <tr>\n      <th>51007</th>\n      <td>127525</td>\n      <td>Dropout</td>\n    </tr>\n    <tr>\n      <th>51008</th>\n      <td>127526</td>\n      <td>Dropout</td>\n    </tr>\n    <tr>\n      <th>51009</th>\n      <td>127527</td>\n      <td>Dropout</td>\n    </tr>\n    <tr>\n      <th>51010</th>\n      <td>127528</td>\n      <td>Dropout</td>\n    </tr>\n    <tr>\n      <th>51011</th>\n      <td>127529</td>\n      <td>Dropout</td>\n    </tr>\n  </tbody>\n</table>\n<p>51012 rows × 2 columns</p>\n</div>"
          },
          "metadata": {}
        }
      ],
      "execution_count": 17,
      "metadata": {
        "execution": {
          "iopub.status.busy": "2024-06-11T10:00:19.313699Z",
          "iopub.execute_input": "2024-06-11T10:00:19.314342Z",
          "iopub.status.idle": "2024-06-11T10:00:19.780420Z",
          "shell.execute_reply.started": "2024-06-11T10:00:19.314270Z",
          "shell.execute_reply": "2024-06-11T10:00:19.779130Z"
        },
        "trusted": true,
        "gather": {
          "logged": 1718273610748
        }
      }
    },
    {
      "cell_type": "code",
      "source": [
        "!ls"
      ],
      "outputs": [
        {
          "output_type": "stream",
          "name": "stdout",
          "text": "academic-success-dataset.zip\t       kaggle.json\r\nacademic_dataset\t\t       models\r\ncatboost_info\t\t\t       playground-series-s4e6\r\ndataset\t\t\t\t       playground-series-s4e6.zip\r\nfastai-gbms-decisionTrees.ipynb        requirements.txt\r\nfastai-gradient-boosting.ipynb\t       submission.csv\r\nfastai-gradient-boosting.ipynb.amltmp\r\n"
        }
      ],
      "execution_count": 18,
      "metadata": {
        "execution": {
          "iopub.status.busy": "2024-06-11T07:02:53.387697Z",
          "iopub.execute_input": "2024-06-11T07:02:53.388135Z",
          "iopub.status.idle": "2024-06-11T07:02:54.522413Z",
          "shell.execute_reply.started": "2024-06-11T07:02:53.388101Z",
          "shell.execute_reply": "2024-06-11T07:02:54.520801Z"
        },
        "trusted": true
      }
    },
    {
      "cell_type": "code",
      "source": [
        "!kaggle competitions submit -c playground-series-s4e6 -f submission.csv -m \"cat preds without original dataset\""
      ],
      "outputs": [
        {
          "output_type": "stream",
          "name": "stdout",
          "text": "Warning: Your Kaggle API key is readable by other users on this system! To fix this, you can run 'chmod 600 /home/azureuser/.kaggle/kaggle.json'\n100%|████████████████████████████████████████| 759k/759k [00:00<00:00, 2.66MB/s]\nSuccessfully submitted to Classification with an Academic Success Dataset"
        }
      ],
      "execution_count": 19,
      "metadata": {}
    },
    {
      "cell_type": "code",
      "source": [
        "!rm submission.csv"
      ],
      "outputs": [],
      "execution_count": 32,
      "metadata": {
        "execution": {
          "iopub.status.busy": "2024-06-10T16:12:42.824761Z",
          "iopub.execute_input": "2024-06-10T16:12:42.826047Z",
          "iopub.status.idle": "2024-06-10T16:12:43.958707Z",
          "shell.execute_reply.started": "2024-06-10T16:12:42.825980Z",
          "shell.execute_reply": "2024-06-10T16:12:43.956833Z"
        },
        "trusted": true
      }
    },
    {
      "cell_type": "markdown",
      "source": [
        "### Neural Network"
      ],
      "metadata": {
        "id": "dYNkzV6z_8JO"
      }
    },
    {
      "cell_type": "code",
      "source": [
        "learn = tabular_learner(dls, metrics=accuracy)\n",
        "learn.lr_find(suggest_funcs=(slide,valley))"
      ],
      "outputs": [
        {
          "output_type": "display_data",
          "data": {
            "text/plain": "<IPython.core.display.HTML object>",
            "text/html": "\n<style>\n    /* Turns off some styling */\n    progress {\n        /* gets rid of default border in Firefox and Opera. */\n        border: none;\n        /* Needs to be in here for Safari polyfill so background images work as expected. */\n        background-size: auto;\n    }\n    progress:not([value]), progress:not([value])::-webkit-progress-bar {\n        background: repeating-linear-gradient(45deg, #7e7e7e, #7e7e7e 10px, #5c5c5c 10px, #5c5c5c 20px);\n    }\n    .progress-bar-interrupted, .progress-bar-interrupted::-webkit-progress-bar {\n        background: #F44336;\n    }\n</style>\n"
          },
          "metadata": {}
        },
        {
          "output_type": "display_data",
          "data": {
            "text/plain": "<IPython.core.display.HTML object>",
            "text/html": ""
          },
          "metadata": {}
        },
        {
          "output_type": "execute_result",
          "execution_count": 21,
          "data": {
            "text/plain": "SuggestedLRs(slide=0.03981071710586548, valley=0.0020892962347716093)"
          },
          "metadata": {}
        },
        {
          "output_type": "display_data",
          "data": {
            "text/plain": "<Figure size 640x480 with 1 Axes>",
            "image/png": "[encoded data removed]"
          },
          "metadata": {}
        }
      ],
      "execution_count": 21,
      "metadata": {
        "id": "X0LRKpxq_8JO",
        "execution": {
          "iopub.status.busy": "2024-06-10T16:31:41.166644Z",
          "iopub.execute_input": "2024-06-10T16:31:41.167152Z",
          "iopub.status.idle": "2024-06-10T16:31:43.768408Z",
          "shell.execute_reply.started": "2024-06-10T16:31:41.167108Z",
          "shell.execute_reply": "2024-06-10T16:31:43.766548Z"
        },
        "trusted": true,
        "gather": {
          "logged": 1718273697971
        }
      }
    },
    {
      "cell_type": "code",
      "source": [
        "%%time\n",
        "learn.fit_one_cycle(10,0.02)"
      ],
      "outputs": [
        {
          "output_type": "display_data",
          "data": {
            "text/plain": "<IPython.core.display.HTML object>",
            "text/html": "\n<style>\n    /* Turns off some styling */\n    progress {\n        /* gets rid of default border in Firefox and Opera. */\n        border: none;\n        /* Needs to be in here for Safari polyfill so background images work as expected. */\n        background-size: auto;\n    }\n    progress:not([value]), progress:not([value])::-webkit-progress-bar {\n        background: repeating-linear-gradient(45deg, #7e7e7e, #7e7e7e 10px, #5c5c5c 10px, #5c5c5c 20px);\n    }\n    .progress-bar-interrupted, .progress-bar-interrupted::-webkit-progress-bar {\n        background: #F44336;\n    }\n</style>\n"
          },
          "metadata": {}
        },
        {
          "output_type": "display_data",
          "data": {
            "text/plain": "<IPython.core.display.HTML object>",
            "text/html": "<table border=\"1\" class=\"dataframe\">\n  <thead>\n    <tr style=\"text-align: left;\">\n      <th>epoch</th>\n      <th>train_loss</th>\n      <th>valid_loss</th>\n      <th>accuracy</th>\n      <th>time</th>\n    </tr>\n  </thead>\n  <tbody>\n    <tr>\n      <td>0</td>\n      <td>0.492063</td>\n      <td>0.464946</td>\n      <td>0.821669</td>\n      <td>00:08</td>\n    </tr>\n    <tr>\n      <td>1</td>\n      <td>0.484078</td>\n      <td>0.477918</td>\n      <td>0.823433</td>\n      <td>00:08</td>\n    </tr>\n    <tr>\n      <td>2</td>\n      <td>0.458066</td>\n      <td>0.483228</td>\n      <td>0.816637</td>\n      <td>00:08</td>\n    </tr>\n    <tr>\n      <td>3</td>\n      <td>0.479600</td>\n      <td>0.455533</td>\n      <td>0.830752</td>\n      <td>00:08</td>\n    </tr>\n    <tr>\n      <td>4</td>\n      <td>0.476044</td>\n      <td>0.463359</td>\n      <td>0.816833</td>\n      <td>00:08</td>\n    </tr>\n    <tr>\n      <td>5</td>\n      <td>0.460973</td>\n      <td>0.445521</td>\n      <td>0.829053</td>\n      <td>00:08</td>\n    </tr>\n    <tr>\n      <td>6</td>\n      <td>0.447599</td>\n      <td>0.443554</td>\n      <td>0.829053</td>\n      <td>00:08</td>\n    </tr>\n    <tr>\n      <td>7</td>\n      <td>0.442403</td>\n      <td>0.441513</td>\n      <td>0.830164</td>\n      <td>00:08</td>\n    </tr>\n    <tr>\n      <td>8</td>\n      <td>0.445365</td>\n      <td>0.441101</td>\n      <td>0.830621</td>\n      <td>00:08</td>\n    </tr>\n    <tr>\n      <td>9</td>\n      <td>0.442001</td>\n      <td>0.439757</td>\n      <td>0.831210</td>\n      <td>00:08</td>\n    </tr>\n  </tbody>\n</table>"
          },
          "metadata": {}
        },
        {
          "output_type": "stream",
          "name": "stdout",
          "text": "CPU times: user 2min 14s, sys: 900 ms, total: 2min 14s\nWall time: 1min 25s\n"
        }
      ],
      "execution_count": 22,
      "metadata": {
        "id": "igxsaxjb_8JU",
        "execution": {
          "iopub.status.busy": "2024-06-10T16:31:43.771644Z",
          "iopub.execute_input": "2024-06-10T16:31:43.772160Z"
        },
        "trusted": true
      }
    },
    {
      "cell_type": "code",
      "source": [
        "dl = learn.dls.test_dl(test_df)"
      ],
      "outputs": [],
      "execution_count": 23,
      "metadata": {
        "id": "xpiUqiLF_8JV",
        "trusted": true,
        "gather": {
          "logged": 1718273787710
        }
      }
    },
    {
      "cell_type": "code",
      "source": [
        "%%time\n",
        "nn_preds = learn.get_preds(dl=dl)\n",
        "nn_preds_x = learn.get_preds()[0]\n",
        "a_preds, _ = learn.get_preds(dl=dl)\n",
        "nn_preds_y = a_preds.squeeze(1)\n",
        "nn_preds_b = a_preds[:, 0]"
      ],
      "outputs": [
        {
          "output_type": "display_data",
          "data": {
            "text/plain": "<IPython.core.display.HTML object>",
            "text/html": "\n<style>\n    /* Turns off some styling */\n    progress {\n        /* gets rid of default border in Firefox and Opera. */\n        border: none;\n        /* Needs to be in here for Safari polyfill so background images work as expected. */\n        background-size: auto;\n    }\n    progress:not([value]), progress:not([value])::-webkit-progress-bar {\n        background: repeating-linear-gradient(45deg, #7e7e7e, #7e7e7e 10px, #5c5c5c 10px, #5c5c5c 20px);\n    }\n    .progress-bar-interrupted, .progress-bar-interrupted::-webkit-progress-bar {\n        background: #F44336;\n    }\n</style>\n"
          },
          "metadata": {}
        },
        {
          "output_type": "display_data",
          "data": {
            "text/plain": "<IPython.core.display.HTML object>",
            "text/html": ""
          },
          "metadata": {}
        },
        {
          "output_type": "display_data",
          "data": {
            "text/plain": "<IPython.core.display.HTML object>",
            "text/html": "\n<style>\n    /* Turns off some styling */\n    progress {\n        /* gets rid of default border in Firefox and Opera. */\n        border: none;\n        /* Needs to be in here for Safari polyfill so background images work as expected. */\n        background-size: auto;\n    }\n    progress:not([value]), progress:not([value])::-webkit-progress-bar {\n        background: repeating-linear-gradient(45deg, #7e7e7e, #7e7e7e 10px, #5c5c5c 10px, #5c5c5c 20px);\n    }\n    .progress-bar-interrupted, .progress-bar-interrupted::-webkit-progress-bar {\n        background: #F44336;\n    }\n</style>\n"
          },
          "metadata": {}
        },
        {
          "output_type": "display_data",
          "data": {
            "text/plain": "<IPython.core.display.HTML object>",
            "text/html": ""
          },
          "metadata": {}
        },
        {
          "output_type": "display_data",
          "data": {
            "text/plain": "<IPython.core.display.HTML object>",
            "text/html": "\n<style>\n    /* Turns off some styling */\n    progress {\n        /* gets rid of default border in Firefox and Opera. */\n        border: none;\n        /* Needs to be in here for Safari polyfill so background images work as expected. */\n        background-size: auto;\n    }\n    progress:not([value]), progress:not([value])::-webkit-progress-bar {\n        background: repeating-linear-gradient(45deg, #7e7e7e, #7e7e7e 10px, #5c5c5c 10px, #5c5c5c 20px);\n    }\n    .progress-bar-interrupted, .progress-bar-interrupted::-webkit-progress-bar {\n        background: #F44336;\n    }\n</style>\n"
          },
          "metadata": {}
        },
        {
          "output_type": "display_data",
          "data": {
            "text/plain": "<IPython.core.display.HTML object>",
            "text/html": ""
          },
          "metadata": {}
        },
        {
          "output_type": "stream",
          "name": "stdout",
          "text": "CPU times: user 10.5 s, sys: 55.9 ms, total: 10.5 s\nWall time: 7.56 s\n"
        }
      ],
      "execution_count": 24,
      "metadata": {
        "id": "ASXsRveD_8JW",
        "trusted": true
      }
    },
    {
      "cell_type": "code",
      "source": [
        "nn_preds_x.shape,nn_preds_y.shape,a_preds.shape"
      ],
      "outputs": [
        {
          "output_type": "execute_result",
          "execution_count": 28,
          "data": {
            "text/plain": "(torch.Size([15303, 3]), torch.Size([51012, 3]), torch.Size([51012, 3]))"
          },
          "metadata": {}
        }
      ],
      "execution_count": 28,
      "metadata": {
        "trusted": true,
        "gather": {
          "logged": 1718252916841
        }
      }
    },
    {
      "cell_type": "code",
      "source": [
        "nn_preds_b = a_preds[:, 0]\n",
        "nn_preds_b.shape"
      ],
      "outputs": [
        {
          "output_type": "execute_result",
          "execution_count": 26,
          "data": {
            "text/plain": "torch.Size([51012])"
          },
          "metadata": {}
        }
      ],
      "execution_count": 26,
      "metadata": {
        "jupyter": {
          "source_hidden": false,
          "outputs_hidden": false
        },
        "nteract": {
          "transient": {
            "deleting": false
          }
        },
        "gather": {
          "logged": 1718273873725
        }
      }
    },
    {
      "cell_type": "code",
      "source": [
        "nn_preds_b"
      ],
      "outputs": [
        {
          "output_type": "execute_result",
          "execution_count": 30,
          "data": {
            "text/plain": "tensor([0.9906, 0.0026, 0.0110,  ..., 0.9961, 0.9889, 0.9963])"
          },
          "metadata": {}
        }
      ],
      "execution_count": 30,
      "metadata": {
        "jupyter": {
          "source_hidden": false,
          "outputs_hidden": false
        },
        "nteract": {
          "transient": {
            "deleting": false
          }
        },
        "gather": {
          "logged": 1718253030699
        }
      }
    },
    {
      "cell_type": "code",
      "source": [
        "mapping = dict(enumerate(dls.vocab))\n",
        "#predicted_labels = [mapping[value.item()] for value in general_preds_sub]\n",
        "# Assuming general_preds_sub contains the averaged predictions from multiple models\n",
        "rounded_preds = torch.round(nn_preds_b).long()  # Round to nearest whole number and convert to long type\n",
        "\n",
        "# Now map the rounded predictions to labels\n",
        "predicted_labels = [mapping[value.item()] for value in rounded_preds]\n",
        "submit = pd.read_csv(path/'sample_submission.csv')\n",
        "submit.Target = predicted_labels\n",
        "submit.to_csv('submission.csv',index=False)\n",
        "submit"
      ],
      "outputs": [
        {
          "output_type": "execute_result",
          "execution_count": 33,
          "data": {
            "text/plain": "           id    Target\n0       76518  Enrolled\n1       76519   Dropout\n2       76520   Dropout\n3       76521   Dropout\n4       76522   Dropout\n...       ...       ...\n51007  127525  Enrolled\n51008  127526  Enrolled\n51009  127527  Enrolled\n51010  127528  Enrolled\n51011  127529  Enrolled\n\n[51012 rows x 2 columns]",
            "text/html": "<div>\n<style scoped>\n    .dataframe tbody tr th:only-of-type {\n        vertical-align: middle;\n    }\n\n    .dataframe tbody tr th {\n        vertical-align: top;\n    }\n\n    .dataframe thead th {\n        text-align: right;\n    }\n</style>\n<table border=\"1\" class=\"dataframe\">\n  <thead>\n    <tr style=\"text-align: right;\">\n      <th></th>\n      <th>id</th>\n      <th>Target</th>\n    </tr>\n  </thead>\n  <tbody>\n    <tr>\n      <th>0</th>\n      <td>76518</td>\n      <td>Enrolled</td>\n    </tr>\n    <tr>\n      <th>1</th>\n      <td>76519</td>\n      <td>Dropout</td>\n    </tr>\n    <tr>\n      <th>2</th>\n      <td>76520</td>\n      <td>Dropout</td>\n    </tr>\n    <tr>\n      <th>3</th>\n      <td>76521</td>\n      <td>Dropout</td>\n    </tr>\n    <tr>\n      <th>4</th>\n      <td>76522</td>\n      <td>Dropout</td>\n    </tr>\n    <tr>\n      <th>...</th>\n      <td>...</td>\n      <td>...</td>\n    </tr>\n    <tr>\n      <th>51007</th>\n      <td>127525</td>\n      <td>Enrolled</td>\n    </tr>\n    <tr>\n      <th>51008</th>\n      <td>127526</td>\n      <td>Enrolled</td>\n    </tr>\n    <tr>\n      <th>51009</th>\n      <td>127527</td>\n      <td>Enrolled</td>\n    </tr>\n    <tr>\n      <th>51010</th>\n      <td>127528</td>\n      <td>Enrolled</td>\n    </tr>\n    <tr>\n      <th>51011</th>\n      <td>127529</td>\n      <td>Enrolled</td>\n    </tr>\n  </tbody>\n</table>\n<p>51012 rows × 2 columns</p>\n</div>"
          },
          "metadata": {}
        }
      ],
      "execution_count": 33,
      "metadata": {
        "jupyter": {
          "source_hidden": false,
          "outputs_hidden": false
        },
        "nteract": {
          "transient": {
            "deleting": false
          }
        },
        "gather": {
          "logged": 1718253132987
        }
      }
    },
    {
      "cell_type": "code",
      "source": [
        "!kaggle competitions submit -c playground-series-s4e6 -f submission.csv -m \"nn preds without original dataset - round off preds\""
      ],
      "outputs": [
        {
          "output_type": "stream",
          "name": "stdout",
          "text": "Warning: Your Kaggle API key is readable by other users on this system! To fix this, you can run 'chmod 600 /home/azureuser/.kaggle/kaggle.json'\r\n\r  0%|                                                | 0.00/739k [00:00<?, ?B/s]\r100%|████████████████████████████████████████| 739k/739k [00:00<00:00, 2.63MB/s]\r\nSuccessfully submitted to Classification with an Academic Success Dataset"
        }
      ],
      "execution_count": 35,
      "metadata": {
        "jupyter": {
          "source_hidden": false,
          "outputs_hidden": false
        },
        "nteract": {
          "transient": {
            "deleting": false
          }
        }
      }
    },
    {
      "cell_type": "code",
      "source": [
        "!ls"
      ],
      "outputs": [
        {
          "output_type": "stream",
          "name": "stdout",
          "text": "academic-success-dataset.zip\t       kaggle.json\r\nacademic_dataset\t\t       models\r\ncatboost_info\t\t\t       playground-series-s4e6\r\ndataset\t\t\t\t       playground-series-s4e6.zip\r\nfastai-gbms-decisionTrees.ipynb        requirements.txt\r\nfastai-gradient-boosting.ipynb\t       submission.csv\r\nfastai-gradient-boosting.ipynb.amltmp\r\n"
        }
      ],
      "execution_count": 34,
      "metadata": {
        "execution": {
          "iopub.status.busy": "2024-06-10T16:17:03.466047Z",
          "iopub.execute_input": "2024-06-10T16:17:03.467314Z",
          "iopub.status.idle": "2024-06-10T16:17:04.594003Z",
          "shell.execute_reply.started": "2024-06-10T16:17:03.467255Z",
          "shell.execute_reply": "2024-06-10T16:17:04.592423Z"
        },
        "trusted": true
      }
    },
    {
      "cell_type": "code",
      "source": [
        "!rm submission.csv"
      ],
      "outputs": [],
      "execution_count": 36,
      "metadata": {
        "execution": {
          "iopub.status.busy": "2024-06-10T09:41:09.743546Z",
          "iopub.execute_input": "2024-06-10T09:41:09.745021Z",
          "iopub.status.idle": "2024-06-10T09:41:10.803569Z",
          "shell.execute_reply.started": "2024-06-10T09:41:09.744960Z",
          "shell.execute_reply": "2024-06-10T09:41:10.801056Z"
        },
        "trusted": true
      }
    },
    {
      "cell_type": "code",
      "source": [
        "mapping = dict(enumerate(dls.vocab))\n",
        "predicted_labels = [mapping[value.item()] for value in cat_preds_final]\n",
        "submit = pd.read_csv(path/'sample_submission.csv')\n",
        "submit.Target = predicted_labels\n",
        "submit.to_csv('submission.csv',index=False)\n",
        "submit"
      ],
      "outputs": [],
      "execution_count": null,
      "metadata": {
        "id": "KB9WcsyA_8Jk",
        "execution": {
          "iopub.status.busy": "2024-06-10T09:46:44.413471Z",
          "iopub.execute_input": "2024-06-10T09:46:44.414025Z",
          "iopub.status.idle": "2024-06-10T09:46:44.641955Z",
          "shell.execute_reply.started": "2024-06-10T09:46:44.413980Z",
          "shell.execute_reply": "2024-06-10T09:46:44.640504Z"
        },
        "trusted": true
      }
    },
    {
      "cell_type": "markdown",
      "source": [
        "### Ensemble\n",
        "\n",
        "For testing with our accuracy_score metric, we use the x preds as in lgb_preds_x, xgboost_preds_x,rf_preds_x, and cat_preds_x_final.\n",
        "\n",
        "For submission, we use the lgb_preds, xgboost_preds,rf_preds, and cat_preds_final as this is the result of running the model on the initial test set and gives us the same shape as our expected submission."
      ],
      "metadata": {}
    },
    {
      "cell_type": "markdown",
      "source": [
        "#### For testing"
      ],
      "metadata": {}
    },
    {
      "cell_type": "code",
      "source": [
        "cat_preds_x_final = cat_preds_x.squeeze(1)"
      ],
      "outputs": [],
      "execution_count": null,
      "metadata": {
        "execution": {
          "iopub.status.busy": "2024-06-10T16:15:19.950821Z",
          "iopub.execute_input": "2024-06-10T16:15:19.951403Z",
          "iopub.status.idle": "2024-06-10T16:15:19.960013Z",
          "shell.execute_reply.started": "2024-06-10T16:15:19.951357Z",
          "shell.execute_reply": "2024-06-10T16:15:19.957736Z"
        },
        "trusted": true
      }
    },
    {
      "cell_type": "code",
      "source": [
        "rf_preds_x.shape,cat_preds_x_final.shape,lgb_preds_x.shape,xgb_preds_x.shape"
      ],
      "outputs": [],
      "execution_count": null,
      "metadata": {
        "execution": {
          "iopub.status.busy": "2024-06-10T16:15:26.089087Z",
          "iopub.execute_input": "2024-06-10T16:15:26.089732Z",
          "iopub.status.idle": "2024-06-10T16:15:26.100640Z",
          "shell.execute_reply.started": "2024-06-10T16:15:26.089683Z",
          "shell.execute_reply": "2024-06-10T16:15:26.098748Z"
        },
        "trusted": true
      }
    },
    {
      "cell_type": "code",
      "source": [
        "general_preds = (rf_preds_x + cat_preds_x_final + lgb_preds_x + xgb_preds_x)/4\n",
        "general_preds"
      ],
      "outputs": [],
      "execution_count": null,
      "metadata": {
        "execution": {
          "iopub.status.busy": "2024-06-10T16:25:42.124608Z",
          "iopub.execute_input": "2024-06-10T16:25:42.125171Z",
          "iopub.status.idle": "2024-06-10T16:25:42.178091Z",
          "shell.execute_reply.started": "2024-06-10T16:25:42.125115Z",
          "shell.execute_reply": "2024-06-10T16:25:42.176645Z"
        },
        "trusted": true
      }
    },
    {
      "cell_type": "code",
      "source": [
        "rf_preds_x.shape,cat_preds_x_final.shape,lgb_preds_x.shape,xgb_preds_x.shape,general_preds.shape"
      ],
      "outputs": [],
      "execution_count": null,
      "metadata": {
        "execution": {
          "iopub.status.busy": "2024-06-10T16:16:57.604151Z",
          "iopub.execute_input": "2024-06-10T16:16:57.605367Z",
          "iopub.status.idle": "2024-06-10T16:16:57.614658Z",
          "shell.execute_reply.started": "2024-06-10T16:16:57.605315Z",
          "shell.execute_reply": "2024-06-10T16:16:57.613223Z"
        },
        "trusted": true
      }
    },
    {
      "cell_type": "code",
      "source": [
        "accuracy_score(y_test,general_preds)"
      ],
      "outputs": [],
      "execution_count": null,
      "metadata": {
        "trusted": true
      }
    },
    {
      "cell_type": "markdown",
      "source": [
        "#### For Submission"
      ],
      "metadata": {}
    },
    {
      "cell_type": "code",
      "source": [
        "rf_preds.shape,cat_preds_final.shape,lgb_preds.shape,xgb_preds.shape,nn_preds_x.shape,nn_preds_b.shape"
      ],
      "outputs": [
        {
          "output_type": "execute_result",
          "execution_count": 27,
          "data": {
            "text/plain": "(torch.Size([51012]),\n torch.Size([51012]),\n torch.Size([51012]),\n torch.Size([51012]),\n torch.Size([15303, 3]),\n torch.Size([51012]))"
          },
          "metadata": {}
        }
      ],
      "execution_count": 27,
      "metadata": {
        "execution": {
          "iopub.status.busy": "2024-06-10T16:25:07.551957Z",
          "iopub.execute_input": "2024-06-10T16:25:07.552656Z",
          "iopub.status.idle": "2024-06-10T16:25:07.563321Z",
          "shell.execute_reply.started": "2024-06-10T16:25:07.552612Z",
          "shell.execute_reply": "2024-06-10T16:25:07.561836Z"
        },
        "trusted": true,
        "gather": {
          "logged": 1718273879129
        }
      }
    },
    {
      "cell_type": "code",
      "source": [
        "general_preds_sub = (rf_preds + cat_preds_final + lgb_preds + xgb_preds + nn_preds_b)/5\n",
        "general_preds_sub"
      ],
      "outputs": [
        {
          "output_type": "execute_result",
          "execution_count": 28,
          "data": {
            "text/plain": "tensor([0.1945, 1.6006, 1.6038,  ..., 0.1983, 0.1812, 0.1924])"
          },
          "metadata": {}
        }
      ],
      "execution_count": 28,
      "metadata": {
        "execution": {
          "iopub.status.busy": "2024-06-10T16:28:20.943155Z",
          "iopub.execute_input": "2024-06-10T16:28:20.945143Z",
          "iopub.status.idle": "2024-06-10T16:28:20.958561Z",
          "shell.execute_reply.started": "2024-06-10T16:28:20.945075Z",
          "shell.execute_reply": "2024-06-10T16:28:20.956686Z"
        },
        "trusted": true,
        "gather": {
          "logged": 1718273885986
        }
      }
    },
    {
      "cell_type": "code",
      "source": [
        "general_preds_sub = ( cat_preds_final + lgb_preds + xgb_preds)/3\n",
        "general_preds_sub"
      ],
      "outputs": [
        {
          "output_type": "execute_result",
          "execution_count": 33,
          "data": {
            "text/plain": "tensor([0., 2., 2.,  ..., 0., 0., 0.])"
          },
          "metadata": {}
        }
      ],
      "execution_count": 33,
      "metadata": {
        "jupyter": {
          "source_hidden": false,
          "outputs_hidden": false
        },
        "nteract": {
          "transient": {
            "deleting": false
          }
        },
        "gather": {
          "logged": 1718274186483
        }
      }
    },
    {
      "cell_type": "code",
      "source": [
        "rf_preds.shape,cat_preds_final.shape,lgb_preds.shape,xgb_preds.shape,general_preds_sub.shape"
      ],
      "outputs": [],
      "execution_count": null,
      "metadata": {
        "execution": {
          "iopub.status.busy": "2024-06-10T16:28:38.683042Z",
          "iopub.execute_input": "2024-06-10T16:28:38.684688Z",
          "iopub.status.idle": "2024-06-10T16:28:38.694103Z",
          "shell.execute_reply.started": "2024-06-10T16:28:38.684613Z",
          "shell.execute_reply": "2024-06-10T16:28:38.692647Z"
        },
        "trusted": true
      }
    },
    {
      "cell_type": "markdown",
      "source": [
        "The general_preds_sub contains numbers that are floats, yet our targets are encoded among 3 whole numbers, hence it throws a keyerror when trying to do the mapping. \n",
        "\n",
        "To solve this, i experiment with rounding off which doesnt seem to drop the accuracy."
      ],
      "metadata": {
        "nteract": {
          "transient": {
            "deleting": false
          }
        }
      }
    },
    {
      "cell_type": "code",
      "source": [
        "mapping = dict(enumerate(dls.vocab))\n",
        "predicted_labels = [mapping[value.item()] for value in general_preds_sub]"
      ],
      "outputs": [
        {
          "output_type": "error",
          "ename": "KeyError",
          "evalue": "1.6666666269302368",
          "traceback": [
            "\u001b[0;31m---------------------------------------------------------------------------\u001b[0m",
            "\u001b[0;31mKeyError\u001b[0m                                  Traceback (most recent call last)",
            "Cell \u001b[0;32mIn[34], line 2\u001b[0m\n\u001b[1;32m      1\u001b[0m mapping \u001b[38;5;241m=\u001b[39m \u001b[38;5;28mdict\u001b[39m(\u001b[38;5;28menumerate\u001b[39m(dls\u001b[38;5;241m.\u001b[39mvocab))\n\u001b[0;32m----> 2\u001b[0m predicted_labels \u001b[38;5;241m=\u001b[39m [mapping[value\u001b[38;5;241m.\u001b[39mitem()] \u001b[38;5;28;01mfor\u001b[39;00m value \u001b[38;5;129;01min\u001b[39;00m general_preds_sub]\n",
            "Cell \u001b[0;32mIn[34], line 2\u001b[0m, in \u001b[0;36m<listcomp>\u001b[0;34m(.0)\u001b[0m\n\u001b[1;32m      1\u001b[0m mapping \u001b[38;5;241m=\u001b[39m \u001b[38;5;28mdict\u001b[39m(\u001b[38;5;28menumerate\u001b[39m(dls\u001b[38;5;241m.\u001b[39mvocab))\n\u001b[0;32m----> 2\u001b[0m predicted_labels \u001b[38;5;241m=\u001b[39m [\u001b[43mmapping\u001b[49m\u001b[43m[\u001b[49m\u001b[43mvalue\u001b[49m\u001b[38;5;241;43m.\u001b[39;49m\u001b[43mitem\u001b[49m\u001b[43m(\u001b[49m\u001b[43m)\u001b[49m\u001b[43m]\u001b[49m \u001b[38;5;28;01mfor\u001b[39;00m value \u001b[38;5;129;01min\u001b[39;00m general_preds_sub]\n",
            "\u001b[0;31mKeyError\u001b[0m: 1.6666666269302368"
          ]
        }
      ],
      "execution_count": 34,
      "metadata": {
        "jupyter": {
          "source_hidden": false,
          "outputs_hidden": false
        },
        "nteract": {
          "transient": {
            "deleting": false
          }
        },
        "gather": {
          "logged": 1718274205388
        }
      }
    },
    {
      "cell_type": "code",
      "source": [
        "mapping = dict(enumerate(dls.vocab))\n",
        "#predicted_labels = [mapping[value.item()] for value in general_preds_sub]\n",
        "# Assuming general_preds_sub contains the averaged predictions from multiple models\n",
        "rounded_preds = torch.round(general_preds_sub).long()  # Round to nearest whole number and convert to long type\n",
        "\n",
        "# Now map the rounded predictions to labels\n",
        "predicted_labels = [mapping[value.item()] for value in rounded_preds]\n",
        "submit = pd.read_csv(path/'sample_submission.csv')\n",
        "submit.Target = predicted_labels\n",
        "submit.to_csv('submission.csv',index=False)\n",
        "submit"
      ],
      "outputs": [
        {
          "output_type": "execute_result",
          "execution_count": 35,
          "data": {
            "text/plain": "           id    Target\n0       76518   Dropout\n1       76519  Graduate\n2       76520  Graduate\n3       76521  Enrolled\n4       76522  Enrolled\n...       ...       ...\n51007  127525   Dropout\n51008  127526   Dropout\n51009  127527   Dropout\n51010  127528   Dropout\n51011  127529   Dropout\n\n[51012 rows x 2 columns]",
            "text/html": "<div>\n<style scoped>\n    .dataframe tbody tr th:only-of-type {\n        vertical-align: middle;\n    }\n\n    .dataframe tbody tr th {\n        vertical-align: top;\n    }\n\n    .dataframe thead th {\n        text-align: right;\n    }\n</style>\n<table border=\"1\" class=\"dataframe\">\n  <thead>\n    <tr style=\"text-align: right;\">\n      <th></th>\n      <th>id</th>\n      <th>Target</th>\n    </tr>\n  </thead>\n  <tbody>\n    <tr>\n      <th>0</th>\n      <td>76518</td>\n      <td>Dropout</td>\n    </tr>\n    <tr>\n      <th>1</th>\n      <td>76519</td>\n      <td>Graduate</td>\n    </tr>\n    <tr>\n      <th>2</th>\n      <td>76520</td>\n      <td>Graduate</td>\n    </tr>\n    <tr>\n      <th>3</th>\n      <td>76521</td>\n      <td>Enrolled</td>\n    </tr>\n    <tr>\n      <th>4</th>\n      <td>76522</td>\n      <td>Enrolled</td>\n    </tr>\n    <tr>\n      <th>...</th>\n      <td>...</td>\n      <td>...</td>\n    </tr>\n    <tr>\n      <th>51007</th>\n      <td>127525</td>\n      <td>Dropout</td>\n    </tr>\n    <tr>\n      <th>51008</th>\n      <td>127526</td>\n      <td>Dropout</td>\n    </tr>\n    <tr>\n      <th>51009</th>\n      <td>127527</td>\n      <td>Dropout</td>\n    </tr>\n    <tr>\n      <th>51010</th>\n      <td>127528</td>\n      <td>Dropout</td>\n    </tr>\n    <tr>\n      <th>51011</th>\n      <td>127529</td>\n      <td>Dropout</td>\n    </tr>\n  </tbody>\n</table>\n<p>51012 rows × 2 columns</p>\n</div>"
          },
          "metadata": {}
        }
      ],
      "execution_count": 35,
      "metadata": {
        "gather": {
          "logged": 1718274210006
        }
      }
    },
    {
      "cell_type": "code",
      "source": [
        "!kaggle competitions submit -c playground-series-s4e6 -f submission.csv -m \"(general preds - rfpreds,nn_preds) without original dataset - round off preds\""
      ],
      "outputs": [
        {
          "output_type": "stream",
          "name": "stdout",
          "text": "Warning: Your Kaggle API key is readable by other users on this system! To fix this, you can run 'chmod 600 /home/azureuser/.kaggle/kaggle.json'\n100%|████████████████████████████████████████| 759k/759k [00:00<00:00, 2.77MB/s]\n400 - Bad Request - Submission not allowed:  Your team has used its daily Submission allowance (5) today, please try again tomorrow UTC (13 hours from now).\n"
        }
      ],
      "execution_count": 36,
      "metadata": {
        "jupyter": {
          "source_hidden": false,
          "outputs_hidden": false
        },
        "nteract": {
          "transient": {
            "deleting": false
          }
        }
      }
    },
    {
      "cell_type": "markdown",
      "source": [
        "# Adding original dataset"
      ],
      "metadata": {}
    },
    {
      "cell_type": "code",
      "source": [
        "original_df = pd.read_csv(path/'data.csv', delimiter=';')"
      ],
      "outputs": [],
      "execution_count": 5,
      "metadata": {
        "execution": {
          "iopub.status.busy": "2024-06-11T10:07:03.081469Z",
          "iopub.execute_input": "2024-06-11T10:07:03.081854Z",
          "iopub.status.idle": "2024-06-11T10:07:03.107928Z",
          "shell.execute_reply.started": "2024-06-11T10:07:03.081820Z",
          "shell.execute_reply": "2024-06-11T10:07:03.106503Z"
        },
        "trusted": true,
        "gather": {
          "logged": 1718135445127
        }
      }
    },
    {
      "cell_type": "code",
      "source": [
        "original_df.rename(columns={'Daytime/evening attendance\\t':'Daytime/evening attendance'}, inplace=True)"
      ],
      "outputs": [],
      "execution_count": 6,
      "metadata": {
        "execution": {
          "iopub.status.busy": "2024-06-11T10:07:03.948777Z",
          "iopub.execute_input": "2024-06-11T10:07:03.949216Z",
          "iopub.status.idle": "2024-06-11T10:07:03.955727Z",
          "shell.execute_reply.started": "2024-06-11T10:07:03.949179Z",
          "shell.execute_reply": "2024-06-11T10:07:03.954382Z"
        },
        "trusted": true,
        "gather": {
          "logged": 1718135455825
        }
      }
    },
    {
      "cell_type": "code",
      "source": [
        "train_final = pd.concat([train_df,original_df], axis=0)\n",
        "test_final = pd.concat([test_df,original_df], axis=0)"
      ],
      "outputs": [],
      "execution_count": 7,
      "metadata": {
        "execution": {
          "iopub.status.busy": "2024-06-11T10:08:36.944802Z",
          "iopub.execute_input": "2024-06-11T10:08:36.945481Z",
          "iopub.status.idle": "2024-06-11T10:08:36.967207Z",
          "shell.execute_reply.started": "2024-06-11T10:08:36.945432Z",
          "shell.execute_reply": "2024-06-11T10:08:36.966023Z"
        },
        "trusted": true,
        "gather": {
          "logged": 1718135463626
        }
      }
    },
    {
      "cell_type": "code",
      "source": [
        "cont_names,cat_names = cont_cat_split(train_final, dep_var='Target')\n",
        "splits = RandomSplitter(valid_pct=0.2)(range_of(train_final))\n",
        "to = TabularPandas(train_final, procs=[Categorify, FillMissing,Normalize],\n",
        "                   cat_names = cat_names,\n",
        "                   cont_names = cont_names,\n",
        "                   y_names='Target',\n",
        "                   y_block=CategoryBlock(),\n",
        "                   splits=splits)\n",
        "\n",
        "X_train, y_train = to.train.xs, to.train.ys.values.ravel()\n",
        "X_test, y_test = to.valid.xs, to.valid.ys.values.ravel()\n",
        "\n",
        "dls = to.dataloaders(bs=64)\n",
        "#test_dl = dls.test_dl(test_df)"
      ],
      "outputs": [],
      "execution_count": 28,
      "metadata": {
        "execution": {
          "iopub.status.busy": "2024-06-11T10:08:37.293120Z",
          "iopub.execute_input": "2024-06-11T10:08:37.293538Z",
          "iopub.status.idle": "2024-06-11T10:08:37.651777Z",
          "shell.execute_reply.started": "2024-06-11T10:08:37.293503Z",
          "shell.execute_reply": "2024-06-11T10:08:37.650156Z"
        },
        "trusted": true,
        "gather": {
          "logged": 1718136484617
        }
      }
    },
    {
      "cell_type": "code",
      "source": [
        "test_dl = dls.test_dl(test_df)"
      ],
      "outputs": [],
      "execution_count": 9,
      "metadata": {
        "execution": {
          "iopub.status.busy": "2024-06-11T10:08:37.653845Z",
          "iopub.execute_input": "2024-06-11T10:08:37.654232Z",
          "iopub.status.idle": "2024-06-11T10:08:37.721786Z",
          "shell.execute_reply.started": "2024-06-11T10:08:37.654199Z",
          "shell.execute_reply": "2024-06-11T10:08:37.720574Z"
        },
        "trusted": true,
        "gather": {
          "logged": 1718135485450
        }
      }
    },
    {
      "cell_type": "code",
      "source": [
        "%%time\n",
        "rf = RandomForestClassifier(100, min_samples_leaf=3)\n",
        "rf_model = rf.fit(X_train, y_train);\n",
        "\n",
        "rf_preds = tensor(rf_model.predict(test_dl.xs))\n",
        "\n",
        "rf_preds_x = tensor(rf_model.predict(X_test))\n",
        "\n",
        "mse = mean_absolute_error(y_test, rf_preds_x)\n",
        "rmse = np.sqrt(mse)\n",
        "\n",
        "accuracy_score(y_test,rf_preds_x)"
      ],
      "outputs": [
        {
          "output_type": "stream",
          "name": "stdout",
          "text": "CPU times: user 12.2 s, sys: 12 ms, total: 12.2 s\nWall time: 12.2 s\n"
        },
        {
          "output_type": "execute_result",
          "execution_count": 10,
          "data": {
            "text/plain": "0.8230170496664195"
          },
          "metadata": {}
        }
      ],
      "execution_count": 10,
      "metadata": {
        "execution": {
          "iopub.status.busy": "2024-06-11T10:08:51.760974Z",
          "iopub.execute_input": "2024-06-11T10:08:51.761442Z",
          "iopub.status.idle": "2024-06-11T10:09:11.432661Z",
          "shell.execute_reply.started": "2024-06-11T10:08:51.761406Z",
          "shell.execute_reply": "2024-06-11T10:09:11.431259Z"
        },
        "trusted": true
      }
    },
    {
      "cell_type": "markdown",
      "source": [
        "{'random forests': 0.8236293537214925, 'cat boost': 0.8265699536038685, 'lgbm': 0.8253283669868653, 'xgboost': 0.8268313402600798}"
      ],
      "metadata": {}
    },
    {
      "cell_type": "code",
      "source": [
        "%%time\n",
        "cat_model = CatBoostClassifier(iterations=2000, depth=8, learning_rate=  0.08, random_strength=10)\n",
        "cat_model = cat_model.fit(X_train, y_train, eval_set=(X_test, y_test), verbose=False)\n",
        "\n",
        "#test set preds\n",
        "cat_preds = tensor(cat_model.predict(test_dl.xs))\n",
        "\n",
        "\n",
        "cat_preds_final = cat_preds.squeeze(1)\n",
        "\n",
        "#validation set preds\n",
        "cat_preds_x = tensor(cat_model.predict(X_test))\n",
        "\n",
        "cat_preds_x_final = cat_preds_x.squeeze(1)\n",
        "\n",
        "accuracy_score(y_test,cat_preds_x)"
      ],
      "outputs": [
        {
          "output_type": "stream",
          "name": "stdout",
          "text": "CPU times: user 6min 13s, sys: 6.41 s, total: 6min 19s\nWall time: 1min 48s\n"
        },
        {
          "output_type": "execute_result",
          "execution_count": 11,
          "data": {
            "text/plain": "0.8254880158141833"
          },
          "metadata": {}
        }
      ],
      "execution_count": 11,
      "metadata": {
        "execution": {
          "iopub.status.busy": "2024-06-11T10:09:11.434521Z",
          "iopub.execute_input": "2024-06-11T10:09:11.434885Z",
          "iopub.status.idle": "2024-06-11T10:12:21.601471Z",
          "shell.execute_reply.started": "2024-06-11T10:09:11.434852Z",
          "shell.execute_reply": "2024-06-11T10:12:21.600095Z"
        },
        "trusted": true
      }
    },
    {
      "cell_type": "code",
      "source": [
        "%%time\n",
        "xgb_model = xgb.XGBClassifier(n_estimators = 197, max_depth=4, learning_rate=0.1818695751227044, subsample= 0.39774994666482544)\n",
        "xgb_model = xgb_model.fit(X_train, y_train)\n",
        "xgb_preds = tensor(xgb_model.predict(test_dl.xs))\n",
        "\n",
        "xgb_preds_x = tensor(xgb_model.predict(X_test))\n",
        "\n",
        "accuracy_score(y_test,xgb_preds_x)"
      ],
      "outputs": [
        {
          "output_type": "stream",
          "name": "stdout",
          "text": "CPU times: user 6.33 s, sys: 51 ms, total: 6.38 s\nWall time: 10.9 s\n"
        },
        {
          "output_type": "execute_result",
          "execution_count": 12,
          "data": {
            "text/plain": "0.8275883370397825"
          },
          "metadata": {}
        }
      ],
      "execution_count": 12,
      "metadata": {
        "execution": {
          "iopub.status.busy": "2024-06-11T10:13:02.665580Z",
          "iopub.execute_input": "2024-06-11T10:13:02.666971Z",
          "iopub.status.idle": "2024-06-11T10:13:10.180281Z",
          "shell.execute_reply.started": "2024-06-11T10:13:02.666926Z",
          "shell.execute_reply": "2024-06-11T10:13:10.179054Z"
        },
        "trusted": true
      }
    },
    {
      "cell_type": "code",
      "source": [
        "lgb_model = lgb.LGBMClassifier(num_leaves=251, learning_rate=0.02956613668999794, n_estimators=483, max_depth=82, boosting_type='gbdt',min_child_samples=90, random_state=27)\n",
        "lgb_model = lgb_model.fit(X_train, y_train)\n",
        "\n",
        "#test set preds\n",
        "lgb_preds = tensor(lgb_model.predict(test_dl.xs))\n",
        "\n",
        "#validation set preds\n",
        "lgb_preds_x = tensor(lgb_model.predict(X_test))\n",
        "\n",
        "lgb_score = accuracy_score(y_test,lgb_preds_x)\n",
        "lgb_score"
      ],
      "outputs": [
        {
          "output_type": "execute_result",
          "execution_count": 13,
          "data": {
            "text/plain": "0.8257968865826538"
          },
          "metadata": {}
        }
      ],
      "execution_count": 13,
      "metadata": {
        "execution": {
          "iopub.status.busy": "2024-06-11T10:13:10.182004Z",
          "iopub.execute_input": "2024-06-11T10:13:10.182347Z",
          "iopub.status.idle": "2024-06-11T10:14:01.532117Z",
          "shell.execute_reply.started": "2024-06-11T10:13:10.182318Z",
          "shell.execute_reply": "2024-06-11T10:14:01.530865Z"
        },
        "trusted": true,
        "gather": {
          "logged": 1718135671956
        }
      }
    },
    {
      "cell_type": "code",
      "source": [
        "!ls"
      ],
      "outputs": [
        {
          "output_type": "stream",
          "name": "stdout",
          "text": "academic-success-dataset.zip\t fastai-gradient-boosting.ipynb.amltmp\r\nacademic_dataset\t\t kaggle.json\r\ncatboost_info\t\t\t models\r\ndataset\t\t\t\t playground-series-s4e6\r\nfastai-gbms-decisionTrees.ipynb  playground-series-s4e6.zip\r\nfastai-gradient-boosting.ipynb\t requirements.txt\r\n"
        }
      ],
      "execution_count": 14,
      "metadata": {
        "jupyter": {
          "source_hidden": false,
          "outputs_hidden": false
        },
        "nteract": {
          "transient": {
            "deleting": false
          }
        }
      }
    },
    {
      "cell_type": "code",
      "source": [
        "!rm submission.csv"
      ],
      "outputs": [],
      "execution_count": 27,
      "metadata": {
        "execution": {
          "iopub.status.busy": "2024-06-11T10:14:33.073981Z",
          "iopub.execute_input": "2024-06-11T10:14:33.074447Z",
          "iopub.status.idle": "2024-06-11T10:14:34.160635Z",
          "shell.execute_reply.started": "2024-06-11T10:14:33.074405Z",
          "shell.execute_reply": "2024-06-11T10:14:34.159067Z"
        },
        "trusted": true
      }
    },
    {
      "cell_type": "code",
      "source": [
        "model_preds = {\n",
        "    \"random forests\":accuracy_score(y_test,rf_preds_x),\n",
        "    \"cat boost\":accuracy_score(y_test,cat_preds_x),\n",
        "    \"lgbm\":lgb_score,\n",
        "    \"xgboost\":accuracy_score(y_test,xgb_preds_x),   \n",
        "}\n",
        "\n",
        "#model_preds_a = model_preds.sort()\n",
        "print(model_preds)"
      ],
      "outputs": [
        {
          "output_type": "stream",
          "name": "stdout",
          "text": "{'random forests': 0.8230170496664195, 'cat boost': 0.8254880158141833, 'lgbm': 0.8257968865826538, 'xgboost': 0.8275883370397825}\n"
        }
      ],
      "execution_count": 15,
      "metadata": {
        "jupyter": {
          "source_hidden": false,
          "outputs_hidden": false
        },
        "nteract": {
          "transient": {
            "deleting": false
          }
        },
        "gather": {
          "logged": 1718135784715
        }
      }
    },
    {
      "cell_type": "code",
      "source": [
        "mapping = dict(enumerate(dls.vocab))\n",
        "predicted_labels = [mapping[value.item()] for value in xgb_preds]\n",
        "submit = pd.read_csv(path/'sample_submission.csv')\n",
        "submit.Target = predicted_labels\n",
        "submit.to_csv('submission.csv',index=False)\n",
        "submit"
      ],
      "outputs": [
        {
          "output_type": "execute_result",
          "execution_count": 16,
          "data": {
            "text/plain": "           id    Target\n0       76518   Dropout\n1       76519  Graduate\n2       76520  Graduate\n3       76521  Enrolled\n4       76522  Enrolled\n...       ...       ...\n51007  127525   Dropout\n51008  127526   Dropout\n51009  127527   Dropout\n51010  127528   Dropout\n51011  127529   Dropout\n\n[51012 rows x 2 columns]",
            "text/html": "<div>\n<style scoped>\n    .dataframe tbody tr th:only-of-type {\n        vertical-align: middle;\n    }\n\n    .dataframe tbody tr th {\n        vertical-align: top;\n    }\n\n    .dataframe thead th {\n        text-align: right;\n    }\n</style>\n<table border=\"1\" class=\"dataframe\">\n  <thead>\n    <tr style=\"text-align: right;\">\n      <th></th>\n      <th>id</th>\n      <th>Target</th>\n    </tr>\n  </thead>\n  <tbody>\n    <tr>\n      <th>0</th>\n      <td>76518</td>\n      <td>Dropout</td>\n    </tr>\n    <tr>\n      <th>1</th>\n      <td>76519</td>\n      <td>Graduate</td>\n    </tr>\n    <tr>\n      <th>2</th>\n      <td>76520</td>\n      <td>Graduate</td>\n    </tr>\n    <tr>\n      <th>3</th>\n      <td>76521</td>\n      <td>Enrolled</td>\n    </tr>\n    <tr>\n      <th>4</th>\n      <td>76522</td>\n      <td>Enrolled</td>\n    </tr>\n    <tr>\n      <th>...</th>\n      <td>...</td>\n      <td>...</td>\n    </tr>\n    <tr>\n      <th>51007</th>\n      <td>127525</td>\n      <td>Dropout</td>\n    </tr>\n    <tr>\n      <th>51008</th>\n      <td>127526</td>\n      <td>Dropout</td>\n    </tr>\n    <tr>\n      <th>51009</th>\n      <td>127527</td>\n      <td>Dropout</td>\n    </tr>\n    <tr>\n      <th>51010</th>\n      <td>127528</td>\n      <td>Dropout</td>\n    </tr>\n    <tr>\n      <th>51011</th>\n      <td>127529</td>\n      <td>Dropout</td>\n    </tr>\n  </tbody>\n</table>\n<p>51012 rows × 2 columns</p>\n</div>"
          },
          "metadata": {}
        }
      ],
      "execution_count": 16,
      "metadata": {
        "execution": {
          "iopub.status.busy": "2024-06-11T10:15:10.237822Z",
          "iopub.execute_input": "2024-06-11T10:15:10.238322Z",
          "iopub.status.idle": "2024-06-11T10:15:10.739706Z",
          "shell.execute_reply.started": "2024-06-11T10:15:10.238268Z",
          "shell.execute_reply": "2024-06-11T10:15:10.738328Z"
        },
        "trusted": true,
        "gather": {
          "logged": 1718135822259
        }
      }
    },
    {
      "cell_type": "code",
      "source": [
        "!kaggle competitions submit -c playground-series-s4e6 -f submission.csv -m \"xgb preds without original dataset\""
      ],
      "outputs": [
        {
          "output_type": "stream",
          "name": "stdout",
          "text": "Warning: Your Kaggle API key is readable by other users on this system! To fix this, you can run 'chmod 600 /home/azureuser/.kaggle/kaggle.json'\n100%|████████████████████████████████████████| 759k/759k [00:00<00:00, 2.51MB/s]\nSuccessfully submitted to Classification with an Academic Success Dataset"
        }
      ],
      "execution_count": 17,
      "metadata": {
        "jupyter": {
          "source_hidden": false,
          "outputs_hidden": false
        },
        "nteract": {
          "transient": {
            "deleting": false
          }
        }
      }
    },
    {
      "cell_type": "markdown",
      "source": [
        "# Optuna"
      ],
      "metadata": {
        "nteract": {
          "transient": {
            "deleting": false
          }
        }
      }
    },
    {
      "cell_type": "code",
      "source": [
        "def objective_catboost(trial):\n",
        "    params = {\n",
        "        \"iterations\": 200,\n",
        "        \"learning_rate\": trial.suggest_float(\"learning_rate\", 0.01, 0.3, log=True),\n",
        "        \"depth\": trial.suggest_int(\"depth\", 1, 10),\n",
        "        \"random_strength\": trial.suggest_int(\"random_strength\", 1, 10),\n",
        "    }\n",
        "    cat_model = CatBoostClassifier(**params, silent=True)\n",
        "    cat_model.fit(X_train, y_train, eval_set=(X_test, y_test), verbose=False)\n",
        "    cat_predictions = cat_model.predict(X_test)\n",
        "    cat_accuracy = accuracy_score(y_test,cat_predictions)\n",
        "    return cat_accuracy\n",
        "\n",
        "study_catboost = optuna.create_study(direction='minimize')\n",
        "study_catboost.optimize(objective_catboost, n_trials=100)\n",
        "print(study_catboost.best_params)"
      ],
      "outputs": [
        {
          "output_type": "stream",
          "name": "stderr",
          "text": "[I 2024-06-12 20:13:06,917] A new study created in memory with name: no-name-12dfd30e-e715-4e6d-a333-0b381e147d8d\n[I 2024-06-12 20:13:11,531] Trial 0 finished with value: 0.8172253806443182 and parameters: {'learning_rate': 0.020485004274482965, 'depth': 6, 'random_strength': 8}. Best is trial 0 with value: 0.8172253806443182.\n[I 2024-06-12 20:13:23,242] Trial 1 finished with value: 0.8177481539567405 and parameters: {'learning_rate': 0.017908321530146706, 'depth': 8, 'random_strength': 10}. Best is trial 0 with value: 0.8172253806443182.\n[I 2024-06-12 20:13:26,635] Trial 2 finished with value: 0.8152649807227341 and parameters: {'learning_rate': 0.019022634218488852, 'depth': 3, 'random_strength': 5}. Best is trial 2 with value: 0.8152649807227341.\n[I 2024-06-12 20:13:41,444] Trial 3 finished with value: 0.8272887669084493 and parameters: {'learning_rate': 0.0351221304311505, 'depth': 9, 'random_strength': 2}. Best is trial 2 with value: 0.8152649807227341.\n[I 2024-06-12 20:13:44,976] Trial 4 finished with value: 0.8298372868065085 and parameters: {'learning_rate': 0.13341061733400364, 'depth': 4, 'random_strength': 6}. Best is trial 2 with value: 0.8152649807227341.\n[I 2024-06-12 20:13:47,857] Trial 5 finished with value: 0.8211461804874861 and parameters: {'learning_rate': 0.06898024536721437, 'depth': 2, 'random_strength': 10}. Best is trial 2 with value: 0.8152649807227341.\n[I 2024-06-12 20:13:53,208] Trial 6 finished with value: 0.8208847938312749 and parameters: {'learning_rate': 0.025761221804690308, 'depth': 7, 'random_strength': 9}. Best is trial 2 with value: 0.8152649807227341.\n[I 2024-06-12 20:14:13,141] Trial 7 finished with value: 0.8253283669868653 and parameters: {'learning_rate': 0.03501179172300268, 'depth': 10, 'random_strength': 8}. Best is trial 2 with value: 0.8152649807227341.\n[I 2024-06-12 20:14:33,106] Trial 8 finished with value: 0.8214075671436973 and parameters: {'learning_rate': 0.020962375392874273, 'depth': 10, 'random_strength': 7}. Best is trial 2 with value: 0.8152649807227341.\n[I 2024-06-12 20:14:36,712] Trial 9 finished with value: 0.8216689537999086 and parameters: {'learning_rate': 0.03426630889496881, 'depth': 4, 'random_strength': 4}. Best is trial 2 with value: 0.8152649807227341.\n[I 2024-06-12 20:14:39,349] Trial 10 finished with value: 0.770175782526302 and parameters: {'learning_rate': 0.011842316787783717, 'depth': 1, 'random_strength': 4}. Best is trial 10 with value: 0.770175782526302.\n[I 2024-06-12 20:14:42,010] Trial 11 finished with value: 0.7668431026596092 and parameters: {'learning_rate': 0.010571891191190006, 'depth': 1, 'random_strength': 4}. Best is trial 11 with value: 0.7668431026596092.\n[I 2024-06-12 20:14:44,543] Trial 12 finished with value: 0.7713520224792524 and parameters: {'learning_rate': 0.011491150599655048, 'depth': 1, 'random_strength': 3}. Best is trial 11 with value: 0.7668431026596092.\n[I 2024-06-12 20:14:47,137] Trial 13 finished with value: 0.7750114356662092 and parameters: {'learning_rate': 0.011013554930629058, 'depth': 1, 'random_strength': 1}. Best is trial 11 with value: 0.7668431026596092.\n[I 2024-06-12 20:14:50,342] Trial 14 finished with value: 0.8257204469711821 and parameters: {'learning_rate': 0.07445427984906633, 'depth': 3, 'random_strength': 4}. Best is trial 11 with value: 0.7668431026596092.\n[I 2024-06-12 20:14:52,891] Trial 15 finished with value: 0.8259818336273933 and parameters: {'learning_rate': 0.2569858953424168, 'depth': 1, 'random_strength': 5}. Best is trial 11 with value: 0.7668431026596092.\n[I 2024-06-12 20:14:57,128] Trial 16 finished with value: 0.8155917140429981 and parameters: {'learning_rate': 0.011760613095929365, 'depth': 5, 'random_strength': 3}. Best is trial 11 with value: 0.7668431026596092.\n[I 2024-06-12 20:15:00,155] Trial 17 finished with value: 0.8087956609815069 and parameters: {'learning_rate': 0.013993511888149585, 'depth': 2, 'random_strength': 1}. Best is trial 11 with value: 0.7668431026596092.\n[I 2024-06-12 20:15:03,655] Trial 18 finished with value: 0.8206887538391165 and parameters: {'learning_rate': 0.04978489717345346, 'depth': 3, 'random_strength': 6}. Best is trial 11 with value: 0.7668431026596092.\n[I 2024-06-12 20:15:07,176] Trial 19 finished with value: 0.8295105534862445 and parameters: {'learning_rate': 0.2605042535444279, 'depth': 2, 'random_strength': 3}. Best is trial 11 with value: 0.7668431026596092.\n[I 2024-06-12 20:15:11,202] Trial 20 finished with value: 0.8309481800954062 and parameters: {'learning_rate': 0.11814914298655808, 'depth': 5, 'random_strength': 4}. Best is trial 11 with value: 0.7668431026596092.\n[I 2024-06-12 20:15:13,852] Trial 21 finished with value: 0.7667124093315036 and parameters: {'learning_rate': 0.010017979249120505, 'depth': 1, 'random_strength': 3}. Best is trial 21 with value: 0.7667124093315036.\n[I 2024-06-12 20:15:16,380] Trial 22 finished with value: 0.7683460759328237 and parameters: {'learning_rate': 0.010362618044450204, 'depth': 1, 'random_strength': 3}. Best is trial 21 with value: 0.7667124093315036.\n[I 2024-06-12 20:15:19,448] Trial 23 finished with value: 0.8097105142782461 and parameters: {'learning_rate': 0.01471237136369812, 'depth': 2, 'random_strength': 2}. Best is trial 21 with value: 0.7667124093315036.\n[I 2024-06-12 20:15:22,127] Trial 24 finished with value: 0.7875579951643469 and parameters: {'learning_rate': 0.01610312541326971, 'depth': 1, 'random_strength': 2}. Best is trial 21 with value: 0.7667124093315036.\n[I 2024-06-12 20:15:25,970] Trial 25 finished with value: 0.8132392341370973 and parameters: {'learning_rate': 0.010455348214507477, 'depth': 4, 'random_strength': 3}. Best is trial 21 with value: 0.7667124093315036.\n[I 2024-06-12 20:15:29,382] Trial 26 finished with value: 0.818270927269163 and parameters: {'learning_rate': 0.027356190567326893, 'depth': 3, 'random_strength': 5}. Best is trial 21 with value: 0.7667124093315036.\n[I 2024-06-12 20:15:32,606] Trial 27 finished with value: 0.8026530745605437 and parameters: {'learning_rate': 0.010256304454614012, 'depth': 2, 'random_strength': 1}. Best is trial 21 with value: 0.7667124093315036.\n[I 2024-06-12 20:15:35,226] Trial 28 finished with value: 0.7803698621185389 and parameters: {'learning_rate': 0.014913999617688132, 'depth': 1, 'random_strength': 2}. Best is trial 21 with value: 0.7667124093315036.\n[I 2024-06-12 20:15:39,893] Trial 29 finished with value: 0.8187283539175325 and parameters: {'learning_rate': 0.021693876446329752, 'depth': 6, 'random_strength': 7}. Best is trial 21 with value: 0.7667124093315036.\n[I 2024-06-12 20:15:45,455] Trial 30 finished with value: 0.8231719270731229 and parameters: {'learning_rate': 0.024622199616248185, 'depth': 7, 'random_strength': 3}. Best is trial 21 with value: 0.7667124093315036.\n[I 2024-06-12 20:15:48,167] Trial 31 finished with value: 0.775076782330262 and parameters: {'learning_rate': 0.01370388043181159, 'depth': 1, 'random_strength': 4}. Best is trial 21 with value: 0.7667124093315036.\n[I 2024-06-12 20:15:51,223] Trial 32 finished with value: 0.8056590211069725 and parameters: {'learning_rate': 0.01284460891011485, 'depth': 2, 'random_strength': 4}. Best is trial 21 with value: 0.7667124093315036.\n[I 2024-06-12 20:15:53,862] Trial 33 finished with value: 0.789453048421878 and parameters: {'learning_rate': 0.01783066446851373, 'depth': 1, 'random_strength': 5}. Best is trial 21 with value: 0.7667124093315036.\n[I 2024-06-12 20:15:57,030] Trial 34 finished with value: 0.8014114879435404 and parameters: {'learning_rate': 0.01015179623683707, 'depth': 2, 'random_strength': 4}. Best is trial 21 with value: 0.7667124093315036.\n[I 2024-06-12 20:16:00,461] Trial 35 finished with value: 0.8146115140822061 and parameters: {'learning_rate': 0.016912892631041874, 'depth': 3, 'random_strength': 2}. Best is trial 21 with value: 0.7667124093315036.\n[I 2024-06-12 20:16:02,999] Trial 36 finished with value: 0.7890609684375612 and parameters: {'learning_rate': 0.01906053376258993, 'depth': 1, 'random_strength': 6}. Best is trial 21 with value: 0.7667124093315036.\n[I 2024-06-12 20:16:06,464] Trial 37 finished with value: 0.8116055675357773 and parameters: {'learning_rate': 0.012774185376403123, 'depth': 3, 'random_strength': 3}. Best is trial 21 with value: 0.7667124093315036.\n[I 2024-06-12 20:16:18,268] Trial 38 finished with value: 0.8257204469711821 and parameters: {'learning_rate': 0.05053739365962432, 'depth': 8, 'random_strength': 5}. Best is trial 21 with value: 0.7667124093315036.\n[I 2024-06-12 20:16:21,322] Trial 39 finished with value: 0.8171600339802653 and parameters: {'learning_rate': 0.03132037123477284, 'depth': 2, 'random_strength': 2}. Best is trial 21 with value: 0.7667124093315036.\n[I 2024-06-12 20:16:24,988] Trial 40 finished with value: 0.8181402339410573 and parameters: {'learning_rate': 0.02213025833848688, 'depth': 4, 'random_strength': 4}. Best is trial 21 with value: 0.7667124093315036.\n[I 2024-06-12 20:16:27,532] Trial 41 finished with value: 0.7722015291119388 and parameters: {'learning_rate': 0.012151619701944541, 'depth': 1, 'random_strength': 3}. Best is trial 21 with value: 0.7667124093315036.\n[I 2024-06-12 20:16:30,047] Trial 42 finished with value: 0.7667124093315036 and parameters: {'learning_rate': 0.010014984430582125, 'depth': 1, 'random_strength': 3}. Best is trial 21 with value: 0.7667124093315036.\n[I 2024-06-12 20:16:33,053] Trial 43 finished with value: 0.8104293275828269 and parameters: {'learning_rate': 0.016147956210383282, 'depth': 2, 'random_strength': 3}. Best is trial 21 with value: 0.7667124093315036.\n[I 2024-06-12 20:16:35,639] Trial 44 finished with value: 0.7702411291903548 and parameters: {'learning_rate': 0.012184399901563364, 'depth': 1, 'random_strength': 4}. Best is trial 21 with value: 0.7667124093315036.\n[I 2024-06-12 20:16:38,284] Trial 45 finished with value: 0.7625302228321245 and parameters: {'learning_rate': 0.010217985481973401, 'depth': 1, 'random_strength': 5}. Best is trial 45 with value: 0.7625302228321245.\n[I 2024-06-12 20:16:41,299] Trial 46 finished with value: 0.7999738613343789 and parameters: {'learning_rate': 0.010461005607202695, 'depth': 2, 'random_strength': 7}. Best is trial 45 with value: 0.7625302228321245.\n[I 2024-06-12 20:16:44,776] Trial 47 finished with value: 0.8206887538391165 and parameters: {'learning_rate': 0.04058822262579425, 'depth': 3, 'random_strength': 5}. Best is trial 45 with value: 0.7625302228321245.\n[I 2024-06-12 20:16:47,433] Trial 48 finished with value: 0.8241521270339149 and parameters: {'learning_rate': 0.17837393698004106, 'depth': 1, 'random_strength': 6}. Best is trial 45 with value: 0.7625302228321245.\n[I 2024-06-12 20:16:50,522] Trial 49 finished with value: 0.8101025942625629 and parameters: {'learning_rate': 0.014901795894674066, 'depth': 2, 'random_strength': 2}. Best is trial 45 with value: 0.7625302228321245.\n[I 2024-06-12 20:16:53,168] Trial 50 finished with value: 0.7923283016402013 and parameters: {'learning_rate': 0.019056183002349562, 'depth': 1, 'random_strength': 3}. Best is trial 45 with value: 0.7625302228321245.\n[I 2024-06-12 20:16:55,747] Trial 51 finished with value: 0.7695876625498268 and parameters: {'learning_rate': 0.011515867992766134, 'depth': 1, 'random_strength': 4}. Best is trial 45 with value: 0.7625302228321245.\n[I 2024-06-12 20:16:58,255] Trial 52 finished with value: 0.7615500228713324 and parameters: {'learning_rate': 0.010042355792291725, 'depth': 1, 'random_strength': 5}. Best is trial 52 with value: 0.7615500228713324.\n[I 2024-06-12 20:17:01,427] Trial 53 finished with value: 0.8012154479513821 and parameters: {'learning_rate': 0.010185252664821232, 'depth': 2, 'random_strength': 5}. Best is trial 52 with value: 0.7615500228713324.\n[I 2024-06-12 20:17:04,215] Trial 54 finished with value: 0.7717441024635693 and parameters: {'learning_rate': 0.013422860411419137, 'depth': 1, 'random_strength': 6}. Best is trial 52 with value: 0.7615500228713324.\n[I 2024-06-12 20:17:19,835] Trial 55 finished with value: 0.8308174867673005 and parameters: {'learning_rate': 0.0839376604830438, 'depth': 9, 'random_strength': 5}. Best is trial 52 with value: 0.7615500228713324.\n[I 2024-06-12 20:17:22,340] Trial 56 finished with value: 0.7591321963013788 and parameters: {'learning_rate': 0.011509434380214512, 'depth': 1, 'random_strength': 10}. Best is trial 56 with value: 0.7591321963013788.\n[I 2024-06-12 20:17:25,399] Trial 57 finished with value: 0.8008233679670653 and parameters: {'learning_rate': 0.011926232623888264, 'depth': 2, 'random_strength': 10}. Best is trial 56 with value: 0.7591321963013788.\n[I 2024-06-12 20:17:27,905] Trial 58 finished with value: 0.7721361824478861 and parameters: {'learning_rate': 0.014293505693834698, 'depth': 1, 'random_strength': 9}. Best is trial 56 with value: 0.7591321963013788.\n[I 2024-06-12 20:17:30,887] Trial 59 finished with value: 0.8072926877082925 and parameters: {'learning_rate': 0.016514573055996823, 'depth': 2, 'random_strength': 9}. Best is trial 56 with value: 0.7591321963013788.\n[I 2024-06-12 20:17:33,497] Trial 60 finished with value: 0.7612232895510684 and parameters: {'learning_rate': 0.01120986086673883, 'depth': 1, 'random_strength': 7}. Best is trial 56 with value: 0.7591321963013788.\n[I 2024-06-12 20:17:36,092] Trial 61 finished with value: 0.7604391295824349 and parameters: {'learning_rate': 0.011416378862648695, 'depth': 1, 'random_strength': 8}. Best is trial 56 with value: 0.7591321963013788.\n[I 2024-06-12 20:17:38,767] Trial 62 finished with value: 0.7609619028948572 and parameters: {'learning_rate': 0.01149957422381175, 'depth': 1, 'random_strength': 8}. Best is trial 56 with value: 0.7591321963013788.\n[I 2024-06-12 20:17:41,400] Trial 63 finished with value: 0.7612232895510684 and parameters: {'learning_rate': 0.011632945908259237, 'depth': 1, 'random_strength': 8}. Best is trial 56 with value: 0.7591321963013788.\n[I 2024-06-12 20:17:44,602] Trial 64 finished with value: 0.8035679278572829 and parameters: {'learning_rate': 0.012921580227008057, 'depth': 2, 'random_strength': 8}. Best is trial 56 with value: 0.7591321963013788.\n[I 2024-06-12 20:17:47,131] Trial 65 finished with value: 0.7617460628634908 and parameters: {'learning_rate': 0.0117015180571078, 'depth': 1, 'random_strength': 8}. Best is trial 56 with value: 0.7591321963013788.\n[I 2024-06-12 20:17:49,813] Trial 66 finished with value: 0.7765797556034765 and parameters: {'learning_rate': 0.015295353440181514, 'depth': 1, 'random_strength': 8}. Best is trial 56 with value: 0.7591321963013788.\n[I 2024-06-12 20:17:52,826] Trial 67 finished with value: 0.8005619813108541 and parameters: {'learning_rate': 0.011443401832611728, 'depth': 2, 'random_strength': 8}. Best is trial 56 with value: 0.7591321963013788.\n[I 2024-06-12 20:17:56,280] Trial 68 finished with value: 0.8078154610207149 and parameters: {'learning_rate': 0.013723674375380888, 'depth': 3, 'random_strength': 9}. Best is trial 56 with value: 0.7591321963013788.\n[I 2024-06-12 20:18:00,442] Trial 69 finished with value: 0.8181402339410573 and parameters: {'learning_rate': 0.020432317849675162, 'depth': 5, 'random_strength': 7}. Best is trial 56 with value: 0.7591321963013788.\n[I 2024-06-12 20:18:03,043] Trial 70 finished with value: 0.7814807554074364 and parameters: {'learning_rate': 0.01761836874462444, 'depth': 1, 'random_strength': 10}. Best is trial 56 with value: 0.7591321963013788.\n[I 2024-06-12 20:18:05,642] Trial 71 finished with value: 0.7605044762464876 and parameters: {'learning_rate': 0.011358661293898623, 'depth': 1, 'random_strength': 9}. Best is trial 56 with value: 0.7591321963013788.\n[I 2024-06-12 20:18:08,249] Trial 72 finished with value: 0.7663856760112396 and parameters: {'learning_rate': 0.012758882742696, 'depth': 1, 'random_strength': 9}. Best is trial 56 with value: 0.7591321963013788.\n[I 2024-06-12 20:18:10,845] Trial 73 finished with value: 0.7608965562308044 and parameters: {'learning_rate': 0.01149672848261392, 'depth': 1, 'random_strength': 8}. Best is trial 56 with value: 0.7591321963013788.\n[I 2024-06-12 20:18:13,981] Trial 74 finished with value: 0.8016728745997517 and parameters: {'learning_rate': 0.011073978201908117, 'depth': 2, 'random_strength': 7}. Best is trial 56 with value: 0.7591321963013788.\n[I 2024-06-12 20:18:16,586] Trial 75 finished with value: 0.7708945958308828 and parameters: {'learning_rate': 0.01407667670293182, 'depth': 1, 'random_strength': 9}. Best is trial 56 with value: 0.7591321963013788.\n[I 2024-06-12 20:18:19,714] Trial 76 finished with value: 0.8001699013265373 and parameters: {'learning_rate': 0.011305024284396357, 'depth': 2, 'random_strength': 9}. Best is trial 56 with value: 0.7591321963013788.\n[I 2024-06-12 20:18:22,242] Trial 77 finished with value: 0.7756649023067372 and parameters: {'learning_rate': 0.015528813260754667, 'depth': 1, 'random_strength': 8}. Best is trial 56 with value: 0.7591321963013788.\n[I 2024-06-12 20:18:27,651] Trial 78 finished with value: 0.8145461674181533 and parameters: {'learning_rate': 0.012956112164497132, 'depth': 7, 'random_strength': 10}. Best is trial 56 with value: 0.7591321963013788.\n[I 2024-06-12 20:18:30,638] Trial 79 finished with value: 0.8017382212638045 and parameters: {'learning_rate': 0.011092899731809608, 'depth': 2, 'random_strength': 7}. Best is trial 56 with value: 0.7591321963013788.\n[I 2024-06-12 20:18:33,183] Trial 80 finished with value: 0.7849441286022348 and parameters: {'learning_rate': 0.017978848189035158, 'depth': 1, 'random_strength': 8}. Best is trial 56 with value: 0.7591321963013788.\n[I 2024-06-12 20:18:35,770] Trial 81 finished with value: 0.7601777429262236 and parameters: {'learning_rate': 0.011379060252641076, 'depth': 1, 'random_strength': 8}. Best is trial 56 with value: 0.7591321963013788.\n[I 2024-06-12 20:18:38,342] Trial 82 finished with value: 0.7635104227929165 and parameters: {'learning_rate': 0.012138878051176886, 'depth': 1, 'random_strength': 8}. Best is trial 56 with value: 0.7591321963013788.\n[I 2024-06-12 20:18:40,803] Trial 83 finished with value: 0.7703064758544076 and parameters: {'learning_rate': 0.014235344641020277, 'depth': 1, 'random_strength': 10}. Best is trial 56 with value: 0.7591321963013788.\n[I 2024-06-12 20:18:43,362] Trial 84 finished with value: 0.760700516238646 and parameters: {'learning_rate': 0.011020610737170703, 'depth': 1, 'random_strength': 7}. Best is trial 56 with value: 0.7591321963013788.\n[I 2024-06-12 20:18:47,996] Trial 85 finished with value: 0.8142194340978893 and parameters: {'learning_rate': 0.012866471211579963, 'depth': 6, 'random_strength': 7}. Best is trial 56 with value: 0.7591321963013788.\n[I 2024-06-12 20:18:50,636] Trial 86 finished with value: 0.760700516238646 and parameters: {'learning_rate': 0.011028761913712347, 'depth': 1, 'random_strength': 7}. Best is trial 56 with value: 0.7591321963013788.\n[I 2024-06-12 20:18:53,656] Trial 87 finished with value: 0.8207541005031693 and parameters: {'learning_rate': 0.0606556422417494, 'depth': 2, 'random_strength': 7}. Best is trial 56 with value: 0.7591321963013788.\n[I 2024-06-12 20:18:56,193] Trial 88 finished with value: 0.7774946089002156 and parameters: {'learning_rate': 0.016130143574076623, 'depth': 1, 'random_strength': 9}. Best is trial 56 with value: 0.7591321963013788.\n[I 2024-06-12 20:18:59,280] Trial 89 finished with value: 0.8130431941449389 and parameters: {'learning_rate': 0.02394031184303242, 'depth': 2, 'random_strength': 8}. Best is trial 56 with value: 0.7591321963013788.\n[I 2024-06-12 20:19:01,815] Trial 90 finished with value: 0.760047049598118 and parameters: {'learning_rate': 0.010942348726757605, 'depth': 1, 'random_strength': 7}. Best is trial 56 with value: 0.7591321963013788.\n[I 2024-06-12 20:19:04,326] Trial 91 finished with value: 0.7599817029340652 and parameters: {'learning_rate': 0.010890751610047423, 'depth': 1, 'random_strength': 7}. Best is trial 56 with value: 0.7591321963013788.\n[I 2024-06-12 20:19:06,972] Trial 92 finished with value: 0.7669737959877149 and parameters: {'learning_rate': 0.012539758874416952, 'depth': 1, 'random_strength': 7}. Best is trial 56 with value: 0.7591321963013788.\n[I 2024-06-12 20:19:09,545] Trial 93 finished with value: 0.7622688361759132 and parameters: {'learning_rate': 0.010792203463030593, 'depth': 1, 'random_strength': 6}. Best is trial 56 with value: 0.7591321963013788.\n[I 2024-06-12 20:19:12,616] Trial 94 finished with value: 0.7696530092138796 and parameters: {'learning_rate': 0.013689756024859832, 'depth': 1, 'random_strength': 8}. Best is trial 56 with value: 0.7591321963013788.\n[I 2024-06-12 20:19:15,850] Trial 95 finished with value: 0.8003659413186957 and parameters: {'learning_rate': 0.010882719614627829, 'depth': 2, 'random_strength': 8}. Best is trial 56 with value: 0.7591321963013788.\n[I 2024-06-12 20:19:18,370] Trial 96 finished with value: 0.7765144089394237 and parameters: {'learning_rate': 0.015296075516780585, 'depth': 1, 'random_strength': 7}. Best is trial 56 with value: 0.7591321963013788.\n[I 2024-06-12 20:19:20,978] Trial 97 finished with value: 0.8233026204012285 and parameters: {'learning_rate': 0.20196517069170977, 'depth': 1, 'random_strength': 6}. Best is trial 56 with value: 0.7591321963013788.\n[I 2024-06-12 20:19:24,032] Trial 98 finished with value: 0.8011501012873293 and parameters: {'learning_rate': 0.012068341514781152, 'depth': 2, 'random_strength': 9}. Best is trial 56 with value: 0.7591321963013788.\n[I 2024-06-12 20:19:26,555] Trial 99 finished with value: 0.7715480624714108 and parameters: {'learning_rate': 0.013618596983776298, 'depth': 1, 'random_strength': 7}. Best is trial 56 with value: 0.7591321963013788.\n"
        },
        {
          "output_type": "stream",
          "name": "stdout",
          "text": "{'learning_rate': 0.011509434380214512, 'depth': 1, 'random_strength': 10}\n"
        }
      ],
      "execution_count": 17,
      "metadata": {
        "jupyter": {
          "source_hidden": false,
          "outputs_hidden": true
        },
        "nteract": {
          "transient": {
            "deleting": false
          }
        },
        "gather": {
          "logged": 1718223566276
        }
      }
    },
    {
      "cell_type": "code",
      "source": [
        "print(study_catboost.best_params)"
      ],
      "outputs": [
        {
          "output_type": "stream",
          "name": "stdout",
          "text": "{'learning_rate': 0.011509434380214512, 'depth': 1, 'random_strength': 10}\n"
        }
      ],
      "execution_count": 18,
      "metadata": {
        "jupyter": {
          "source_hidden": false,
          "outputs_hidden": false
        },
        "nteract": {
          "transient": {
            "deleting": false
          }
        },
        "gather": {
          "logged": 1718223567048
        }
      }
    },
    {
      "cell_type": "code",
      "source": [
        "%%time\n",
        "\n",
        "def objective_lgbm(trial):\n",
        "    params = {\n",
        "            'num_leaves': trial.suggest_int('num_leaves', 100, 500),\n",
        "            'learning_rate': trial.suggest_float('learning_rate', 0.01, 1.0, log=True),\n",
        "            'n_estimators': trial.suggest_int('n_estimators', 300, 1200),\n",
        "            'subsample_for_bin': trial.suggest_int('subsample_for_bin', 20000, 300000),\n",
        "            'min_child_samples': trial.suggest_int('min_child_samples', 20, 500),\n",
        "            'reg_alpha': trial.suggest_float('reg_alpha', 1e-9, 10.0, log=True),\n",
        "            'reg_lambda': trial.suggest_float('reg_lambda', 1e-9, 10.0, log=True),\n",
        "            'colsample_bytree': trial.suggest_float('colsample_bytree', 0.4, 1.0),\n",
        "            'subsample': trial.suggest_float('subsample', 0.25, 1.0),\n",
        "            'max_depth': trial.suggest_int('max_depth', 1, 15)\n",
        "            }\n",
        "\n",
        "    lgb_model = lgb.LGBMClassifier(**params,verbose=False)\n",
        "    lgb_model.fit(X_train, y_train)\n",
        "    lgb_predictions = lgb_model.predict(X_test)\n",
        "    lgb_accuracy = accuracy_score(y_test,lgb_predictions)\n",
        "    return lgb_accuracy\n",
        "\n",
        "\n",
        "study_lgbm = optuna.create_study(direction='minimize')\n",
        "study_lgbm.optimize(objective_lgbm, n_trials=100)\n",
        "print(study_lgbm.best_params)"
      ],
      "outputs": [
        {
          "output_type": "stream",
          "name": "stderr",
          "text": "[I 2024-06-12 20:22:46,266] A new study created in memory with name: no-name-397048e9-1d0a-456b-9894-875926c30577\n[LightGBM] [Fatal] Parameter verbosity should be of type int, got \"False\"\n[W 2024-06-12 20:22:46,288] Trial 0 failed with parameters: {'num_leaves': 238, 'learning_rate': 0.6663005203433919, 'n_estimators': 509, 'subsample_for_bin': 87104, 'min_child_samples': 336, 'reg_alpha': 6.025291954240299e-09, 'reg_lambda': 4.549618576432364e-06, 'colsample_bytree': 0.6903505950645896, 'subsample': 0.8982925661067045, 'max_depth': 2} because of the following error: LightGBMError('Parameter verbosity should be of type int, got \"False\"').\nTraceback (most recent call last):\n  File \"/anaconda/envs/azureml_py38_PT_TF/lib/python3.8/site-packages/optuna/study/_optimize.py\", line 196, in _run_trial\n    value_or_values = func(trial)\n  File \"<timed exec>\", line 16, in objective_lgbm\n  File \"/anaconda/envs/azureml_py38_PT_TF/lib/python3.8/site-packages/lightgbm/sklearn.py\", line 967, in fit\n    super().fit(X, _y, sample_weight=sample_weight, init_score=init_score, eval_set=valid_sets,\n  File \"/anaconda/envs/azureml_py38_PT_TF/lib/python3.8/site-packages/lightgbm/sklearn.py\", line 748, in fit\n    self._Booster = train(\n  File \"/anaconda/envs/azureml_py38_PT_TF/lib/python3.8/site-packages/lightgbm/engine.py\", line 271, in train\n    booster = Booster(params=params, train_set=train_set)\n  File \"/anaconda/envs/azureml_py38_PT_TF/lib/python3.8/site-packages/lightgbm/basic.py\", line 2605, in __init__\n    train_set.construct()\n  File \"/anaconda/envs/azureml_py38_PT_TF/lib/python3.8/site-packages/lightgbm/basic.py\", line 1815, in construct\n    self._lazy_init(self.data, label=self.label,\n  File \"/anaconda/envs/azureml_py38_PT_TF/lib/python3.8/site-packages/lightgbm/basic.py\", line 1538, in _lazy_init\n    self.__init_from_np2d(data, params_str, ref_dataset)\n  File \"/anaconda/envs/azureml_py38_PT_TF/lib/python3.8/site-packages/lightgbm/basic.py\", line 1659, in __init_from_np2d\n    _safe_call(_LIB.LGBM_DatasetCreateFromMat(\n  File \"/anaconda/envs/azureml_py38_PT_TF/lib/python3.8/site-packages/lightgbm/basic.py\", line 125, in _safe_call\n    raise LightGBMError(_LIB.LGBM_GetLastError().decode('utf-8'))\nlightgbm.basic.LightGBMError: Parameter verbosity should be of type int, got \"False\"\n[W 2024-06-12 20:22:46,290] Trial 0 failed with value None.\n"
        },
        {
          "output_type": "error",
          "ename": "LightGBMError",
          "evalue": "Parameter verbosity should be of type int, got \"False\"",
          "traceback": [
            "\u001b[0;31m---------------------------------------------------------------------------\u001b[0m",
            "\u001b[0;31mLightGBMError\u001b[0m                             Traceback (most recent call last)",
            "File \u001b[0;32m<timed exec>:23\u001b[0m\n",
            "File \u001b[0;32m/anaconda/envs/azureml_py38_PT_TF/lib/python3.8/site-packages/optuna/study/study.py:451\u001b[0m, in \u001b[0;36mStudy.optimize\u001b[0;34m(self, func, n_trials, timeout, n_jobs, catch, callbacks, gc_after_trial, show_progress_bar)\u001b[0m\n\u001b[1;32m    348\u001b[0m \u001b[38;5;28;01mdef\u001b[39;00m \u001b[38;5;21moptimize\u001b[39m(\n\u001b[1;32m    349\u001b[0m     \u001b[38;5;28mself\u001b[39m,\n\u001b[1;32m    350\u001b[0m     func: ObjectiveFuncType,\n\u001b[0;32m   (...)\u001b[0m\n\u001b[1;32m    357\u001b[0m     show_progress_bar: \u001b[38;5;28mbool\u001b[39m \u001b[38;5;241m=\u001b[39m \u001b[38;5;28;01mFalse\u001b[39;00m,\n\u001b[1;32m    358\u001b[0m ) \u001b[38;5;241m-\u001b[39m\u001b[38;5;241m>\u001b[39m \u001b[38;5;28;01mNone\u001b[39;00m:\n\u001b[1;32m    359\u001b[0m \u001b[38;5;250m    \u001b[39m\u001b[38;5;124;03m\"\"\"Optimize an objective function.\u001b[39;00m\n\u001b[1;32m    360\u001b[0m \n\u001b[1;32m    361\u001b[0m \u001b[38;5;124;03m    Optimization is done by choosing a suitable set of hyperparameter values from a given\u001b[39;00m\n\u001b[0;32m   (...)\u001b[0m\n\u001b[1;32m    449\u001b[0m \u001b[38;5;124;03m            If nested invocation of this method occurs.\u001b[39;00m\n\u001b[1;32m    450\u001b[0m \u001b[38;5;124;03m    \"\"\"\u001b[39;00m\n\u001b[0;32m--> 451\u001b[0m     \u001b[43m_optimize\u001b[49m\u001b[43m(\u001b[49m\n\u001b[1;32m    452\u001b[0m \u001b[43m        \u001b[49m\u001b[43mstudy\u001b[49m\u001b[38;5;241;43m=\u001b[39;49m\u001b[38;5;28;43mself\u001b[39;49m\u001b[43m,\u001b[49m\n\u001b[1;32m    453\u001b[0m \u001b[43m        \u001b[49m\u001b[43mfunc\u001b[49m\u001b[38;5;241;43m=\u001b[39;49m\u001b[43mfunc\u001b[49m\u001b[43m,\u001b[49m\n\u001b[1;32m    454\u001b[0m \u001b[43m        \u001b[49m\u001b[43mn_trials\u001b[49m\u001b[38;5;241;43m=\u001b[39;49m\u001b[43mn_trials\u001b[49m\u001b[43m,\u001b[49m\n\u001b[1;32m    455\u001b[0m \u001b[43m        \u001b[49m\u001b[43mtimeout\u001b[49m\u001b[38;5;241;43m=\u001b[39;49m\u001b[43mtimeout\u001b[49m\u001b[43m,\u001b[49m\n\u001b[1;32m    456\u001b[0m \u001b[43m        \u001b[49m\u001b[43mn_jobs\u001b[49m\u001b[38;5;241;43m=\u001b[39;49m\u001b[43mn_jobs\u001b[49m\u001b[43m,\u001b[49m\n\u001b[1;32m    457\u001b[0m \u001b[43m        \u001b[49m\u001b[43mcatch\u001b[49m\u001b[38;5;241;43m=\u001b[39;49m\u001b[38;5;28;43mtuple\u001b[39;49m\u001b[43m(\u001b[49m\u001b[43mcatch\u001b[49m\u001b[43m)\u001b[49m\u001b[43m \u001b[49m\u001b[38;5;28;43;01mif\u001b[39;49;00m\u001b[43m \u001b[49m\u001b[38;5;28;43misinstance\u001b[39;49m\u001b[43m(\u001b[49m\u001b[43mcatch\u001b[49m\u001b[43m,\u001b[49m\u001b[43m \u001b[49m\u001b[43mIterable\u001b[49m\u001b[43m)\u001b[49m\u001b[43m \u001b[49m\u001b[38;5;28;43;01melse\u001b[39;49;00m\u001b[43m \u001b[49m\u001b[43m(\u001b[49m\u001b[43mcatch\u001b[49m\u001b[43m,\u001b[49m\u001b[43m)\u001b[49m\u001b[43m,\u001b[49m\n\u001b[1;32m    458\u001b[0m \u001b[43m        \u001b[49m\u001b[43mcallbacks\u001b[49m\u001b[38;5;241;43m=\u001b[39;49m\u001b[43mcallbacks\u001b[49m\u001b[43m,\u001b[49m\n\u001b[1;32m    459\u001b[0m \u001b[43m        \u001b[49m\u001b[43mgc_after_trial\u001b[49m\u001b[38;5;241;43m=\u001b[39;49m\u001b[43mgc_after_trial\u001b[49m\u001b[43m,\u001b[49m\n\u001b[1;32m    460\u001b[0m \u001b[43m        \u001b[49m\u001b[43mshow_progress_bar\u001b[49m\u001b[38;5;241;43m=\u001b[39;49m\u001b[43mshow_progress_bar\u001b[49m\u001b[43m,\u001b[49m\n\u001b[1;32m    461\u001b[0m \u001b[43m    \u001b[49m\u001b[43m)\u001b[49m\n",
            "File \u001b[0;32m/anaconda/envs/azureml_py38_PT_TF/lib/python3.8/site-packages/optuna/study/_optimize.py:62\u001b[0m, in \u001b[0;36m_optimize\u001b[0;34m(study, func, n_trials, timeout, n_jobs, catch, callbacks, gc_after_trial, show_progress_bar)\u001b[0m\n\u001b[1;32m     60\u001b[0m \u001b[38;5;28;01mtry\u001b[39;00m:\n\u001b[1;32m     61\u001b[0m     \u001b[38;5;28;01mif\u001b[39;00m n_jobs \u001b[38;5;241m==\u001b[39m \u001b[38;5;241m1\u001b[39m:\n\u001b[0;32m---> 62\u001b[0m         \u001b[43m_optimize_sequential\u001b[49m\u001b[43m(\u001b[49m\n\u001b[1;32m     63\u001b[0m \u001b[43m            \u001b[49m\u001b[43mstudy\u001b[49m\u001b[43m,\u001b[49m\n\u001b[1;32m     64\u001b[0m \u001b[43m            \u001b[49m\u001b[43mfunc\u001b[49m\u001b[43m,\u001b[49m\n\u001b[1;32m     65\u001b[0m \u001b[43m            \u001b[49m\u001b[43mn_trials\u001b[49m\u001b[43m,\u001b[49m\n\u001b[1;32m     66\u001b[0m \u001b[43m            \u001b[49m\u001b[43mtimeout\u001b[49m\u001b[43m,\u001b[49m\n\u001b[1;32m     67\u001b[0m \u001b[43m            \u001b[49m\u001b[43mcatch\u001b[49m\u001b[43m,\u001b[49m\n\u001b[1;32m     68\u001b[0m \u001b[43m            \u001b[49m\u001b[43mcallbacks\u001b[49m\u001b[43m,\u001b[49m\n\u001b[1;32m     69\u001b[0m \u001b[43m            \u001b[49m\u001b[43mgc_after_trial\u001b[49m\u001b[43m,\u001b[49m\n\u001b[1;32m     70\u001b[0m \u001b[43m            \u001b[49m\u001b[43mreseed_sampler_rng\u001b[49m\u001b[38;5;241;43m=\u001b[39;49m\u001b[38;5;28;43;01mFalse\u001b[39;49;00m\u001b[43m,\u001b[49m\n\u001b[1;32m     71\u001b[0m \u001b[43m            \u001b[49m\u001b[43mtime_start\u001b[49m\u001b[38;5;241;43m=\u001b[39;49m\u001b[38;5;28;43;01mNone\u001b[39;49;00m\u001b[43m,\u001b[49m\n\u001b[1;32m     72\u001b[0m \u001b[43m            \u001b[49m\u001b[43mprogress_bar\u001b[49m\u001b[38;5;241;43m=\u001b[39;49m\u001b[43mprogress_bar\u001b[49m\u001b[43m,\u001b[49m\n\u001b[1;32m     73\u001b[0m \u001b[43m        \u001b[49m\u001b[43m)\u001b[49m\n\u001b[1;32m     74\u001b[0m     \u001b[38;5;28;01melse\u001b[39;00m:\n\u001b[1;32m     75\u001b[0m         \u001b[38;5;28;01mif\u001b[39;00m n_jobs \u001b[38;5;241m==\u001b[39m \u001b[38;5;241m-\u001b[39m\u001b[38;5;241m1\u001b[39m:\n",
            "File \u001b[0;32m/anaconda/envs/azureml_py38_PT_TF/lib/python3.8/site-packages/optuna/study/_optimize.py:159\u001b[0m, in \u001b[0;36m_optimize_sequential\u001b[0;34m(study, func, n_trials, timeout, catch, callbacks, gc_after_trial, reseed_sampler_rng, time_start, progress_bar)\u001b[0m\n\u001b[1;32m    156\u001b[0m         \u001b[38;5;28;01mbreak\u001b[39;00m\n\u001b[1;32m    158\u001b[0m \u001b[38;5;28;01mtry\u001b[39;00m:\n\u001b[0;32m--> 159\u001b[0m     frozen_trial \u001b[38;5;241m=\u001b[39m \u001b[43m_run_trial\u001b[49m\u001b[43m(\u001b[49m\u001b[43mstudy\u001b[49m\u001b[43m,\u001b[49m\u001b[43m \u001b[49m\u001b[43mfunc\u001b[49m\u001b[43m,\u001b[49m\u001b[43m \u001b[49m\u001b[43mcatch\u001b[49m\u001b[43m)\u001b[49m\n\u001b[1;32m    160\u001b[0m \u001b[38;5;28;01mfinally\u001b[39;00m:\n\u001b[1;32m    161\u001b[0m     \u001b[38;5;66;03m# The following line mitigates memory problems that can be occurred in some\u001b[39;00m\n\u001b[1;32m    162\u001b[0m     \u001b[38;5;66;03m# environments (e.g., services that use computing containers such as GitHub Actions).\u001b[39;00m\n\u001b[1;32m    163\u001b[0m     \u001b[38;5;66;03m# Please refer to the following PR for further details:\u001b[39;00m\n\u001b[1;32m    164\u001b[0m     \u001b[38;5;66;03m# https://github.com/optuna/optuna/pull/325.\u001b[39;00m\n\u001b[1;32m    165\u001b[0m     \u001b[38;5;28;01mif\u001b[39;00m gc_after_trial:\n",
            "File \u001b[0;32m/anaconda/envs/azureml_py38_PT_TF/lib/python3.8/site-packages/optuna/study/_optimize.py:247\u001b[0m, in \u001b[0;36m_run_trial\u001b[0;34m(study, func, catch)\u001b[0m\n\u001b[1;32m    240\u001b[0m         \u001b[38;5;28;01massert\u001b[39;00m \u001b[38;5;28;01mFalse\u001b[39;00m, \u001b[38;5;124m\"\u001b[39m\u001b[38;5;124mShould not reach.\u001b[39m\u001b[38;5;124m\"\u001b[39m\n\u001b[1;32m    242\u001b[0m \u001b[38;5;28;01mif\u001b[39;00m (\n\u001b[1;32m    243\u001b[0m     frozen_trial\u001b[38;5;241m.\u001b[39mstate \u001b[38;5;241m==\u001b[39m TrialState\u001b[38;5;241m.\u001b[39mFAIL\n\u001b[1;32m    244\u001b[0m     \u001b[38;5;129;01mand\u001b[39;00m func_err \u001b[38;5;129;01mis\u001b[39;00m \u001b[38;5;129;01mnot\u001b[39;00m \u001b[38;5;28;01mNone\u001b[39;00m\n\u001b[1;32m    245\u001b[0m     \u001b[38;5;129;01mand\u001b[39;00m \u001b[38;5;129;01mnot\u001b[39;00m \u001b[38;5;28misinstance\u001b[39m(func_err, catch)\n\u001b[1;32m    246\u001b[0m ):\n\u001b[0;32m--> 247\u001b[0m     \u001b[38;5;28;01mraise\u001b[39;00m func_err\n\u001b[1;32m    248\u001b[0m \u001b[38;5;28;01mreturn\u001b[39;00m frozen_trial\n",
            "File \u001b[0;32m/anaconda/envs/azureml_py38_PT_TF/lib/python3.8/site-packages/optuna/study/_optimize.py:196\u001b[0m, in \u001b[0;36m_run_trial\u001b[0;34m(study, func, catch)\u001b[0m\n\u001b[1;32m    194\u001b[0m \u001b[38;5;28;01mwith\u001b[39;00m get_heartbeat_thread(trial\u001b[38;5;241m.\u001b[39m_trial_id, study\u001b[38;5;241m.\u001b[39m_storage):\n\u001b[1;32m    195\u001b[0m     \u001b[38;5;28;01mtry\u001b[39;00m:\n\u001b[0;32m--> 196\u001b[0m         value_or_values \u001b[38;5;241m=\u001b[39m \u001b[43mfunc\u001b[49m\u001b[43m(\u001b[49m\u001b[43mtrial\u001b[49m\u001b[43m)\u001b[49m\n\u001b[1;32m    197\u001b[0m     \u001b[38;5;28;01mexcept\u001b[39;00m exceptions\u001b[38;5;241m.\u001b[39mTrialPruned \u001b[38;5;28;01mas\u001b[39;00m e:\n\u001b[1;32m    198\u001b[0m         \u001b[38;5;66;03m# TODO(mamu): Handle multi-objective cases.\u001b[39;00m\n\u001b[1;32m    199\u001b[0m         state \u001b[38;5;241m=\u001b[39m TrialState\u001b[38;5;241m.\u001b[39mPRUNED\n",
            "File \u001b[0;32m<timed exec>:16\u001b[0m, in \u001b[0;36mobjective_lgbm\u001b[0;34m(trial)\u001b[0m\n",
            "File \u001b[0;32m/anaconda/envs/azureml_py38_PT_TF/lib/python3.8/site-packages/lightgbm/sklearn.py:967\u001b[0m, in \u001b[0;36mLGBMClassifier.fit\u001b[0;34m(self, X, y, sample_weight, init_score, eval_set, eval_names, eval_sample_weight, eval_class_weight, eval_init_score, eval_metric, early_stopping_rounds, verbose, feature_name, categorical_feature, callbacks, init_model)\u001b[0m\n\u001b[1;32m    964\u001b[0m         \u001b[38;5;28;01melse\u001b[39;00m:\n\u001b[1;32m    965\u001b[0m             valid_sets[i] \u001b[38;5;241m=\u001b[39m (valid_x, \u001b[38;5;28mself\u001b[39m\u001b[38;5;241m.\u001b[39m_le\u001b[38;5;241m.\u001b[39mtransform(valid_y))\n\u001b[0;32m--> 967\u001b[0m \u001b[38;5;28;43msuper\u001b[39;49m\u001b[43m(\u001b[49m\u001b[43m)\u001b[49m\u001b[38;5;241;43m.\u001b[39;49m\u001b[43mfit\u001b[49m\u001b[43m(\u001b[49m\u001b[43mX\u001b[49m\u001b[43m,\u001b[49m\u001b[43m \u001b[49m\u001b[43m_y\u001b[49m\u001b[43m,\u001b[49m\u001b[43m \u001b[49m\u001b[43msample_weight\u001b[49m\u001b[38;5;241;43m=\u001b[39;49m\u001b[43msample_weight\u001b[49m\u001b[43m,\u001b[49m\u001b[43m \u001b[49m\u001b[43minit_score\u001b[49m\u001b[38;5;241;43m=\u001b[39;49m\u001b[43minit_score\u001b[49m\u001b[43m,\u001b[49m\u001b[43m \u001b[49m\u001b[43meval_set\u001b[49m\u001b[38;5;241;43m=\u001b[39;49m\u001b[43mvalid_sets\u001b[49m\u001b[43m,\u001b[49m\n\u001b[1;32m    968\u001b[0m \u001b[43m            \u001b[49m\u001b[43meval_names\u001b[49m\u001b[38;5;241;43m=\u001b[39;49m\u001b[43meval_names\u001b[49m\u001b[43m,\u001b[49m\u001b[43m \u001b[49m\u001b[43meval_sample_weight\u001b[49m\u001b[38;5;241;43m=\u001b[39;49m\u001b[43meval_sample_weight\u001b[49m\u001b[43m,\u001b[49m\n\u001b[1;32m    969\u001b[0m \u001b[43m            \u001b[49m\u001b[43meval_class_weight\u001b[49m\u001b[38;5;241;43m=\u001b[39;49m\u001b[43meval_class_weight\u001b[49m\u001b[43m,\u001b[49m\u001b[43m \u001b[49m\u001b[43meval_init_score\u001b[49m\u001b[38;5;241;43m=\u001b[39;49m\u001b[43meval_init_score\u001b[49m\u001b[43m,\u001b[49m\n\u001b[1;32m    970\u001b[0m \u001b[43m            \u001b[49m\u001b[43meval_metric\u001b[49m\u001b[38;5;241;43m=\u001b[39;49m\u001b[43meval_metric\u001b[49m\u001b[43m,\u001b[49m\u001b[43m \u001b[49m\u001b[43mearly_stopping_rounds\u001b[49m\u001b[38;5;241;43m=\u001b[39;49m\u001b[43mearly_stopping_rounds\u001b[49m\u001b[43m,\u001b[49m\n\u001b[1;32m    971\u001b[0m \u001b[43m            \u001b[49m\u001b[43mverbose\u001b[49m\u001b[38;5;241;43m=\u001b[39;49m\u001b[43mverbose\u001b[49m\u001b[43m,\u001b[49m\u001b[43m \u001b[49m\u001b[43mfeature_name\u001b[49m\u001b[38;5;241;43m=\u001b[39;49m\u001b[43mfeature_name\u001b[49m\u001b[43m,\u001b[49m\u001b[43m \u001b[49m\u001b[43mcategorical_feature\u001b[49m\u001b[38;5;241;43m=\u001b[39;49m\u001b[43mcategorical_feature\u001b[49m\u001b[43m,\u001b[49m\n\u001b[1;32m    972\u001b[0m \u001b[43m            \u001b[49m\u001b[43mcallbacks\u001b[49m\u001b[38;5;241;43m=\u001b[39;49m\u001b[43mcallbacks\u001b[49m\u001b[43m,\u001b[49m\u001b[43m \u001b[49m\u001b[43minit_model\u001b[49m\u001b[38;5;241;43m=\u001b[39;49m\u001b[43minit_model\u001b[49m\u001b[43m)\u001b[49m\n\u001b[1;32m    973\u001b[0m \u001b[38;5;28;01mreturn\u001b[39;00m \u001b[38;5;28mself\u001b[39m\n",
            "File \u001b[0;32m/anaconda/envs/azureml_py38_PT_TF/lib/python3.8/site-packages/lightgbm/sklearn.py:748\u001b[0m, in \u001b[0;36mLGBMModel.fit\u001b[0;34m(self, X, y, sample_weight, init_score, group, eval_set, eval_names, eval_sample_weight, eval_class_weight, eval_init_score, eval_group, eval_metric, early_stopping_rounds, verbose, feature_name, categorical_feature, callbacks, init_model)\u001b[0m\n\u001b[1;32m    745\u001b[0m evals_result \u001b[38;5;241m=\u001b[39m {}\n\u001b[1;32m    746\u001b[0m callbacks\u001b[38;5;241m.\u001b[39mappend(record_evaluation(evals_result))\n\u001b[0;32m--> 748\u001b[0m \u001b[38;5;28mself\u001b[39m\u001b[38;5;241m.\u001b[39m_Booster \u001b[38;5;241m=\u001b[39m \u001b[43mtrain\u001b[49m\u001b[43m(\u001b[49m\n\u001b[1;32m    749\u001b[0m \u001b[43m    \u001b[49m\u001b[43mparams\u001b[49m\u001b[38;5;241;43m=\u001b[39;49m\u001b[43mparams\u001b[49m\u001b[43m,\u001b[49m\n\u001b[1;32m    750\u001b[0m \u001b[43m    \u001b[49m\u001b[43mtrain_set\u001b[49m\u001b[38;5;241;43m=\u001b[39;49m\u001b[43mtrain_set\u001b[49m\u001b[43m,\u001b[49m\n\u001b[1;32m    751\u001b[0m \u001b[43m    \u001b[49m\u001b[43mnum_boost_round\u001b[49m\u001b[38;5;241;43m=\u001b[39;49m\u001b[38;5;28;43mself\u001b[39;49m\u001b[38;5;241;43m.\u001b[39;49m\u001b[43mn_estimators\u001b[49m\u001b[43m,\u001b[49m\n\u001b[1;32m    752\u001b[0m \u001b[43m    \u001b[49m\u001b[43mvalid_sets\u001b[49m\u001b[38;5;241;43m=\u001b[39;49m\u001b[43mvalid_sets\u001b[49m\u001b[43m,\u001b[49m\n\u001b[1;32m    753\u001b[0m \u001b[43m    \u001b[49m\u001b[43mvalid_names\u001b[49m\u001b[38;5;241;43m=\u001b[39;49m\u001b[43meval_names\u001b[49m\u001b[43m,\u001b[49m\n\u001b[1;32m    754\u001b[0m \u001b[43m    \u001b[49m\u001b[43mfobj\u001b[49m\u001b[38;5;241;43m=\u001b[39;49m\u001b[38;5;28;43mself\u001b[39;49m\u001b[38;5;241;43m.\u001b[39;49m\u001b[43m_fobj\u001b[49m\u001b[43m,\u001b[49m\n\u001b[1;32m    755\u001b[0m \u001b[43m    \u001b[49m\u001b[43mfeval\u001b[49m\u001b[38;5;241;43m=\u001b[39;49m\u001b[43meval_metrics_callable\u001b[49m\u001b[43m,\u001b[49m\n\u001b[1;32m    756\u001b[0m \u001b[43m    \u001b[49m\u001b[43minit_model\u001b[49m\u001b[38;5;241;43m=\u001b[39;49m\u001b[43minit_model\u001b[49m\u001b[43m,\u001b[49m\n\u001b[1;32m    757\u001b[0m \u001b[43m    \u001b[49m\u001b[43mfeature_name\u001b[49m\u001b[38;5;241;43m=\u001b[39;49m\u001b[43mfeature_name\u001b[49m\u001b[43m,\u001b[49m\n\u001b[1;32m    758\u001b[0m \u001b[43m    \u001b[49m\u001b[43mcallbacks\u001b[49m\u001b[38;5;241;43m=\u001b[39;49m\u001b[43mcallbacks\u001b[49m\n\u001b[1;32m    759\u001b[0m \u001b[43m\u001b[49m\u001b[43m)\u001b[49m\n\u001b[1;32m    761\u001b[0m \u001b[38;5;28;01mif\u001b[39;00m evals_result:\n\u001b[1;32m    762\u001b[0m     \u001b[38;5;28mself\u001b[39m\u001b[38;5;241m.\u001b[39m_evals_result \u001b[38;5;241m=\u001b[39m evals_result\n",
            "File \u001b[0;32m/anaconda/envs/azureml_py38_PT_TF/lib/python3.8/site-packages/lightgbm/engine.py:271\u001b[0m, in \u001b[0;36mtrain\u001b[0;34m(params, train_set, num_boost_round, valid_sets, valid_names, fobj, feval, init_model, feature_name, categorical_feature, early_stopping_rounds, evals_result, verbose_eval, learning_rates, keep_training_booster, callbacks)\u001b[0m\n\u001b[1;32m    269\u001b[0m \u001b[38;5;66;03m# construct booster\u001b[39;00m\n\u001b[1;32m    270\u001b[0m \u001b[38;5;28;01mtry\u001b[39;00m:\n\u001b[0;32m--> 271\u001b[0m     booster \u001b[38;5;241m=\u001b[39m \u001b[43mBooster\u001b[49m\u001b[43m(\u001b[49m\u001b[43mparams\u001b[49m\u001b[38;5;241;43m=\u001b[39;49m\u001b[43mparams\u001b[49m\u001b[43m,\u001b[49m\u001b[43m \u001b[49m\u001b[43mtrain_set\u001b[49m\u001b[38;5;241;43m=\u001b[39;49m\u001b[43mtrain_set\u001b[49m\u001b[43m)\u001b[49m\n\u001b[1;32m    272\u001b[0m     \u001b[38;5;28;01mif\u001b[39;00m is_valid_contain_train:\n\u001b[1;32m    273\u001b[0m         booster\u001b[38;5;241m.\u001b[39mset_train_data_name(train_data_name)\n",
            "File \u001b[0;32m/anaconda/envs/azureml_py38_PT_TF/lib/python3.8/site-packages/lightgbm/basic.py:2605\u001b[0m, in \u001b[0;36mBooster.__init__\u001b[0;34m(self, params, train_set, model_file, model_str, silent)\u001b[0m\n\u001b[1;32m   2598\u001b[0m     \u001b[38;5;28mself\u001b[39m\u001b[38;5;241m.\u001b[39mset_network(\n\u001b[1;32m   2599\u001b[0m         machines\u001b[38;5;241m=\u001b[39mmachines,\n\u001b[1;32m   2600\u001b[0m         local_listen_port\u001b[38;5;241m=\u001b[39mparams[\u001b[38;5;124m\"\u001b[39m\u001b[38;5;124mlocal_listen_port\u001b[39m\u001b[38;5;124m\"\u001b[39m],\n\u001b[1;32m   2601\u001b[0m         listen_time_out\u001b[38;5;241m=\u001b[39mparams\u001b[38;5;241m.\u001b[39mget(\u001b[38;5;124m\"\u001b[39m\u001b[38;5;124mtime_out\u001b[39m\u001b[38;5;124m\"\u001b[39m, \u001b[38;5;241m120\u001b[39m),\n\u001b[1;32m   2602\u001b[0m         num_machines\u001b[38;5;241m=\u001b[39mparams[\u001b[38;5;124m\"\u001b[39m\u001b[38;5;124mnum_machines\u001b[39m\u001b[38;5;124m\"\u001b[39m]\n\u001b[1;32m   2603\u001b[0m     )\n\u001b[1;32m   2604\u001b[0m \u001b[38;5;66;03m# construct booster object\u001b[39;00m\n\u001b[0;32m-> 2605\u001b[0m \u001b[43mtrain_set\u001b[49m\u001b[38;5;241;43m.\u001b[39;49m\u001b[43mconstruct\u001b[49m\u001b[43m(\u001b[49m\u001b[43m)\u001b[49m\n\u001b[1;32m   2606\u001b[0m \u001b[38;5;66;03m# copy the parameters from train_set\u001b[39;00m\n\u001b[1;32m   2607\u001b[0m params\u001b[38;5;241m.\u001b[39mupdate(train_set\u001b[38;5;241m.\u001b[39mget_params())\n",
            "File \u001b[0;32m/anaconda/envs/azureml_py38_PT_TF/lib/python3.8/site-packages/lightgbm/basic.py:1815\u001b[0m, in \u001b[0;36mDataset.construct\u001b[0;34m(self)\u001b[0m\n\u001b[1;32m   1812\u001b[0m             \u001b[38;5;28mself\u001b[39m\u001b[38;5;241m.\u001b[39m_set_init_score_by_predictor(\u001b[38;5;28mself\u001b[39m\u001b[38;5;241m.\u001b[39m_predictor, \u001b[38;5;28mself\u001b[39m\u001b[38;5;241m.\u001b[39mdata, used_indices)\n\u001b[1;32m   1813\u001b[0m \u001b[38;5;28;01melse\u001b[39;00m:\n\u001b[1;32m   1814\u001b[0m     \u001b[38;5;66;03m# create train\u001b[39;00m\n\u001b[0;32m-> 1815\u001b[0m     \u001b[38;5;28;43mself\u001b[39;49m\u001b[38;5;241;43m.\u001b[39;49m\u001b[43m_lazy_init\u001b[49m\u001b[43m(\u001b[49m\u001b[38;5;28;43mself\u001b[39;49m\u001b[38;5;241;43m.\u001b[39;49m\u001b[43mdata\u001b[49m\u001b[43m,\u001b[49m\u001b[43m \u001b[49m\u001b[43mlabel\u001b[49m\u001b[38;5;241;43m=\u001b[39;49m\u001b[38;5;28;43mself\u001b[39;49m\u001b[38;5;241;43m.\u001b[39;49m\u001b[43mlabel\u001b[49m\u001b[43m,\u001b[49m\n\u001b[1;32m   1816\u001b[0m \u001b[43m                    \u001b[49m\u001b[43mweight\u001b[49m\u001b[38;5;241;43m=\u001b[39;49m\u001b[38;5;28;43mself\u001b[39;49m\u001b[38;5;241;43m.\u001b[39;49m\u001b[43mweight\u001b[49m\u001b[43m,\u001b[49m\u001b[43m \u001b[49m\u001b[43mgroup\u001b[49m\u001b[38;5;241;43m=\u001b[39;49m\u001b[38;5;28;43mself\u001b[39;49m\u001b[38;5;241;43m.\u001b[39;49m\u001b[43mgroup\u001b[49m\u001b[43m,\u001b[49m\n\u001b[1;32m   1817\u001b[0m \u001b[43m                    \u001b[49m\u001b[43minit_score\u001b[49m\u001b[38;5;241;43m=\u001b[39;49m\u001b[38;5;28;43mself\u001b[39;49m\u001b[38;5;241;43m.\u001b[39;49m\u001b[43minit_score\u001b[49m\u001b[43m,\u001b[49m\u001b[43m \u001b[49m\u001b[43mpredictor\u001b[49m\u001b[38;5;241;43m=\u001b[39;49m\u001b[38;5;28;43mself\u001b[39;49m\u001b[38;5;241;43m.\u001b[39;49m\u001b[43m_predictor\u001b[49m\u001b[43m,\u001b[49m\n\u001b[1;32m   1818\u001b[0m \u001b[43m                    \u001b[49m\u001b[43msilent\u001b[49m\u001b[38;5;241;43m=\u001b[39;49m\u001b[38;5;28;43mself\u001b[39;49m\u001b[38;5;241;43m.\u001b[39;49m\u001b[43msilent\u001b[49m\u001b[43m,\u001b[49m\u001b[43m \u001b[49m\u001b[43mfeature_name\u001b[49m\u001b[38;5;241;43m=\u001b[39;49m\u001b[38;5;28;43mself\u001b[39;49m\u001b[38;5;241;43m.\u001b[39;49m\u001b[43mfeature_name\u001b[49m\u001b[43m,\u001b[49m\n\u001b[1;32m   1819\u001b[0m \u001b[43m                    \u001b[49m\u001b[43mcategorical_feature\u001b[49m\u001b[38;5;241;43m=\u001b[39;49m\u001b[38;5;28;43mself\u001b[39;49m\u001b[38;5;241;43m.\u001b[39;49m\u001b[43mcategorical_feature\u001b[49m\u001b[43m,\u001b[49m\u001b[43m \u001b[49m\u001b[43mparams\u001b[49m\u001b[38;5;241;43m=\u001b[39;49m\u001b[38;5;28;43mself\u001b[39;49m\u001b[38;5;241;43m.\u001b[39;49m\u001b[43mparams\u001b[49m\u001b[43m)\u001b[49m\n\u001b[1;32m   1820\u001b[0m \u001b[38;5;28;01mif\u001b[39;00m \u001b[38;5;28mself\u001b[39m\u001b[38;5;241m.\u001b[39mfree_raw_data:\n\u001b[1;32m   1821\u001b[0m     \u001b[38;5;28mself\u001b[39m\u001b[38;5;241m.\u001b[39mdata \u001b[38;5;241m=\u001b[39m \u001b[38;5;28;01mNone\u001b[39;00m\n",
            "File \u001b[0;32m/anaconda/envs/azureml_py38_PT_TF/lib/python3.8/site-packages/lightgbm/basic.py:1538\u001b[0m, in \u001b[0;36mDataset._lazy_init\u001b[0;34m(self, data, label, reference, weight, group, init_score, predictor, silent, feature_name, categorical_feature, params)\u001b[0m\n\u001b[1;32m   1536\u001b[0m     \u001b[38;5;28mself\u001b[39m\u001b[38;5;241m.\u001b[39m__init_from_csc(data, params_str, ref_dataset)\n\u001b[1;32m   1537\u001b[0m \u001b[38;5;28;01melif\u001b[39;00m \u001b[38;5;28misinstance\u001b[39m(data, np\u001b[38;5;241m.\u001b[39mndarray):\n\u001b[0;32m-> 1538\u001b[0m     \u001b[38;5;28;43mself\u001b[39;49m\u001b[38;5;241;43m.\u001b[39;49m\u001b[43m__init_from_np2d\u001b[49m\u001b[43m(\u001b[49m\u001b[43mdata\u001b[49m\u001b[43m,\u001b[49m\u001b[43m \u001b[49m\u001b[43mparams_str\u001b[49m\u001b[43m,\u001b[49m\u001b[43m \u001b[49m\u001b[43mref_dataset\u001b[49m\u001b[43m)\u001b[49m\n\u001b[1;32m   1539\u001b[0m \u001b[38;5;28;01melif\u001b[39;00m \u001b[38;5;28misinstance\u001b[39m(data, \u001b[38;5;28mlist\u001b[39m) \u001b[38;5;129;01mand\u001b[39;00m \u001b[38;5;28mlen\u001b[39m(data) \u001b[38;5;241m>\u001b[39m \u001b[38;5;241m0\u001b[39m:\n\u001b[1;32m   1540\u001b[0m     \u001b[38;5;28;01mif\u001b[39;00m \u001b[38;5;28mall\u001b[39m(\u001b[38;5;28misinstance\u001b[39m(x, np\u001b[38;5;241m.\u001b[39mndarray) \u001b[38;5;28;01mfor\u001b[39;00m x \u001b[38;5;129;01min\u001b[39;00m data):\n",
            "File \u001b[0;32m/anaconda/envs/azureml_py38_PT_TF/lib/python3.8/site-packages/lightgbm/basic.py:1659\u001b[0m, in \u001b[0;36mDataset.__init_from_np2d\u001b[0;34m(self, mat, params_str, ref_dataset)\u001b[0m\n\u001b[1;32m   1656\u001b[0m     data \u001b[38;5;241m=\u001b[39m np\u001b[38;5;241m.\u001b[39marray(mat\u001b[38;5;241m.\u001b[39mreshape(mat\u001b[38;5;241m.\u001b[39msize), dtype\u001b[38;5;241m=\u001b[39mnp\u001b[38;5;241m.\u001b[39mfloat32)\n\u001b[1;32m   1658\u001b[0m ptr_data, type_ptr_data, _ \u001b[38;5;241m=\u001b[39m c_float_array(data)\n\u001b[0;32m-> 1659\u001b[0m \u001b[43m_safe_call\u001b[49m\u001b[43m(\u001b[49m\u001b[43m_LIB\u001b[49m\u001b[38;5;241;43m.\u001b[39;49m\u001b[43mLGBM_DatasetCreateFromMat\u001b[49m\u001b[43m(\u001b[49m\n\u001b[1;32m   1660\u001b[0m \u001b[43m    \u001b[49m\u001b[43mptr_data\u001b[49m\u001b[43m,\u001b[49m\n\u001b[1;32m   1661\u001b[0m \u001b[43m    \u001b[49m\u001b[43mctypes\u001b[49m\u001b[38;5;241;43m.\u001b[39;49m\u001b[43mc_int\u001b[49m\u001b[43m(\u001b[49m\u001b[43mtype_ptr_data\u001b[49m\u001b[43m)\u001b[49m\u001b[43m,\u001b[49m\n\u001b[1;32m   1662\u001b[0m \u001b[43m    \u001b[49m\u001b[43mctypes\u001b[49m\u001b[38;5;241;43m.\u001b[39;49m\u001b[43mc_int32\u001b[49m\u001b[43m(\u001b[49m\u001b[43mmat\u001b[49m\u001b[38;5;241;43m.\u001b[39;49m\u001b[43mshape\u001b[49m\u001b[43m[\u001b[49m\u001b[38;5;241;43m0\u001b[39;49m\u001b[43m]\u001b[49m\u001b[43m)\u001b[49m\u001b[43m,\u001b[49m\n\u001b[1;32m   1663\u001b[0m \u001b[43m    \u001b[49m\u001b[43mctypes\u001b[49m\u001b[38;5;241;43m.\u001b[39;49m\u001b[43mc_int32\u001b[49m\u001b[43m(\u001b[49m\u001b[43mmat\u001b[49m\u001b[38;5;241;43m.\u001b[39;49m\u001b[43mshape\u001b[49m\u001b[43m[\u001b[49m\u001b[38;5;241;43m1\u001b[39;49m\u001b[43m]\u001b[49m\u001b[43m)\u001b[49m\u001b[43m,\u001b[49m\n\u001b[1;32m   1664\u001b[0m \u001b[43m    \u001b[49m\u001b[43mctypes\u001b[49m\u001b[38;5;241;43m.\u001b[39;49m\u001b[43mc_int\u001b[49m\u001b[43m(\u001b[49m\u001b[43mC_API_IS_ROW_MAJOR\u001b[49m\u001b[43m)\u001b[49m\u001b[43m,\u001b[49m\n\u001b[1;32m   1665\u001b[0m \u001b[43m    \u001b[49m\u001b[43mc_str\u001b[49m\u001b[43m(\u001b[49m\u001b[43mparams_str\u001b[49m\u001b[43m)\u001b[49m\u001b[43m,\u001b[49m\n\u001b[1;32m   1666\u001b[0m \u001b[43m    \u001b[49m\u001b[43mref_dataset\u001b[49m\u001b[43m,\u001b[49m\n\u001b[1;32m   1667\u001b[0m \u001b[43m    \u001b[49m\u001b[43mctypes\u001b[49m\u001b[38;5;241;43m.\u001b[39;49m\u001b[43mbyref\u001b[49m\u001b[43m(\u001b[49m\u001b[38;5;28;43mself\u001b[39;49m\u001b[38;5;241;43m.\u001b[39;49m\u001b[43mhandle\u001b[49m\u001b[43m)\u001b[49m\u001b[43m)\u001b[49m\u001b[43m)\u001b[49m\n\u001b[1;32m   1668\u001b[0m \u001b[38;5;28;01mreturn\u001b[39;00m \u001b[38;5;28mself\u001b[39m\n",
            "File \u001b[0;32m/anaconda/envs/azureml_py38_PT_TF/lib/python3.8/site-packages/lightgbm/basic.py:125\u001b[0m, in \u001b[0;36m_safe_call\u001b[0;34m(ret)\u001b[0m\n\u001b[1;32m    117\u001b[0m \u001b[38;5;250m\u001b[39m\u001b[38;5;124;03m\"\"\"Check the return value from C API call.\u001b[39;00m\n\u001b[1;32m    118\u001b[0m \n\u001b[1;32m    119\u001b[0m \u001b[38;5;124;03mParameters\u001b[39;00m\n\u001b[0;32m   (...)\u001b[0m\n\u001b[1;32m    122\u001b[0m \u001b[38;5;124;03m    The return value from C API calls.\u001b[39;00m\n\u001b[1;32m    123\u001b[0m \u001b[38;5;124;03m\"\"\"\u001b[39;00m\n\u001b[1;32m    124\u001b[0m \u001b[38;5;28;01mif\u001b[39;00m ret \u001b[38;5;241m!=\u001b[39m \u001b[38;5;241m0\u001b[39m:\n\u001b[0;32m--> 125\u001b[0m     \u001b[38;5;28;01mraise\u001b[39;00m LightGBMError(_LIB\u001b[38;5;241m.\u001b[39mLGBM_GetLastError()\u001b[38;5;241m.\u001b[39mdecode(\u001b[38;5;124m'\u001b[39m\u001b[38;5;124mutf-8\u001b[39m\u001b[38;5;124m'\u001b[39m))\n",
            "\u001b[0;31mLightGBMError\u001b[0m: Parameter verbosity should be of type int, got \"False\""
          ]
        }
      ],
      "execution_count": 22,
      "metadata": {
        "jupyter": {
          "source_hidden": false,
          "outputs_hidden": false
        },
        "nteract": {
          "transient": {
            "deleting": false
          }
        }
      }
    },
    {
      "cell_type": "code",
      "source": [
        "print(study_lgbm.best_params)"
      ],
      "outputs": [],
      "execution_count": null,
      "metadata": {
        "jupyter": {
          "source_hidden": false,
          "outputs_hidden": false
        },
        "nteract": {
          "transient": {
            "deleting": false
          }
        },
        "gather": {
          "logged": 1718223569158
        }
      }
    },
    {
      "cell_type": "code",
      "source": [
        "def objective_xgboost(trial):\n",
        "    params = {\n",
        "        \"n_estimators\": trial.suggest_int(\"n_estimators\", 100, 200),\n",
        "        \"max_depth\": trial.suggest_int(\"max_depth\", 1, 10),\n",
        "        \"learning_rate\": trial.suggest_float(\"learning_rate\", 0.01, 0.3, log=True),\n",
        "        \"subsample\": trial.suggest_float(\"subsample\", 0.1, 1.0),\n",
        "    }\n",
        "    xgb_model = xgb.XGBClassifier(**params)\n",
        "    xgb_model.fit(X_train, y_train)\n",
        "    xgb_predictions = xgb_model.predict(X_test)\n",
        "    xgb_accuracy = accuracy_score(y_test,xgb_predictions)\n",
        "    return xgb_accuracy\n",
        "\n",
        "study_xgboost = optuna.create_study(direction='minimize')\n",
        "study_xgboost.optimize(objective_xgboost, n_trials=150)\n",
        "print(study_xgboost.best_params)"
      ],
      "outputs": [
        {
          "output_type": "stream",
          "name": "stderr",
          "text": "[I 2024-06-12 20:22:51,951] A new study created in memory with name: no-name-2efb85a1-b6cb-49b5-8c39-d3b574ac96e6\n[I 2024-06-12 20:22:54,272] Trial 0 finished with value: 0.8334966999934653 and parameters: {'n_estimators': 120, 'max_depth': 7, 'learning_rate': 0.12572657266615828, 'subsample': 0.7711827724598136}. Best is trial 0 with value: 0.8334966999934653.\n[I 2024-06-12 20:22:57,499] Trial 1 finished with value: 0.8285303535254526 and parameters: {'n_estimators': 125, 'max_depth': 9, 'learning_rate': 0.014787100402184606, 'subsample': 0.18191208594213898}. Best is trial 1 with value: 0.8285303535254526.\n[I 2024-06-12 20:23:03,242] Trial 2 finished with value: 0.8301640201267725 and parameters: {'n_estimators': 149, 'max_depth': 10, 'learning_rate': 0.0247905921409569, 'subsample': 0.7909186864625259}. Best is trial 1 with value: 0.8285303535254526.\n[I 2024-06-12 20:23:05,016] Trial 3 finished with value: 0.8286610468535581 and parameters: {'n_estimators': 161, 'max_depth': 3, 'learning_rate': 0.05461814368561064, 'subsample': 0.3134316323145297}. Best is trial 1 with value: 0.8285303535254526.\n[I 2024-06-12 20:23:06,446] Trial 4 finished with value: 0.8224531137685421 and parameters: {'n_estimators': 108, 'max_depth': 3, 'learning_rate': 0.04666284571158733, 'subsample': 0.8856966077096118}. Best is trial 4 with value: 0.8224531137685421.\n[I 2024-06-12 20:23:07,971] Trial 5 finished with value: 0.8174867673005293 and parameters: {'n_estimators': 131, 'max_depth': 3, 'learning_rate': 0.013869028536529925, 'subsample': 0.33757491531345407}. Best is trial 5 with value: 0.8174867673005293.\n[I 2024-06-12 20:23:09,561] Trial 6 finished with value: 0.8151996340586813 and parameters: {'n_estimators': 115, 'max_depth': 3, 'learning_rate': 0.014343230682424097, 'subsample': 0.6964975031399427}. Best is trial 6 with value: 0.8151996340586813.\n[I 2024-06-12 20:23:10,944] Trial 7 finished with value: 0.8299026334705614 and parameters: {'n_estimators': 154, 'max_depth': 2, 'learning_rate': 0.1456871583702269, 'subsample': 0.16094422266087682}. Best is trial 6 with value: 0.8151996340586813.\n[I 2024-06-12 20:23:16,270] Trial 8 finished with value: 0.831993726720251 and parameters: {'n_estimators': 168, 'max_depth': 9, 'learning_rate': 0.036505132040892126, 'subsample': 0.9403483976995244}. Best is trial 6 with value: 0.8151996340586813.\n[I 2024-06-12 20:23:20,864] Trial 9 finished with value: 0.8278768868849246 and parameters: {'n_estimators': 154, 'max_depth': 8, 'learning_rate': 0.010228229538167034, 'subsample': 0.7705204461989746}. Best is trial 6 with value: 0.8151996340586813.\n[I 2024-06-12 20:23:23,530] Trial 10 finished with value: 0.8317976867280925 and parameters: {'n_estimators': 193, 'max_depth': 5, 'learning_rate': 0.2959162650461999, 'subsample': 0.5568598375413787}. Best is trial 6 with value: 0.8151996340586813.\n[I 2024-06-12 20:23:24,676] Trial 11 finished with value: 0.7988629680454813 and parameters: {'n_estimators': 132, 'max_depth': 1, 'learning_rate': 0.020288025952023024, 'subsample': 0.48656236037381934}. Best is trial 11 with value: 0.7988629680454813.\n[I 2024-06-12 20:23:25,589] Trial 12 finished with value: 0.7955956348428412 and parameters: {'n_estimators': 105, 'max_depth': 1, 'learning_rate': 0.02336961921517452, 'subsample': 0.5480888813608211}. Best is trial 12 with value: 0.7955956348428412.\n[I 2024-06-12 20:23:26,483] Trial 13 finished with value: 0.7988629680454813 and parameters: {'n_estimators': 102, 'max_depth': 1, 'learning_rate': 0.026728276274998495, 'subsample': 0.48845313397164025}. Best is trial 12 with value: 0.7955956348428412.\n[I 2024-06-12 20:23:27,622] Trial 14 finished with value: 0.8053976344507613 and parameters: {'n_estimators': 133, 'max_depth': 1, 'learning_rate': 0.0245953807188313, 'subsample': 0.5507621742902108}. Best is trial 12 with value: 0.7955956348428412.\n[I 2024-06-12 20:23:30,015] Trial 15 finished with value: 0.8343462066261518 and parameters: {'n_estimators': 142, 'max_depth': 6, 'learning_rate': 0.08638609223756409, 'subsample': 0.40617820351587086}. Best is trial 12 with value: 0.7955956348428412.\n[I 2024-06-12 20:23:31,813] Trial 16 finished with value: 0.8241521270339149 and parameters: {'n_estimators': 101, 'max_depth': 5, 'learning_rate': 0.02064464449094568, 'subsample': 0.6433823605550891}. Best is trial 12 with value: 0.7955956348428412.\n[I 2024-06-12 20:23:33,285] Trial 17 finished with value: 0.8138927007776253 and parameters: {'n_estimators': 179, 'max_depth': 1, 'learning_rate': 0.035349790864488695, 'subsample': 0.44040094718756356}. Best is trial 12 with value: 0.7955956348428412.\n[I 2024-06-12 20:23:35,269] Trial 18 finished with value: 0.8311442200875645 and parameters: {'n_estimators': 137, 'max_depth': 4, 'learning_rate': 0.07688855361990855, 'subsample': 0.6215427831086536}. Best is trial 12 with value: 0.7955956348428412.\n[I 2024-06-12 20:23:36,452] Trial 19 finished with value: 0.8125204208325165 and parameters: {'n_estimators': 114, 'max_depth': 2, 'learning_rate': 0.019132942314789864, 'subsample': 0.26354850747396197}. Best is trial 12 with value: 0.7955956348428412.\n[I 2024-06-12 20:23:37,723] Trial 20 finished with value: 0.8193818205580605 and parameters: {'n_estimators': 124, 'max_depth': 2, 'learning_rate': 0.03738271901833608, 'subsample': 0.47905964591737094}. Best is trial 12 with value: 0.7955956348428412.\n[I 2024-06-12 20:23:38,636] Trial 21 finished with value: 0.8019342612559629 and parameters: {'n_estimators': 104, 'max_depth': 1, 'learning_rate': 0.028161710819494624, 'subsample': 0.49171716253683895}. Best is trial 12 with value: 0.7955956348428412.\n[I 2024-06-12 20:23:39,608] Trial 22 finished with value: 0.7929164216166764 and parameters: {'n_estimators': 112, 'max_depth': 1, 'learning_rate': 0.010570019024433795, 'subsample': 0.388363359459321}. Best is trial 22 with value: 0.7929164216166764.\n[I 2024-06-12 20:23:40,784] Trial 23 finished with value: 0.8099719009344573 and parameters: {'n_estimators': 112, 'max_depth': 2, 'learning_rate': 0.010979933795584693, 'subsample': 0.3758052312310087}. Best is trial 22 with value: 0.7929164216166764.\n[I 2024-06-12 20:23:42,406] Trial 24 finished with value: 0.8214075671436973 and parameters: {'n_estimators': 121, 'max_depth': 4, 'learning_rate': 0.017566981765171276, 'subsample': 0.25945150558164165}. Best is trial 22 with value: 0.7929164216166764.\n[I 2024-06-12 20:23:43,623] Trial 25 finished with value: 0.7920669149839901 and parameters: {'n_estimators': 142, 'max_depth': 1, 'learning_rate': 0.012712040571932445, 'subsample': 0.6115518968409248}. Best is trial 25 with value: 0.7920669149839901.\n[I 2024-06-12 20:23:45,524] Trial 26 finished with value: 0.8214075671436973 and parameters: {'n_estimators': 143, 'max_depth': 4, 'learning_rate': 0.01203959023806768, 'subsample': 0.64474585684694}. Best is trial 25 with value: 0.7920669149839901.\n[I 2024-06-12 20:23:47,309] Trial 27 finished with value: 0.8151996340586813 and parameters: {'n_estimators': 180, 'max_depth': 2, 'learning_rate': 0.016201819669019346, 'subsample': 0.5725212894392847}. Best is trial 25 with value: 0.7920669149839901.\n[I 2024-06-12 20:23:48,254] Trial 28 finished with value: 0.7928510749526236 and parameters: {'n_estimators': 109, 'max_depth': 1, 'learning_rate': 0.010616796915979321, 'subsample': 0.7060009624041954}. Best is trial 25 with value: 0.7920669149839901.\n[I 2024-06-12 20:23:50,709] Trial 29 finished with value: 0.826439260275763 and parameters: {'n_estimators': 120, 'max_depth': 7, 'learning_rate': 0.010419364355327688, 'subsample': 0.7751622140259766}. Best is trial 25 with value: 0.7920669149839901.\n[I 2024-06-12 20:23:52,635] Trial 30 finished with value: 0.8130431941449389 and parameters: {'n_estimators': 199, 'max_depth': 2, 'learning_rate': 0.01195234999214179, 'subsample': 0.7198982215648675}. Best is trial 25 with value: 0.7920669149839901.\n[I 2024-06-12 20:23:53,641] Trial 31 finished with value: 0.7925243416323596 and parameters: {'n_estimators': 109, 'max_depth': 1, 'learning_rate': 0.01346256413330455, 'subsample': 0.838029640347618}. Best is trial 25 with value: 0.7920669149839901.\n[I 2024-06-12 20:23:54,714] Trial 32 finished with value: 0.7925243416323596 and parameters: {'n_estimators': 127, 'max_depth': 1, 'learning_rate': 0.013788615785527845, 'subsample': 0.862371201918368}. Best is trial 25 with value: 0.7920669149839901.\n[I 2024-06-12 20:23:55,939] Trial 33 finished with value: 0.8103639809187742 and parameters: {'n_estimators': 125, 'max_depth': 2, 'learning_rate': 0.014679079576507445, 'subsample': 0.8565949691999424}. Best is trial 25 with value: 0.7920669149839901.\n[I 2024-06-12 20:23:57,855] Trial 34 finished with value: 0.817944193948899 and parameters: {'n_estimators': 142, 'max_depth': 3, 'learning_rate': 0.014097841578489166, 'subsample': 0.9964646373921144}. Best is trial 25 with value: 0.7920669149839901.\n[I 2024-06-12 20:23:58,898] Trial 35 finished with value: 0.7942887015617853 and parameters: {'n_estimators': 128, 'max_depth': 1, 'learning_rate': 0.016572999791073142, 'subsample': 0.8422857703990212}. Best is trial 25 with value: 0.7920669149839901.\n[I 2024-06-12 20:24:00,179] Trial 36 finished with value: 0.8150689407305757 and parameters: {'n_estimators': 109, 'max_depth': 3, 'learning_rate': 0.01267429715244475, 'subsample': 0.7212011755423321}. Best is trial 25 with value: 0.7920669149839901.\n[I 2024-06-12 20:24:01,380] Trial 37 finished with value: 0.8114748742076717 and parameters: {'n_estimators': 119, 'max_depth': 2, 'learning_rate': 0.016640582257730355, 'subsample': 0.910428615375108}. Best is trial 25 with value: 0.7920669149839901.\n[I 2024-06-12 20:24:02,493] Trial 38 finished with value: 0.8074887277004509 and parameters: {'n_estimators': 137, 'max_depth': 1, 'learning_rate': 0.03071923487863098, 'subsample': 0.8441698788360199}. Best is trial 25 with value: 0.7920669149839901.\n[I 2024-06-12 20:24:07,428] Trial 39 finished with value: 0.8309481800954062 and parameters: {'n_estimators': 147, 'max_depth': 10, 'learning_rate': 0.1682547338033144, 'subsample': 0.8049404733897716}. Best is trial 25 with value: 0.7920669149839901.\n[I 2024-06-12 20:24:09,164] Trial 40 finished with value: 0.8259818336273933 and parameters: {'n_estimators': 160, 'max_depth': 3, 'learning_rate': 0.044768239014280856, 'subsample': 0.9472658447635203}. Best is trial 25 with value: 0.7920669149839901.\n[I 2024-06-12 20:24:10,112] Trial 41 finished with value: 0.7928510749526236 and parameters: {'n_estimators': 111, 'max_depth': 1, 'learning_rate': 0.010209806375191576, 'subsample': 0.6996634275746229}. Best is trial 25 with value: 0.7920669149839901.\n[I 2024-06-12 20:24:11,217] Trial 42 finished with value: 0.8100372475985101 and parameters: {'n_estimators': 108, 'max_depth': 2, 'learning_rate': 0.013757770284762138, 'subsample': 0.7516753042503341}. Best is trial 25 with value: 0.7920669149839901.\n[I 2024-06-12 20:24:12,204] Trial 43 finished with value: 0.7925243416323596 and parameters: {'n_estimators': 116, 'max_depth': 1, 'learning_rate': 0.01255722840767777, 'subsample': 0.6753290016749988}. Best is trial 25 with value: 0.7920669149839901.\n[I 2024-06-12 20:24:13,587] Trial 44 finished with value: 0.8199699405345358 and parameters: {'n_estimators': 117, 'max_depth': 3, 'learning_rate': 0.021759448366093396, 'subsample': 0.6661696833696864}. Best is trial 25 with value: 0.7920669149839901.\n[I 2024-06-12 20:24:14,687] Trial 45 finished with value: 0.7925896882964125 and parameters: {'n_estimators': 129, 'max_depth': 1, 'learning_rate': 0.012626080696928955, 'subsample': 0.6039642032928411}. Best is trial 25 with value: 0.7920669149839901.\n[I 2024-06-12 20:24:16,064] Trial 46 finished with value: 0.8138927007776253 and parameters: {'n_estimators': 136, 'max_depth': 2, 'learning_rate': 0.018763394042586264, 'subsample': 0.6107706715630286}. Best is trial 25 with value: 0.7920669149839901.\n[I 2024-06-12 20:24:17,154] Trial 47 finished with value: 0.7925896882964125 and parameters: {'n_estimators': 128, 'max_depth': 1, 'learning_rate': 0.012872773776325123, 'subsample': 0.6035675374396339}. Best is trial 25 with value: 0.7920669149839901.\n[I 2024-06-12 20:24:21,427] Trial 48 finished with value: 0.8271580735803438 and parameters: {'n_estimators': 152, 'max_depth': 7, 'learning_rate': 0.015851199667272317, 'subsample': 0.10770869911008568}. Best is trial 25 with value: 0.7920669149839901.\n[I 2024-06-12 20:24:22,644] Trial 49 finished with value: 0.8158531006992094 and parameters: {'n_estimators': 123, 'max_depth': 1, 'learning_rate': 0.06477618513683077, 'subsample': 0.8064274536928766}. Best is trial 25 with value: 0.7920669149839901.\n[I 2024-06-12 20:24:23,866] Trial 50 finished with value: 0.8153303273867869 and parameters: {'n_estimators': 127, 'max_depth': 2, 'learning_rate': 0.022387044967622855, 'subsample': 0.9996199059118783}. Best is trial 25 with value: 0.7920669149839901.\n[I 2024-06-12 20:24:24,977] Trial 51 finished with value: 0.7925896882964125 and parameters: {'n_estimators': 130, 'max_depth': 1, 'learning_rate': 0.01314866491850945, 'subsample': 0.5941354293898988}. Best is trial 25 with value: 0.7920669149839901.\n[I 2024-06-12 20:24:26,111] Trial 52 finished with value: 0.7926550349604653 and parameters: {'n_estimators': 133, 'max_depth': 1, 'learning_rate': 0.013462534987134133, 'subsample': 0.5351071591545669}. Best is trial 25 with value: 0.7920669149839901.\n[I 2024-06-12 20:24:27,098] Trial 53 finished with value: 0.7925243416323596 and parameters: {'n_estimators': 115, 'max_depth': 1, 'learning_rate': 0.011834142085055531, 'subsample': 0.6556072479549523}. Best is trial 25 with value: 0.7920669149839901.\n[I 2024-06-12 20:24:30,056] Trial 54 finished with value: 0.8283996601973469 and parameters: {'n_estimators': 119, 'max_depth': 8, 'learning_rate': 0.01522950493024484, 'subsample': 0.6586964704744884}. Best is trial 25 with value: 0.7920669149839901.\n[I 2024-06-12 20:24:31,223] Trial 55 finished with value: 0.8099719009344573 and parameters: {'n_estimators': 115, 'max_depth': 2, 'learning_rate': 0.011876513877967723, 'subsample': 0.7508579956979071}. Best is trial 25 with value: 0.7920669149839901.\n[I 2024-06-12 20:24:32,118] Trial 56 finished with value: 0.7920669149839901 and parameters: {'n_estimators': 100, 'max_depth': 1, 'learning_rate': 0.018784525624611654, 'subsample': 0.5136123132776131}. Best is trial 25 with value: 0.7920669149839901.\n[I 2024-06-12 20:24:33,659] Trial 57 finished with value: 0.8115402208717245 and parameters: {'n_estimators': 103, 'max_depth': 2, 'learning_rate': 0.019125083011339684, 'subsample': 0.5193078543875933}. Best is trial 25 with value: 0.7920669149839901.\n[I 2024-06-12 20:24:34,593] Trial 58 finished with value: 0.7957263281709469 and parameters: {'n_estimators': 104, 'max_depth': 1, 'learning_rate': 0.02438926174126028, 'subsample': 0.43703358618959226}. Best is trial 25 with value: 0.7920669149839901.\n[I 2024-06-12 20:24:37,224] Trial 59 finished with value: 0.8251976736587597 and parameters: {'n_estimators': 101, 'max_depth': 6, 'learning_rate': 0.017640761096829643, 'subsample': 0.8980855009200284}. Best is trial 25 with value: 0.7920669149839901.\n[I 2024-06-12 20:24:38,490] Trial 60 finished with value: 0.8338887799777821 and parameters: {'n_estimators': 115, 'max_depth': 3, 'learning_rate': 0.24641759188344187, 'subsample': 0.677426204656392}. Best is trial 25 with value: 0.7920669149839901.\n[I 2024-06-12 20:24:39,414] Trial 61 finished with value: 0.7928510749526236 and parameters: {'n_estimators': 106, 'max_depth': 1, 'learning_rate': 0.011546578796232002, 'subsample': 0.5806254505545727}. Best is trial 25 with value: 0.7920669149839901.\n[I 2024-06-12 20:24:40,453] Trial 62 finished with value: 0.7925896882964125 and parameters: {'n_estimators': 123, 'max_depth': 1, 'learning_rate': 0.014866509029358927, 'subsample': 0.6333758598000067}. Best is trial 25 with value: 0.7920669149839901.\n[I 2024-06-12 20:24:41,488] Trial 63 finished with value: 0.7925243416323596 and parameters: {'n_estimators': 116, 'max_depth': 1, 'learning_rate': 0.011385980793096218, 'subsample': 0.5147240597361264}. Best is trial 25 with value: 0.7920669149839901.\n[I 2024-06-12 20:24:42,615] Trial 64 finished with value: 0.8097105142782461 and parameters: {'n_estimators': 107, 'max_depth': 2, 'learning_rate': 0.010003032711785329, 'subsample': 0.5132590485314572}. Best is trial 25 with value: 0.7920669149839901.\n[I 2024-06-12 20:24:43,618] Trial 65 finished with value: 0.7925243416323596 and parameters: {'n_estimators': 113, 'max_depth': 1, 'learning_rate': 0.01152457039949321, 'subsample': 0.4755774647665707}. Best is trial 25 with value: 0.7920669149839901.\n[I 2024-06-12 20:24:44,623] Trial 66 finished with value: 0.7925243416323596 and parameters: {'n_estimators': 115, 'max_depth': 1, 'learning_rate': 0.015151779473697221, 'subsample': 0.5642232952455347}. Best is trial 25 with value: 0.7920669149839901.\n[I 2024-06-12 20:24:45,673] Trial 67 finished with value: 0.811017447559302 and parameters: {'n_estimators': 100, 'max_depth': 2, 'learning_rate': 0.01961668947108793, 'subsample': 0.4209434011201309}. Best is trial 25 with value: 0.7920669149839901.\n[I 2024-06-12 20:24:47,753] Trial 68 finished with value: 0.8233679670652814 and parameters: {'n_estimators': 158, 'max_depth': 4, 'learning_rate': 0.017371195045435977, 'subsample': 0.942191718184025}. Best is trial 25 with value: 0.7920669149839901.\n[I 2024-06-12 20:24:48,851] Trial 69 finished with value: 0.8096451676141933 and parameters: {'n_estimators': 110, 'max_depth': 2, 'learning_rate': 0.011537720331958944, 'subsample': 0.8635321272226306}. Best is trial 25 with value: 0.7920669149839901.\n[I 2024-06-12 20:24:51,680] Trial 70 finished with value: 0.8221917271123309 and parameters: {'n_estimators': 166, 'max_depth': 1, 'learning_rate': 0.10364454175474071, 'subsample': 0.46301142712127624}. Best is trial 25 with value: 0.7920669149839901.\n[I 2024-06-12 20:24:52,678] Trial 71 finished with value: 0.7928510749526236 and parameters: {'n_estimators': 112, 'max_depth': 1, 'learning_rate': 0.011231638916565619, 'subsample': 0.5046942530078973}. Best is trial 25 with value: 0.7920669149839901.\n[I 2024-06-12 20:24:53,680] Trial 72 finished with value: 0.7923936483042541 and parameters: {'n_estimators': 118, 'max_depth': 1, 'learning_rate': 0.013863952294141849, 'subsample': 0.3471457380011451}. Best is trial 25 with value: 0.7920669149839901.\n[I 2024-06-12 20:24:54,690] Trial 73 finished with value: 0.7920015683199373 and parameters: {'n_estimators': 118, 'max_depth': 1, 'learning_rate': 0.01391962799881106, 'subsample': 0.321979084328591}. Best is trial 73 with value: 0.7920015683199373.\n[I 2024-06-12 20:24:56,258] Trial 74 finished with value: 0.8102986342547213 and parameters: {'n_estimators': 121, 'max_depth': 2, 'learning_rate': 0.013801415581620895, 'subsample': 0.31401124956995186}. Best is trial 73 with value: 0.7920015683199373.\n[I 2024-06-12 20:24:57,240] Trial 75 finished with value: 0.8046134744821277 and parameters: {'n_estimators': 118, 'max_depth': 1, 'learning_rate': 0.0283008517347504, 'subsample': 0.24322863884937945}. Best is trial 73 with value: 0.7920015683199373.\n[I 2024-06-12 20:24:58,434] Trial 76 finished with value: 0.7951382081944717 and parameters: {'n_estimators': 145, 'max_depth': 1, 'learning_rate': 0.016169132980693484, 'subsample': 0.3384238542456121}. Best is trial 73 with value: 0.7920015683199373.\n[I 2024-06-12 20:24:59,703] Trial 77 finished with value: 0.8127818074887277 and parameters: {'n_estimators': 125, 'max_depth': 2, 'learning_rate': 0.018009407375166493, 'subsample': 0.3707595329310241}. Best is trial 73 with value: 0.7920015683199373.\n[I 2024-06-12 20:25:00,622] Trial 78 finished with value: 0.7920669149839901 and parameters: {'n_estimators': 106, 'max_depth': 1, 'learning_rate': 0.014322039635665368, 'subsample': 0.20597679646040928}. Best is trial 73 with value: 0.7920015683199373.\n[I 2024-06-12 20:25:01,762] Trial 79 finished with value: 0.8125857674965693 and parameters: {'n_estimators': 105, 'max_depth': 2, 'learning_rate': 0.02086038702362127, 'subsample': 0.19613777034038482}. Best is trial 73 with value: 0.7920015683199373.\n[I 2024-06-12 20:25:03,379] Trial 80 finished with value: 0.8189897405737437 and parameters: {'n_estimators': 139, 'max_depth': 3, 'learning_rate': 0.014771603660687886, 'subsample': 0.19308641196840776}. Best is trial 73 with value: 0.7920015683199373.\n[I 2024-06-12 20:25:04,288] Trial 81 finished with value: 0.7925896882964125 and parameters: {'n_estimators': 108, 'max_depth': 1, 'learning_rate': 0.012901647115341882, 'subsample': 0.22669784821510308}. Best is trial 73 with value: 0.7920015683199373.\n[I 2024-06-12 20:25:05,219] Trial 82 finished with value: 0.7920669149839901 and parameters: {'n_estimators': 110, 'max_depth': 1, 'learning_rate': 0.012557437827309137, 'subsample': 0.2778649092644552}. Best is trial 73 with value: 0.7920015683199373.\n[I 2024-06-12 20:25:06,153] Trial 83 finished with value: 0.7920669149839901 and parameters: {'n_estimators': 110, 'max_depth': 1, 'learning_rate': 0.013927929107542014, 'subsample': 0.2808367152164993}. Best is trial 73 with value: 0.7920015683199373.\n[I 2024-06-12 20:25:07,319] Trial 84 finished with value: 0.7920669149839901 and parameters: {'n_estimators': 103, 'max_depth': 1, 'learning_rate': 0.01410665060510622, 'subsample': 0.2721157143939495}. Best is trial 73 with value: 0.7920015683199373.\n[I 2024-06-12 20:25:08,206] Trial 85 finished with value: 0.7920669149839901 and parameters: {'n_estimators': 102, 'max_depth': 1, 'learning_rate': 0.015838694450839914, 'subsample': 0.2810360857406866}. Best is trial 73 with value: 0.7920015683199373.\n[I 2024-06-12 20:25:09,832] Trial 86 finished with value: 0.8238253937136509 and parameters: {'n_estimators': 100, 'max_depth': 5, 'learning_rate': 0.01647514270441228, 'subsample': 0.3029347851096099}. Best is trial 73 with value: 0.7920015683199373.\n[I 2024-06-12 20:25:10,884] Trial 87 finished with value: 0.8101679409266157 and parameters: {'n_estimators': 102, 'max_depth': 2, 'learning_rate': 0.014572869805817117, 'subsample': 0.2768196211732842}. Best is trial 73 with value: 0.7920015683199373.\n[I 2024-06-12 20:25:11,781] Trial 88 finished with value: 0.7930471149447821 and parameters: {'n_estimators': 104, 'max_depth': 1, 'learning_rate': 0.01967177838733771, 'subsample': 0.34842466537869476}. Best is trial 73 with value: 0.7920015683199373.\n[I 2024-06-12 20:25:13,178] Trial 89 finished with value: 0.7990590080376396 and parameters: {'n_estimators': 175, 'max_depth': 1, 'learning_rate': 0.015895937577762392, 'subsample': 0.28450916251107783}. Best is trial 73 with value: 0.7920015683199373.\n[I 2024-06-12 20:25:14,230] Trial 90 finished with value: 0.8204273671829053 and parameters: {'n_estimators': 106, 'max_depth': 2, 'learning_rate': 0.045242058143522744, 'subsample': 0.15170314211251656}. Best is trial 73 with value: 0.7920015683199373.\n[I 2024-06-12 20:25:15,163] Trial 91 finished with value: 0.7925896882964125 and parameters: {'n_estimators': 110, 'max_depth': 1, 'learning_rate': 0.013787931037029542, 'subsample': 0.2218440408180815}. Best is trial 73 with value: 0.7920015683199373.\n[I 2024-06-12 20:25:16,089] Trial 92 finished with value: 0.7929164216166764 and parameters: {'n_estimators': 107, 'max_depth': 1, 'learning_rate': 0.010695700932078098, 'subsample': 0.30063541723608966}. Best is trial 73 with value: 0.7920015683199373.\n[I 2024-06-12 20:25:16,990] Trial 93 finished with value: 0.7920669149839901 and parameters: {'n_estimators': 102, 'max_depth': 1, 'learning_rate': 0.012417660177492107, 'subsample': 0.322392069251288}. Best is trial 73 with value: 0.7920015683199373.\n[I 2024-06-12 20:25:18,018] Trial 94 finished with value: 0.7920669149839901 and parameters: {'n_estimators': 102, 'max_depth': 1, 'learning_rate': 0.01717279745889597, 'subsample': 0.32302793420144754}. Best is trial 73 with value: 0.7920015683199373.\n[I 2024-06-12 20:25:19,532] Trial 95 finished with value: 0.7926550349604653 and parameters: {'n_estimators': 102, 'max_depth': 1, 'learning_rate': 0.017867609061064233, 'subsample': 0.321599659338613}. Best is trial 73 with value: 0.7920015683199373.\n[I 2024-06-12 20:25:20,965] Trial 96 finished with value: 0.8220610337842253 and parameters: {'n_estimators': 103, 'max_depth': 2, 'learning_rate': 0.053475764903392155, 'subsample': 0.25797862683778044}. Best is trial 73 with value: 0.7920015683199373.\n[I 2024-06-12 20:25:21,927] Trial 97 finished with value: 0.7952689015225772 and parameters: {'n_estimators': 100, 'max_depth': 1, 'learning_rate': 0.02273165810435706, 'subsample': 0.159997532557007}. Best is trial 73 with value: 0.7920015683199373.\n[I 2024-06-12 20:25:23,120] Trial 98 finished with value: 0.8099719009344573 and parameters: {'n_estimators': 112, 'max_depth': 2, 'learning_rate': 0.012365993199848482, 'subsample': 0.3907489782739167}. Best is trial 73 with value: 0.7920015683199373.\n[I 2024-06-12 20:25:24,036] Trial 99 finished with value: 0.7920669149839901 and parameters: {'n_estimators': 105, 'max_depth': 1, 'learning_rate': 0.015181419886870336, 'subsample': 0.22390397659143343}. Best is trial 73 with value: 0.7920015683199373.\n[I 2024-06-12 20:25:24,990] Trial 100 finished with value: 0.7927203816245181 and parameters: {'n_estimators': 108, 'max_depth': 1, 'learning_rate': 0.017258687635812304, 'subsample': 0.28826218624476796}. Best is trial 73 with value: 0.7920015683199373.\n[I 2024-06-12 20:25:25,877] Trial 101 finished with value: 0.7920669149839901 and parameters: {'n_estimators': 105, 'max_depth': 1, 'learning_rate': 0.015024560338861776, 'subsample': 0.21761241607549056}. Best is trial 73 with value: 0.7920015683199373.\n[I 2024-06-12 20:25:26,791] Trial 102 finished with value: 0.7931778082728876 and parameters: {'n_estimators': 103, 'max_depth': 1, 'learning_rate': 0.02070808829880291, 'subsample': 0.2528989865656335}. Best is trial 73 with value: 0.7920015683199373.\n[I 2024-06-12 20:25:27,744] Trial 103 finished with value: 0.7920669149839901 and parameters: {'n_estimators': 110, 'max_depth': 1, 'learning_rate': 0.012783516377171877, 'subsample': 0.3648941318154917}. Best is trial 73 with value: 0.7920015683199373.\n[I 2024-06-12 20:25:28,637] Trial 104 finished with value: 0.7920669149839901 and parameters: {'n_estimators': 106, 'max_depth': 1, 'learning_rate': 0.015685556626889696, 'subsample': 0.14274633808333442}. Best is trial 73 with value: 0.7920015683199373.\n[I 2024-06-12 20:25:29,502] Trial 105 finished with value: 0.7920669149839901 and parameters: {'n_estimators': 100, 'max_depth': 1, 'learning_rate': 0.01829326803018941, 'subsample': 0.326352571005491}. Best is trial 73 with value: 0.7920015683199373.\n[I 2024-06-12 20:25:30,567] Trial 106 finished with value: 0.8101679409266157 and parameters: {'n_estimators': 104, 'max_depth': 2, 'learning_rate': 0.010993504505821452, 'subsample': 0.26949701739963333}. Best is trial 73 with value: 0.7920015683199373.\n[I 2024-06-12 20:25:31,503] Trial 107 finished with value: 0.7924589949683069 and parameters: {'n_estimators': 113, 'max_depth': 1, 'learning_rate': 0.010016917461289352, 'subsample': 0.17839590276093034}. Best is trial 73 with value: 0.7920015683199373.\n[I 2024-06-12 20:25:34,330] Trial 108 finished with value: 0.8309481800954062 and parameters: {'n_estimators': 102, 'max_depth': 9, 'learning_rate': 0.02651138333168697, 'subsample': 0.24997947321381195}. Best is trial 73 with value: 0.7920015683199373.\n[I 2024-06-12 20:25:35,242] Trial 109 finished with value: 0.7920669149839901 and parameters: {'n_estimators': 108, 'max_depth': 1, 'learning_rate': 0.012273185666910278, 'subsample': 0.23402574453924446}. Best is trial 73 with value: 0.7920015683199373.\n[I 2024-06-12 20:25:36,330] Trial 110 finished with value: 0.8101679409266157 and parameters: {'n_estimators': 106, 'max_depth': 2, 'learning_rate': 0.014417624305036665, 'subsample': 0.20701804114288588}. Best is trial 73 with value: 0.7920015683199373.\n[I 2024-06-12 20:25:37,210] Trial 111 finished with value: 0.7920669149839901 and parameters: {'n_estimators': 104, 'max_depth': 1, 'learning_rate': 0.015582793994403533, 'subsample': 0.21335954660983114}. Best is trial 73 with value: 0.7920015683199373.\n[I 2024-06-12 20:25:38,161] Trial 112 finished with value: 0.7920669149839901 and parameters: {'n_estimators': 110, 'max_depth': 1, 'learning_rate': 0.013414572562700077, 'subsample': 0.2976222031134934}. Best is trial 73 with value: 0.7920015683199373.\n[I 2024-06-12 20:25:39,608] Trial 113 finished with value: 0.8021303012481212 and parameters: {'n_estimators': 188, 'max_depth': 1, 'learning_rate': 0.01690485673298958, 'subsample': 0.12365338490526405}. Best is trial 73 with value: 0.7920015683199373.\n[I 2024-06-12 20:25:40,488] Trial 114 finished with value: 0.7920669149839901 and parameters: {'n_estimators': 105, 'max_depth': 1, 'learning_rate': 0.014860108759744877, 'subsample': 0.18698486211542498}. Best is trial 73 with value: 0.7920015683199373.\n[I 2024-06-12 20:25:41,385] Trial 115 finished with value: 0.7920669149839901 and parameters: {'n_estimators': 102, 'max_depth': 1, 'learning_rate': 0.018686752299669623, 'subsample': 0.27213176666355154}. Best is trial 73 with value: 0.7920015683199373.\n[I 2024-06-12 20:25:42,474] Trial 116 finished with value: 0.811017447559302 and parameters: {'n_estimators': 108, 'max_depth': 2, 'learning_rate': 0.013007354849204051, 'subsample': 0.17116504169736652}. Best is trial 73 with value: 0.7920015683199373.\n[I 2024-06-12 20:25:43,443] Trial 117 finished with value: 0.7925896882964125 and parameters: {'n_estimators': 111, 'max_depth': 1, 'learning_rate': 0.015392239260026811, 'subsample': 0.23826392130447005}. Best is trial 73 with value: 0.7920015683199373.\n[I 2024-06-12 20:25:44,353] Trial 118 finished with value: 0.7920669149839901 and parameters: {'n_estimators': 106, 'max_depth': 1, 'learning_rate': 0.014105353313635268, 'subsample': 0.3279626718915439}. Best is trial 73 with value: 0.7920015683199373.\n[I 2024-06-12 20:25:45,370] Trial 119 finished with value: 0.8099065542704045 and parameters: {'n_estimators': 100, 'max_depth': 2, 'learning_rate': 0.012280962878314004, 'subsample': 0.20857492974659914}. Best is trial 73 with value: 0.7920015683199373.\n[I 2024-06-12 20:25:46,390] Trial 120 finished with value: 0.8068352610599229 and parameters: {'n_estimators': 113, 'max_depth': 1, 'learning_rate': 0.034065132518614656, 'subsample': 0.35752632999313094}. Best is trial 73 with value: 0.7920015683199373.\n[I 2024-06-12 20:25:47,343] Trial 121 finished with value: 0.7925243416323596 and parameters: {'n_estimators': 111, 'max_depth': 1, 'learning_rate': 0.013081367852245486, 'subsample': 0.3737987508498869}. Best is trial 73 with value: 0.7920015683199373.\n[I 2024-06-12 20:25:48,271] Trial 122 finished with value: 0.7929164216166764 and parameters: {'n_estimators': 109, 'max_depth': 1, 'learning_rate': 0.010960304271694758, 'subsample': 0.31356720438892316}. Best is trial 73 with value: 0.7920015683199373.\n[I 2024-06-12 20:25:49,192] Trial 123 finished with value: 0.7920669149839901 and parameters: {'n_estimators': 104, 'max_depth': 1, 'learning_rate': 0.016590087759644385, 'subsample': 0.4087500761402757}. Best is trial 73 with value: 0.7920015683199373.\n[I 2024-06-12 20:25:50,082] Trial 124 finished with value: 0.7924589949683069 and parameters: {'n_estimators': 102, 'max_depth': 1, 'learning_rate': 0.01202272800228525, 'subsample': 0.2850978425418799}. Best is trial 73 with value: 0.7920015683199373.\n[I 2024-06-12 20:25:51,281] Trial 125 finished with value: 0.7920669149839901 and parameters: {'n_estimators': 106, 'max_depth': 1, 'learning_rate': 0.014615974033338655, 'subsample': 0.2553688098749969}. Best is trial 73 with value: 0.7920015683199373.\n[I 2024-06-12 20:25:52,228] Trial 126 finished with value: 0.7920669149839901 and parameters: {'n_estimators': 110, 'max_depth': 1, 'learning_rate': 0.012921365679284709, 'subsample': 0.35377344671680155}. Best is trial 73 with value: 0.7920015683199373.\n[I 2024-06-12 20:25:54,849] Trial 127 finished with value: 0.8280075802130301 and parameters: {'n_estimators': 150, 'max_depth': 6, 'learning_rate': 0.013826922804516521, 'subsample': 0.3018155220321672}. Best is trial 73 with value: 0.7920015683199373.\n[I 2024-06-12 20:25:55,911] Trial 128 finished with value: 0.8099719009344573 and parameters: {'n_estimators': 104, 'max_depth': 2, 'learning_rate': 0.01616911676818306, 'subsample': 0.2708798418844351}. Best is trial 73 with value: 0.7920015683199373.\n[I 2024-06-12 20:25:56,889] Trial 129 finished with value: 0.7928510749526236 and parameters: {'n_estimators': 114, 'max_depth': 1, 'learning_rate': 0.01061288027130913, 'subsample': 0.39179694854584235}. Best is trial 73 with value: 0.7920015683199373.\n[I 2024-06-12 20:25:57,806] Trial 130 finished with value: 0.7929817682807293 and parameters: {'n_estimators': 108, 'max_depth': 1, 'learning_rate': 0.011563035248336358, 'subsample': 0.223747135202133}. Best is trial 73 with value: 0.7920015683199373.\n[I 2024-06-12 20:25:58,707] Trial 131 finished with value: 0.7920669149839901 and parameters: {'n_estimators': 106, 'max_depth': 1, 'learning_rate': 0.015560478208520294, 'subsample': 0.1552464510072166}. Best is trial 73 with value: 0.7920015683199373.\n[I 2024-06-12 20:25:59,583] Trial 132 finished with value: 0.7920669149839901 and parameters: {'n_estimators': 100, 'max_depth': 1, 'learning_rate': 0.015340134572013142, 'subsample': 0.32745483506023815}. Best is trial 73 with value: 0.7920015683199373.\n[I 2024-06-12 20:26:00,478] Trial 133 finished with value: 0.7920015683199373 and parameters: {'n_estimators': 107, 'max_depth': 1, 'learning_rate': 0.01664997127403893, 'subsample': 0.12611197473463154}. Best is trial 73 with value: 0.7920015683199373.\n[I 2024-06-12 20:26:01,430] Trial 134 finished with value: 0.7919362216558845 and parameters: {'n_estimators': 102, 'max_depth': 1, 'learning_rate': 0.01726624156431896, 'subsample': 0.11977439657701404}. Best is trial 134 with value: 0.7919362216558845.\n[I 2024-06-12 20:26:02,306] Trial 135 finished with value: 0.7927203816245181 and parameters: {'n_estimators': 102, 'max_depth': 1, 'learning_rate': 0.019022844662145683, 'subsample': 0.12382402943836539}. Best is trial 134 with value: 0.7919362216558845.\n[I 2024-06-12 20:26:03,215] Trial 136 finished with value: 0.7925243416323596 and parameters: {'n_estimators': 104, 'max_depth': 1, 'learning_rate': 0.01737825168477822, 'subsample': 0.11671048684845736}. Best is trial 134 with value: 0.7919362216558845.\n[I 2024-06-12 20:26:04,053] Trial 137 finished with value: 0.8222570737763837 and parameters: {'n_estimators': 100, 'max_depth': 1, 'learning_rate': 0.16470118725995575, 'subsample': 0.13753010717441436}. Best is trial 134 with value: 0.7919362216558845.\n[I 2024-06-12 20:26:06,257] Trial 138 finished with value: 0.8142847807619421 and parameters: {'n_estimators': 156, 'max_depth': 2, 'learning_rate': 0.016964225919606186, 'subsample': 0.1977846211266777}. Best is trial 134 with value: 0.7919362216558845.\n[I 2024-06-12 20:26:07,398] Trial 139 finished with value: 0.7920669149839901 and parameters: {'n_estimators': 107, 'max_depth': 1, 'learning_rate': 0.014187312462600821, 'subsample': 0.10260235845325784}. Best is trial 134 with value: 0.7919362216558845.\n[I 2024-06-12 20:26:08,720] Trial 140 finished with value: 0.8042213944978109 and parameters: {'n_estimators': 164, 'max_depth': 1, 'learning_rate': 0.020197221584288966, 'subsample': 0.2415082847654737}. Best is trial 134 with value: 0.7919362216558845.\n[I 2024-06-12 20:26:09,622] Trial 141 finished with value: 0.7925243416323596 and parameters: {'n_estimators': 102, 'max_depth': 1, 'learning_rate': 0.012650641603157127, 'subsample': 0.5395928853506707}. Best is trial 134 with value: 0.7919362216558845.\n[I 2024-06-12 20:26:10,556] Trial 142 finished with value: 0.7948768215382604 and parameters: {'n_estimators': 109, 'max_depth': 1, 'learning_rate': 0.021240990083538264, 'subsample': 0.2963412314320594}. Best is trial 134 with value: 0.7919362216558845.\n[I 2024-06-12 20:26:11,953] Trial 143 finished with value: 0.795987714827158 and parameters: {'n_estimators': 172, 'max_depth': 1, 'learning_rate': 0.01474980098987552, 'subsample': 0.33906865749819703}. Best is trial 134 with value: 0.7919362216558845.\n[I 2024-06-12 20:26:12,838] Trial 144 finished with value: 0.7921322616480428 and parameters: {'n_estimators': 105, 'max_depth': 1, 'learning_rate': 0.013440081639047856, 'subsample': 0.17414769117524426}. Best is trial 134 with value: 0.7919362216558845.\n[I 2024-06-12 20:26:13,721] Trial 145 finished with value: 0.7924589949683069 and parameters: {'n_estimators': 103, 'max_depth': 1, 'learning_rate': 0.017702253314620386, 'subsample': 0.27360462364933735}. Best is trial 134 with value: 0.7919362216558845.\n[I 2024-06-12 20:26:14,851] Trial 146 finished with value: 0.8099065542704045 and parameters: {'n_estimators': 111, 'max_depth': 2, 'learning_rate': 0.01222075537974476, 'subsample': 0.3105714130116749}. Best is trial 134 with value: 0.7919362216558845.\n[I 2024-06-12 20:26:15,742] Trial 147 finished with value: 0.8165065673397373 and parameters: {'n_estimators': 107, 'max_depth': 1, 'learning_rate': 0.08295356147585385, 'subsample': 0.22564114476252403}. Best is trial 134 with value: 0.7919362216558845.\n[I 2024-06-12 20:26:16,792] Trial 148 finished with value: 0.7925896882964125 and parameters: {'n_estimators': 116, 'max_depth': 1, 'learning_rate': 0.016208140616745956, 'subsample': 0.44013498633961456}. Best is trial 134 with value: 0.7919362216558845.\n[I 2024-06-12 20:26:17,943] Trial 149 finished with value: 0.8103639809187742 and parameters: {'n_estimators': 113, 'max_depth': 2, 'learning_rate': 0.01428884685444819, 'subsample': 0.25850594110895053}. Best is trial 134 with value: 0.7919362216558845.\n"
        },
        {
          "output_type": "stream",
          "name": "stdout",
          "text": "{'n_estimators': 102, 'max_depth': 1, 'learning_rate': 0.01726624156431896, 'subsample': 0.11977439657701404}\n"
        }
      ],
      "execution_count": 23,
      "metadata": {
        "jupyter": {
          "source_hidden": false,
          "outputs_hidden": false
        },
        "nteract": {
          "transient": {
            "deleting": false
          }
        },
        "gather": {
          "logged": 1718223977751
        }
      }
    },
    {
      "cell_type": "code",
      "source": [
        "print(study_xgboost.best_params)"
      ],
      "outputs": [
        {
          "output_type": "stream",
          "name": "stdout",
          "text": "{'n_estimators': 102, 'max_depth': 1, 'learning_rate': 0.01726624156431896, 'subsample': 0.11977439657701404}\n"
        }
      ],
      "execution_count": 24,
      "metadata": {
        "jupyter": {
          "source_hidden": false,
          "outputs_hidden": false
        },
        "nteract": {
          "transient": {
            "deleting": false
          }
        },
        "gather": {
          "logged": 1718223978471
        }
      }
    },
    {
      "cell_type": "code",
      "source": [
        "print(study_catboost.best_params)"
      ],
      "outputs": [
        {
          "output_type": "stream",
          "name": "stdout",
          "text": "{'learning_rate': 0.011509434380214512, 'depth': 1, 'random_strength': 10}\n"
        }
      ],
      "execution_count": 25,
      "metadata": {
        "jupyter": {
          "source_hidden": false,
          "outputs_hidden": false
        },
        "nteract": {
          "transient": {
            "deleting": false
          }
        },
        "gather": {
          "logged": 1718223979300
        }
      }
    },
    {
      "cell_type": "code",
      "source": [
        "!ls"
      ],
      "outputs": [],
      "execution_count": null,
      "metadata": {
        "jupyter": {
          "source_hidden": false,
          "outputs_hidden": false
        },
        "nteract": {
          "transient": {
            "deleting": false
          }
        }
      }
    },
    {
      "cell_type": "code",
      "source": [
        "%%time\n",
        "cat_model = CatBoostClassifier(iterations=2000, depth=1, learning_rate= 0.011509434380214512, random_strength=10)\n",
        "cat_model = cat_model.fit(X_train, y_train, eval_set=(X_test, y_test), verbose=False)\n",
        "\n",
        "#test set preds\n",
        "cat_preds = tensor(cat_model.predict(test_dl.xs))\n",
        "\n",
        "\n",
        "cat_preds_final = cat_preds.squeeze(1)\n",
        "\n",
        "#validation set preds\n",
        "cat_preds_x = tensor(cat_model.predict(X_test))\n",
        "\n",
        "cat_preds_x_final = cat_preds_x.squeeze(1)\n",
        "\n",
        "accuracy_score(y_test,cat_preds_x)"
      ],
      "outputs": [
        {
          "output_type": "stream",
          "name": "stdout",
          "text": "CPU times: user 1min 23s, sys: 1.4 s, total: 1min 24s\nWall time: 22.2 s\n"
        },
        {
          "output_type": "execute_result",
          "execution_count": 26,
          "data": {
            "text/plain": "0.8221263804482781"
          },
          "metadata": {}
        }
      ],
      "execution_count": 26,
      "metadata": {
        "jupyter": {
          "source_hidden": false,
          "outputs_hidden": false
        },
        "nteract": {
          "transient": {
            "deleting": false
          }
        }
      }
    },
    {
      "cell_type": "code",
      "source": [
        "%%time\n",
        "xgb_model = xgb.XGBClassifier(n_estimators = 102, max_depth=1, learning_rate=0.01726624156431896, subsample= 0.11977439657701404)\n",
        "xgb_model = xgb_model.fit(X_train, y_train)\n",
        "xgb_preds = tensor(xgb_model.predict(test_dl.xs))\n",
        "\n",
        "xgb_preds_x = tensor(xgb_model.predict(X_test))\n",
        "\n",
        "accuracy_score(y_test,xgb_preds_x)"
      ],
      "outputs": [
        {
          "output_type": "stream",
          "name": "stdout",
          "text": "CPU times: user 2.13 s, sys: 29 µs, total: 2.13 s\nWall time: 1.08 s\n"
        },
        {
          "output_type": "execute_result",
          "execution_count": 27,
          "data": {
            "text/plain": "0.7919362216558845"
          },
          "metadata": {}
        }
      ],
      "execution_count": 27,
      "metadata": {
        "jupyter": {
          "source_hidden": false,
          "outputs_hidden": false
        },
        "nteract": {
          "transient": {
            "deleting": false
          }
        }
      }
    },
    {
      "cell_type": "code",
      "source": [
        "lgb_model = lgb.LGBMClassifier(num_leaves=251, learning_rate=0.02956613668999794, n_estimators=483, max_depth=82, boosting_type='gbdt',min_child_samples=90, random_state=27)\n",
        "lgb_model = lgb_model.fit(X_train, y_train)\n",
        "\n",
        "#test set preds\n",
        "lgb_preds = tensor(lgb_model.predict(test_dl.xs))\n",
        "\n",
        "#validation set preds\n",
        "lgb_preds_x = tensor(lgb_model.predict(X_test))\n",
        "\n",
        "lgb_score = accuracy_score(y_test,lgb_preds_x)\n",
        "lgb_score"
      ],
      "outputs": [],
      "execution_count": null,
      "metadata": {
        "jupyter": {
          "source_hidden": false,
          "outputs_hidden": false
        },
        "nteract": {
          "transient": {
            "deleting": false
          }
        }
      }
    },
    {
      "cell_type": "code",
      "source": [
        "mapping = dict(enumerate(dls.vocab))\n",
        "predicted_labels = [mapping[value.item()] for value in cat_preds_final]\n",
        "submit = pd.read_csv(path/'sample_submission.csv')\n",
        "submit.Target = predicted_labels\n",
        "submit.to_csv('submission.csv',index=False)\n",
        "submit"
      ],
      "outputs": [
        {
          "output_type": "execute_result",
          "execution_count": 28,
          "data": {
            "text/plain": "           id    Target\n0       76518   Dropout\n1       76519  Graduate\n2       76520  Graduate\n3       76521  Graduate\n4       76522  Enrolled\n...       ...       ...\n51007  127525   Dropout\n51008  127526   Dropout\n51009  127527   Dropout\n51010  127528   Dropout\n51011  127529   Dropout\n\n[51012 rows x 2 columns]",
            "text/html": "<div>\n<style scoped>\n    .dataframe tbody tr th:only-of-type {\n        vertical-align: middle;\n    }\n\n    .dataframe tbody tr th {\n        vertical-align: top;\n    }\n\n    .dataframe thead th {\n        text-align: right;\n    }\n</style>\n<table border=\"1\" class=\"dataframe\">\n  <thead>\n    <tr style=\"text-align: right;\">\n      <th></th>\n      <th>id</th>\n      <th>Target</th>\n    </tr>\n  </thead>\n  <tbody>\n    <tr>\n      <th>0</th>\n      <td>76518</td>\n      <td>Dropout</td>\n    </tr>\n    <tr>\n      <th>1</th>\n      <td>76519</td>\n      <td>Graduate</td>\n    </tr>\n    <tr>\n      <th>2</th>\n      <td>76520</td>\n      <td>Graduate</td>\n    </tr>\n    <tr>\n      <th>3</th>\n      <td>76521</td>\n      <td>Graduate</td>\n    </tr>\n    <tr>\n      <th>4</th>\n      <td>76522</td>\n      <td>Enrolled</td>\n    </tr>\n    <tr>\n      <th>...</th>\n      <td>...</td>\n      <td>...</td>\n    </tr>\n    <tr>\n      <th>51007</th>\n      <td>127525</td>\n      <td>Dropout</td>\n    </tr>\n    <tr>\n      <th>51008</th>\n      <td>127526</td>\n      <td>Dropout</td>\n    </tr>\n    <tr>\n      <th>51009</th>\n      <td>127527</td>\n      <td>Dropout</td>\n    </tr>\n    <tr>\n      <th>51010</th>\n      <td>127528</td>\n      <td>Dropout</td>\n    </tr>\n    <tr>\n      <th>51011</th>\n      <td>127529</td>\n      <td>Dropout</td>\n    </tr>\n  </tbody>\n</table>\n<p>51012 rows × 2 columns</p>\n</div>"
          },
          "metadata": {}
        }
      ],
      "execution_count": 28,
      "metadata": {
        "jupyter": {
          "source_hidden": false,
          "outputs_hidden": false
        },
        "nteract": {
          "transient": {
            "deleting": false
          }
        },
        "gather": {
          "logged": 1718224175116
        }
      }
    },
    {
      "cell_type": "code",
      "source": [
        "!kaggle competitions submit -c playground-series-s4e6 -f submission.csv -m \"cat preds without original dataset with optuna\""
      ],
      "outputs": [
        {
          "output_type": "stream",
          "name": "stdout",
          "text": "Warning: Your Kaggle API key is readable by other users on this system! To fix this, you can run 'chmod 600 /home/azureuser/.kaggle/kaggle.json'\n100%|████████████████████████████████████████| 759k/759k [00:00<00:00, 2.70MB/s]\nSuccessfully submitted to Classification with an Academic Success Dataset"
        }
      ],
      "execution_count": 29,
      "metadata": {
        "jupyter": {
          "source_hidden": false,
          "outputs_hidden": false
        },
        "nteract": {
          "transient": {
            "deleting": false
          }
        }
      }
    },
    {
      "cell_type": "code",
      "source": [],
      "outputs": [],
      "execution_count": null,
      "metadata": {
        "jupyter": {
          "source_hidden": false,
          "outputs_hidden": false
        },
        "nteract": {
          "transient": {
            "deleting": false
          }
        }
      }
    },
    {
      "cell_type": "code",
      "source": [
        "%%time\n",
        "cat_model = CatBoostClassifier(iterations=2000, depth=9, learning_rate=  0.1319687641202529, random_strength=1)\n",
        "cat_model = cat_model.fit(X_train, y_train, eval_set=(X_test, y_test), verbose=False)\n",
        "\n",
        "#test set preds\n",
        "cat_preds = tensor(cat_model.predict(test_dl.xs))\n",
        "\n",
        "\n",
        "cat_preds_final = cat_preds.squeeze(1)\n",
        "\n",
        "#validation set preds\n",
        "cat_preds_x = tensor(cat_model.predict(X_test))\n",
        "\n",
        "cat_preds_x_final = cat_preds_x.squeeze(1)\n",
        "\n",
        "accuracy_score(y_test,cat_preds_x)"
      ],
      "outputs": [
        {
          "output_type": "stream",
          "name": "stdout",
          "text": "CPU times: user 7min 28s, sys: 7.92 s, total: 7min 36s\nWall time: 2min 16s\n"
        },
        {
          "output_type": "execute_result",
          "execution_count": 36,
          "data": {
            "text/plain": "0.8250016336666013"
          },
          "metadata": {}
        }
      ],
      "execution_count": 36,
      "metadata": {
        "jupyter": {
          "source_hidden": false,
          "outputs_hidden": false
        },
        "nteract": {
          "transient": {
            "deleting": false
          }
        }
      }
    },
    {
      "cell_type": "code",
      "source": [
        "mapping = dict(enumerate(dls.vocab))\n",
        "predicted_labels = [mapping[value.item()] for value in cat_preds_final]\n",
        "submit = pd.read_csv(path/'sample_submission.csv')\n",
        "submit.Target = predicted_labels\n",
        "submit.to_csv('submission.csv',index=False)\n",
        "submit"
      ],
      "outputs": [
        {
          "output_type": "execute_result",
          "execution_count": 37,
          "data": {
            "text/plain": "           id    Target\n0       76518   Dropout\n1       76519  Graduate\n2       76520  Graduate\n3       76521  Graduate\n4       76522  Enrolled\n...       ...       ...\n51007  127525   Dropout\n51008  127526   Dropout\n51009  127527   Dropout\n51010  127528   Dropout\n51011  127529   Dropout\n\n[51012 rows x 2 columns]",
            "text/html": "<div>\n<style scoped>\n    .dataframe tbody tr th:only-of-type {\n        vertical-align: middle;\n    }\n\n    .dataframe tbody tr th {\n        vertical-align: top;\n    }\n\n    .dataframe thead th {\n        text-align: right;\n    }\n</style>\n<table border=\"1\" class=\"dataframe\">\n  <thead>\n    <tr style=\"text-align: right;\">\n      <th></th>\n      <th>id</th>\n      <th>Target</th>\n    </tr>\n  </thead>\n  <tbody>\n    <tr>\n      <th>0</th>\n      <td>76518</td>\n      <td>Dropout</td>\n    </tr>\n    <tr>\n      <th>1</th>\n      <td>76519</td>\n      <td>Graduate</td>\n    </tr>\n    <tr>\n      <th>2</th>\n      <td>76520</td>\n      <td>Graduate</td>\n    </tr>\n    <tr>\n      <th>3</th>\n      <td>76521</td>\n      <td>Graduate</td>\n    </tr>\n    <tr>\n      <th>4</th>\n      <td>76522</td>\n      <td>Enrolled</td>\n    </tr>\n    <tr>\n      <th>...</th>\n      <td>...</td>\n      <td>...</td>\n    </tr>\n    <tr>\n      <th>51007</th>\n      <td>127525</td>\n      <td>Dropout</td>\n    </tr>\n    <tr>\n      <th>51008</th>\n      <td>127526</td>\n      <td>Dropout</td>\n    </tr>\n    <tr>\n      <th>51009</th>\n      <td>127527</td>\n      <td>Dropout</td>\n    </tr>\n    <tr>\n      <th>51010</th>\n      <td>127528</td>\n      <td>Dropout</td>\n    </tr>\n    <tr>\n      <th>51011</th>\n      <td>127529</td>\n      <td>Dropout</td>\n    </tr>\n  </tbody>\n</table>\n<p>51012 rows × 2 columns</p>\n</div>"
          },
          "metadata": {}
        }
      ],
      "execution_count": 37,
      "metadata": {
        "jupyter": {
          "source_hidden": false,
          "outputs_hidden": false
        },
        "nteract": {
          "transient": {
            "deleting": false
          }
        },
        "gather": {
          "logged": 1718137814878
        }
      }
    },
    {
      "cell_type": "code",
      "source": [
        "!kaggle competitions submit -c playground-series-s4e6 -f submission.csv -m \"cat preds without original dataset + optuna\""
      ],
      "outputs": [],
      "execution_count": 38,
      "metadata": {
        "jupyter": {
          "source_hidden": false,
          "outputs_hidden": false
        },
        "nteract": {
          "transient": {
            "deleting": false
          }
        }
      }
    },
    {
      "cell_type": "code",
      "source": [],
      "outputs": [],
      "execution_count": null,
      "metadata": {
        "jupyter": {
          "source_hidden": false,
          "outputs_hidden": false
        },
        "nteract": {
          "transient": {
            "deleting": false
          }
        }
      }
    },
    {
      "cell_type": "markdown",
      "source": [
        "# Adding Base Features\n",
        "\n",
        "from https://www.kaggle.com/code/trupologhelper/ps4e5-openfe-blending-explain#Creating-New-Features-%F0%9F%93%8A"
      ],
      "metadata": {
        "id": "3HW24rFQ_8KK"
      }
    },
    {
      "cell_type": "code",
      "source": [
        "BASE_FEATURES = test_final.columns\n",
        "initial_features = BASE_FEATURES\n",
        "initial_features"
      ],
      "outputs": [],
      "execution_count": null,
      "metadata": {
        "id": "v10RL0wc_8KN",
        "outputId": "8ec3c1d9-0810-446c-f0e5-67458a52da1f",
        "execution": {
          "iopub.status.busy": "2024-06-10T10:07:55.376915Z",
          "iopub.execute_input": "2024-06-10T10:07:55.377520Z",
          "iopub.status.idle": "2024-06-10T10:07:55.432836Z",
          "shell.execute_reply.started": "2024-06-10T10:07:55.377482Z",
          "shell.execute_reply": "2024-06-10T10:07:55.431034Z"
        },
        "trusted": true
      }
    },
    {
      "cell_type": "code",
      "source": [
        "%%time\n",
        "for df in [train_final, test_final]:\n",
        "    print('comnputing f_sum')\n",
        "    df['fsum'] = df[initial_features].sum(axis=1) # for tree models\n",
        "    print('comnputing f_std')\n",
        "    df['f_std']  = df[initial_features].std(axis=1)\n",
        "    print('comnputing f_mean')\n",
        "    df['f_mean'] = df[initial_features].mean(axis=1)\n",
        "    print('comnputing f_max')\n",
        "    df['f_max']  = df[initial_features].max(axis=1)\n",
        "    print('comnputing f_min')\n",
        "    df['f_min']  = df[initial_features].min(axis=1)\n",
        "    print('comnputing f_mode')\n",
        "    df['f_mode'] = df[initial_features].mode(axis=1)[0]\n",
        "    print('comnputing f_median')\n",
        "    df['f_median'] = df[initial_features].median(axis=1)\n",
        "    print('comnputing f_25th')\n",
        "    df['f_25th'] = df[initial_features].quantile(0.25, axis=1)\n",
        "    print('comnputing f_75th')\n",
        "    df['f_75th'] = df[initial_features].quantile(0.75, axis=1)\n",
        "    print('comnputing f_skew')\n",
        "    df['f_skew'] = df[initial_features].skew(axis=1)\n",
        "    print('comnputing f_kurt')\n",
        "    df['f_kurt'] = df[initial_features].kurt(axis=1)\n",
        "    df['special1'] = df['fsum'].isin(np.arange(72, 76)) # for linear models\n",
        "    for i in range(10,100,10):\n",
        "        print(f'comnputing f_{i}th')\n",
        "        df[f'f_{i}th'] = df[initial_features].quantile(i/100, axis=1)\n",
        "    print('comnputing f_harmonic')\n",
        "    df['f_harmonic'] = len(initial_features) / df[initial_features].apply(lambda x: (1/x).mean(), axis=1)\n",
        "    print('comnputing f_geometric')\n",
        "    df['f_geometric'] = df[initial_features].apply(lambda x: x.prod()**(1/len(x)), axis=1)\n",
        "    print('comnputing f_zscore')\n",
        "    df['f_zscore'] = df[initial_features].apply(lambda x: (x - x.mean()) / x.std(), axis=1).mean(axis=1)\n",
        "    print('computing Coefficient of Variation ')\n",
        "    df['f_cv'] = df[initial_features].std(axis=1) / df[initial_features].mean(axis=1)\n",
        "    print('computing f_Quantile Coefficients of Skewness_75')\n",
        "    df['f_Quantile Coefficients of Skewness_75'] = (df[initial_features].quantile(0.75, axis=1) - df[initial_features].mean(axis=1)) / df[initial_features].std(axis=1)\n",
        "    print('computing f_Quantile Coefficients of Skewness_25')\n",
        "    df['f_Quantile Coefficients of Skewness_25'] = (df[initial_features].quantile(0.25, axis=1) - df[initial_features].mean(axis=1)) / df[initial_features].std(axis=1)\n",
        "    print('computing f_2ndMoment')\n",
        "    df['f_2ndMoment'] = df[initial_features].apply(lambda x: (x**2).mean(), axis=1)\n",
        "    print('computing f_3rdMoment')\n",
        "    df['f_3rdMoment'] = df[initial_features].apply(lambda x: (x**3).mean(), axis=1)\n",
        "    print('computing f_entropy')\n",
        "    df['f_entropy'] = df[initial_features].apply(lambda x: -1*(x*np.log(x)).sum(), axis=1)\n",
        "    #print('computing f_mad') probably has negative impact\n",
        "    #df['f_mad'] = df[initial_features].apply(lambda x: (x - x.median()).abs().median(), axis=1)\n",
        "    #print('computing f_iqr') probably has negative impact\n",
        "    #df['f_iqr'] = df[initial_features].quantile(0.75, axis=1) - df[initial_features].quantile(0.25, axis=1)"
      ],
      "outputs": [],
      "execution_count": null,
      "metadata": {
        "id": "VjTG3tHd_8KO",
        "outputId": "5470631f-b68e-4740-9c3d-fae9a7ee3113",
        "scrolled": true,
        "execution": {
          "iopub.status.busy": "2024-06-10T10:08:04.809801Z",
          "iopub.execute_input": "2024-06-10T10:08:04.810255Z",
          "iopub.status.idle": "2024-06-10T10:08:04.926197Z",
          "shell.execute_reply.started": "2024-06-10T10:08:04.810222Z",
          "shell.execute_reply": "2024-06-10T10:08:04.924897Z"
        },
        "trusted": true
      }
    },
    {
      "cell_type": "code",
      "source": [
        "train_final.head()"
      ],
      "outputs": [],
      "execution_count": null,
      "metadata": {
        "id": "pOHguGRO_8KR",
        "outputId": "c721b318-d445-46c1-c36a-bac6827081cd"
      }
    },
    {
      "cell_type": "markdown",
      "source": [
        "## Neural Network Ensemble"
      ],
      "metadata": {
        "id": "75E_pjgO_8LW"
      }
    },
    {
      "cell_type": "code",
      "source": [
        "def ensemble():\n",
        "    learn = tabular_learner(dls, metrics=accuracy)\n",
        "    with learn.no_bar(),learn.no_logging(): learn.fit(6, 0.02)\n",
        "    return learn.get_preds(dl=dl)[0]"
      ],
      "outputs": [],
      "execution_count": null,
      "metadata": {
        "id": "Gsi88cA5_8LX",
        "execution": {
          "iopub.status.busy": "2024-06-10T10:27:37.349831Z",
          "iopub.execute_input": "2024-06-10T10:27:37.350397Z",
          "iopub.status.idle": "2024-06-10T10:27:37.357499Z",
          "shell.execute_reply.started": "2024-06-10T10:27:37.350357Z",
          "shell.execute_reply": "2024-06-10T10:27:37.356107Z"
        },
        "trusted": true
      }
    },
    {
      "cell_type": "code",
      "source": [
        "learns = [ensemble() for _ in range(5)]"
      ],
      "outputs": [],
      "execution_count": null,
      "metadata": {
        "id": "wK8O6o3L_8LX",
        "execution": {
          "iopub.status.busy": "2024-06-10T10:27:37.519049Z",
          "iopub.execute_input": "2024-06-10T10:27:37.519559Z",
          "iopub.status.idle": "2024-06-10T10:34:07.203058Z",
          "shell.execute_reply.started": "2024-06-10T10:27:37.519518Z",
          "shell.execute_reply": "2024-06-10T10:34:07.201710Z"
        },
        "trusted": true
      }
    },
    {
      "cell_type": "code",
      "source": [
        "ens_preds = torch.stack(learns).mean(0)"
      ],
      "outputs": [],
      "execution_count": null,
      "metadata": {
        "id": "xUlI9CSG_8LY",
        "execution": {
          "iopub.status.busy": "2024-06-10T10:34:07.205893Z",
          "iopub.execute_input": "2024-06-10T10:34:07.206424Z",
          "iopub.status.idle": "2024-06-10T10:34:07.218108Z",
          "shell.execute_reply.started": "2024-06-10T10:34:07.206380Z",
          "shell.execute_reply": "2024-06-10T10:34:07.216762Z"
        },
        "trusted": true
      }
    },
    {
      "cell_type": "code",
      "source": [
        "nn_preds_x.shape,ens_preds.shape"
      ],
      "outputs": [],
      "execution_count": null,
      "metadata": {
        "id": "bbGl6BUp_8LZ",
        "execution": {
          "iopub.status.busy": "2024-06-10T10:38:47.213699Z",
          "iopub.execute_input": "2024-06-10T10:38:47.214931Z",
          "iopub.status.idle": "2024-06-10T10:38:47.222872Z",
          "shell.execute_reply.started": "2024-06-10T10:38:47.214883Z",
          "shell.execute_reply": "2024-06-10T10:38:47.221549Z"
        },
        "trusted": true
      }
    },
    {
      "cell_type": "code",
      "source": [
        "# Assuming ens_preds is a PyTorch tensor with shape [51012, 3]\n",
        "# Select predictions for the first class (index 0)\n",
        "selected_class_preds = ens_preds[:, 0]\n",
        "\n",
        "# Now selected_class_preds has a shape of torch.Size([51012])\n",
        "print(selected_class_preds.shape)\n"
      ],
      "outputs": [],
      "execution_count": null,
      "metadata": {
        "execution": {
          "iopub.status.busy": "2024-06-10T10:44:58.684787Z",
          "iopub.execute_input": "2024-06-10T10:44:58.685309Z",
          "iopub.status.idle": "2024-06-10T10:44:58.692391Z",
          "shell.execute_reply.started": "2024-06-10T10:44:58.685279Z",
          "shell.execute_reply": "2024-06-10T10:44:58.691132Z"
        },
        "trusted": true
      }
    },
    {
      "cell_type": "code",
      "source": [
        "ens_preds_final = ens_preds.squeeze(1)\n",
        "ens_preds_final.shape"
      ],
      "outputs": [],
      "execution_count": null,
      "metadata": {
        "execution": {
          "iopub.status.busy": "2024-06-10T10:39:58.129053Z",
          "iopub.execute_input": "2024-06-10T10:39:58.129582Z",
          "iopub.status.idle": "2024-06-10T10:39:58.138111Z",
          "shell.execute_reply.started": "2024-06-10T10:39:58.129546Z",
          "shell.execute_reply": "2024-06-10T10:39:58.136725Z"
        },
        "trusted": true
      }
    },
    {
      "cell_type": "code",
      "source": [
        "r2_score(y_test,nn_preds_x)"
      ],
      "outputs": [],
      "execution_count": null,
      "metadata": {
        "id": "akcVt1Od_8LZ"
      }
    },
    {
      "cell_type": "code",
      "source": [
        "target_preds = nn_preds[0]"
      ],
      "outputs": [],
      "execution_count": null,
      "metadata": {
        "id": "U_6Z8qnF_8La"
      }
    },
    {
      "cell_type": "code",
      "source": [
        "test_df['FloodProbability'] = target_preds"
      ],
      "outputs": [],
      "execution_count": null,
      "metadata": {
        "id": "Y_hOZQRf_8La"
      }
    },
    {
      "cell_type": "code",
      "source": [
        "test_df.to_csv('submission.csv', columns=['FloodProbability'], index=True)"
      ],
      "outputs": [],
      "execution_count": null,
      "metadata": {
        "id": "zdr1ZYj3_8Lc"
      }
    },
    {
      "cell_type": "code",
      "source": [
        "submission = pd.read_csv('submission.csv')\n",
        "submission.head()"
      ],
      "outputs": [],
      "execution_count": null,
      "metadata": {
        "id": "5iqvRPLv_8Lc"
      }
    },
    {
      "cell_type": "code",
      "source": [
        "!rm submission.csv"
      ],
      "outputs": [],
      "execution_count": null,
      "metadata": {
        "id": "LxMooaAj_8Ld"
      }
    },
    {
      "cell_type": "code",
      "source": [
        "test_df['FloodProbability'] = target_preds\n",
        "test_df.to_csv('submission.csv', columns=['FloodProbability'], index=True)\n",
        "\n",
        "submission = pd.read_csv('submission.csv')\n",
        "submission.head()"
      ],
      "outputs": [],
      "execution_count": null,
      "metadata": {
        "id": "FwUDs3as_8Lf"
      }
    },
    {
      "cell_type": "markdown",
      "source": [
        "### Original Dataset\n",
        "\n",
        "@misc{misc_predict_students'_dropout_and_academic_success_697,\n",
        "  author       = {Realinho,Valentim, Vieira Martins,Mónica, Machado,Jorge, and Baptista,Luís},\n",
        "  title        = {{Predict Students' Dropout and Academic Success}},\n",
        "  year         = {2021},\n",
        "  howpublished = {UCI Machine Learning Repository},\n",
        "  note         = {{DOI}: https://doi.org/10.24432/C5MC89}\n",
        "}"
      ],
      "metadata": {
        "id": "CBvp4q-WRL1O"
      }
    }
  ],
  "metadata": {
    "colab": {
      "provenance": []
    },
    "kaggle": {
      "accelerator": "none",
      "dataSources": [
        {
          "sourceId": 73290,
          "databundleVersionId": 8710574,
          "sourceType": "competition"
        },
        {
          "sourceId": 8574851,
          "sourceType": "datasetVersion",
          "datasetId": 5127429
        }
      ],
      "dockerImageVersionId": 30715,
      "isInternetEnabled": true,
      "language": "python",
      "sourceType": "notebook",
      "isGpuEnabled": false
    },
    "kernelspec": {
      "name": "python38-azureml-pt-tf",
      "language": "python",
      "display_name": "Python 3.8 - Pytorch and Tensorflow"
    },
    "language_info": {
      "name": "python",
      "version": "3.8.5",
      "mimetype": "text/x-python",
      "codemirror_mode": {
        "name": "ipython",
        "version": 3
      },
      "pygments_lexer": "ipython3",
      "nbconvert_exporter": "python",
      "file_extension": ".py"
    },
    "kernel_info": {
      "name": "python38-azureml-pt-tf"
    },
    "microsoft": {
      "ms_spell_check": {
        "ms_spell_check_language": "en"
      }
    },
    "nteract": {
      "version": "nteract-front-end@1.0.0"
    }
  },
  "nbformat": 4,
  "nbformat_minor": 4
}